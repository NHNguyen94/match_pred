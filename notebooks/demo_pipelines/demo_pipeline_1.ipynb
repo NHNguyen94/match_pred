{
 "cells": [
  {
   "cell_type": "markdown",
   "source": [
    "# Set up"
   ],
   "metadata": {
    "collapsed": false
   }
  },
  {
   "cell_type": "code",
   "execution_count": 922,
   "outputs": [],
   "source": [
    "import os\n",
    "import pandas as pd\n",
    "import numpy as np\n",
    "import seaborn as sb\n",
    "import matplotlib.pyplot as plt\n",
    "import xgboost as xgb\n",
    "from sklearn.model_selection import train_test_split\n",
    "from sklearn.metrics import accuracy_score\n",
    "from bayes_opt import BayesianOptimization"
   ],
   "metadata": {
    "collapsed": false,
    "ExecuteTime": {
     "end_time": "2023-06-25T18:16:13.432103600Z",
     "start_time": "2023-06-25T18:16:11.599720700Z"
    }
   }
  },
  {
   "cell_type": "markdown",
   "source": [
    "# Sourcing"
   ],
   "metadata": {
    "collapsed": false
   }
  },
  {
   "cell_type": "code",
   "execution_count": 923,
   "outputs": [],
   "source": [
    "# df = pd.read_csv(\"../../data/raw/train.csv\")\n",
    "# #Save to .feather file for later use with lighter memory, and also git does not allow heavy file, so .csv file cannot be uploaded to the repo\n",
    "# df.to_feather(\"../../data/raw/train.feather\")"
   ],
   "metadata": {
    "collapsed": false,
    "ExecuteTime": {
     "end_time": "2023-06-25T18:16:15.262369500Z",
     "start_time": "2023-06-25T18:16:11.624774900Z"
    }
   }
  },
  {
   "cell_type": "code",
   "execution_count": 924,
   "outputs": [],
   "source": [
    "df = pd.read_feather(\"../../data/raw/train.feather\")"
   ],
   "metadata": {
    "collapsed": false,
    "ExecuteTime": {
     "end_time": "2023-06-25T18:16:21.476446500Z",
     "start_time": "2023-06-25T18:16:11.624774900Z"
    }
   }
  },
  {
   "cell_type": "code",
   "execution_count": 925,
   "outputs": [],
   "source": [
    "data = df.copy()"
   ],
   "metadata": {
    "collapsed": false,
    "ExecuteTime": {
     "end_time": "2023-06-25T18:16:22.584385400Z",
     "start_time": "2023-06-25T18:16:12.798037800Z"
    }
   }
  },
  {
   "cell_type": "code",
   "execution_count": 926,
   "outputs": [
    {
     "data": {
      "text/plain": "         id target     home_team_name         away_team_name  \\\n0  11906497   away  Newell's Old Boys            River Plate   \n1  11984383   home        Real Estelí  Deportivo Las Sabanas   \n2  11983301   draw              UPNFM               Marathón   \n3  11983471   away               León                Morelia   \n4  11883005   home     Cobán Imperial                 Iztapa   \n\n            match_date       league_name  league_id is_cup  \\\n0  2019-12-01 00:45:00         Superliga        636  False   \n1  2019-12-01 01:00:00  Primera Division        752  False   \n2  2019-12-01 01:00:00     Liga Nacional        734  False   \n3  2019-12-01 01:00:00           Liga MX        743  False   \n4  2019-12-01 01:00:00     Liga Nacional        705  False   \n\n   home_team_coach_id  away_team_coach_id  ... away_team_history_league_id_1  \\\n0            468196.0            468200.0  ...                        1122.0   \n1            516788.0          22169161.0  ...                         752.0   \n2           2510608.0            456313.0  ...                         734.0   \n3           1552508.0            465797.0  ...                         743.0   \n4            429958.0            426870.0  ...                         705.0   \n\n  away_team_history_league_id_2 away_team_history_league_id_3  \\\n0                         642.0                         636.0   \n1                         752.0                         752.0   \n2                         734.0                         734.0   \n3                         743.0                         743.0   \n4                         705.0                         705.0   \n\n  away_team_history_league_id_4 away_team_history_league_id_5  \\\n0                         636.0                         636.0   \n1                         752.0                         752.0   \n2                         734.0                         734.0   \n3                         743.0                         743.0   \n4                         705.0                         705.0   \n\n  away_team_history_league_id_6 away_team_history_league_id_7  \\\n0                        1122.0                         636.0   \n1                         752.0                         752.0   \n2                         734.0                         734.0   \n3                         743.0                         743.0   \n4                         705.0                         705.0   \n\n  away_team_history_league_id_8 away_team_history_league_id_9  \\\n0                         642.0                         636.0   \n1                         752.0                         752.0   \n2                         734.0                         734.0   \n3                         743.0                         746.0   \n4                         705.0                         705.0   \n\n  away_team_history_league_id_10  \n0                         1122.0  \n1                          752.0  \n2                          734.0  \n3                          743.0  \n4                          705.0  \n\n[5 rows x 190 columns]",
      "text/html": "<div>\n<style scoped>\n    .dataframe tbody tr th:only-of-type {\n        vertical-align: middle;\n    }\n\n    .dataframe tbody tr th {\n        vertical-align: top;\n    }\n\n    .dataframe thead th {\n        text-align: right;\n    }\n</style>\n<table border=\"1\" class=\"dataframe\">\n  <thead>\n    <tr style=\"text-align: right;\">\n      <th></th>\n      <th>id</th>\n      <th>target</th>\n      <th>home_team_name</th>\n      <th>away_team_name</th>\n      <th>match_date</th>\n      <th>league_name</th>\n      <th>league_id</th>\n      <th>is_cup</th>\n      <th>home_team_coach_id</th>\n      <th>away_team_coach_id</th>\n      <th>...</th>\n      <th>away_team_history_league_id_1</th>\n      <th>away_team_history_league_id_2</th>\n      <th>away_team_history_league_id_3</th>\n      <th>away_team_history_league_id_4</th>\n      <th>away_team_history_league_id_5</th>\n      <th>away_team_history_league_id_6</th>\n      <th>away_team_history_league_id_7</th>\n      <th>away_team_history_league_id_8</th>\n      <th>away_team_history_league_id_9</th>\n      <th>away_team_history_league_id_10</th>\n    </tr>\n  </thead>\n  <tbody>\n    <tr>\n      <th>0</th>\n      <td>11906497</td>\n      <td>away</td>\n      <td>Newell's Old Boys</td>\n      <td>River Plate</td>\n      <td>2019-12-01 00:45:00</td>\n      <td>Superliga</td>\n      <td>636</td>\n      <td>False</td>\n      <td>468196.0</td>\n      <td>468200.0</td>\n      <td>...</td>\n      <td>1122.0</td>\n      <td>642.0</td>\n      <td>636.0</td>\n      <td>636.0</td>\n      <td>636.0</td>\n      <td>1122.0</td>\n      <td>636.0</td>\n      <td>642.0</td>\n      <td>636.0</td>\n      <td>1122.0</td>\n    </tr>\n    <tr>\n      <th>1</th>\n      <td>11984383</td>\n      <td>home</td>\n      <td>Real Estelí</td>\n      <td>Deportivo Las Sabanas</td>\n      <td>2019-12-01 01:00:00</td>\n      <td>Primera Division</td>\n      <td>752</td>\n      <td>False</td>\n      <td>516788.0</td>\n      <td>22169161.0</td>\n      <td>...</td>\n      <td>752.0</td>\n      <td>752.0</td>\n      <td>752.0</td>\n      <td>752.0</td>\n      <td>752.0</td>\n      <td>752.0</td>\n      <td>752.0</td>\n      <td>752.0</td>\n      <td>752.0</td>\n      <td>752.0</td>\n    </tr>\n    <tr>\n      <th>2</th>\n      <td>11983301</td>\n      <td>draw</td>\n      <td>UPNFM</td>\n      <td>Marathón</td>\n      <td>2019-12-01 01:00:00</td>\n      <td>Liga Nacional</td>\n      <td>734</td>\n      <td>False</td>\n      <td>2510608.0</td>\n      <td>456313.0</td>\n      <td>...</td>\n      <td>734.0</td>\n      <td>734.0</td>\n      <td>734.0</td>\n      <td>734.0</td>\n      <td>734.0</td>\n      <td>734.0</td>\n      <td>734.0</td>\n      <td>734.0</td>\n      <td>734.0</td>\n      <td>734.0</td>\n    </tr>\n    <tr>\n      <th>3</th>\n      <td>11983471</td>\n      <td>away</td>\n      <td>León</td>\n      <td>Morelia</td>\n      <td>2019-12-01 01:00:00</td>\n      <td>Liga MX</td>\n      <td>743</td>\n      <td>False</td>\n      <td>1552508.0</td>\n      <td>465797.0</td>\n      <td>...</td>\n      <td>743.0</td>\n      <td>743.0</td>\n      <td>743.0</td>\n      <td>743.0</td>\n      <td>743.0</td>\n      <td>743.0</td>\n      <td>743.0</td>\n      <td>743.0</td>\n      <td>746.0</td>\n      <td>743.0</td>\n    </tr>\n    <tr>\n      <th>4</th>\n      <td>11883005</td>\n      <td>home</td>\n      <td>Cobán Imperial</td>\n      <td>Iztapa</td>\n      <td>2019-12-01 01:00:00</td>\n      <td>Liga Nacional</td>\n      <td>705</td>\n      <td>False</td>\n      <td>429958.0</td>\n      <td>426870.0</td>\n      <td>...</td>\n      <td>705.0</td>\n      <td>705.0</td>\n      <td>705.0</td>\n      <td>705.0</td>\n      <td>705.0</td>\n      <td>705.0</td>\n      <td>705.0</td>\n      <td>705.0</td>\n      <td>705.0</td>\n      <td>705.0</td>\n    </tr>\n  </tbody>\n</table>\n<p>5 rows × 190 columns</p>\n</div>"
     },
     "execution_count": 926,
     "metadata": {},
     "output_type": "execute_result"
    }
   ],
   "source": [
    "data.head()"
   ],
   "metadata": {
    "collapsed": false,
    "ExecuteTime": {
     "end_time": "2023-06-25T18:16:23.396983500Z",
     "start_time": "2023-06-25T18:16:13.123677900Z"
    }
   }
  },
  {
   "cell_type": "code",
   "execution_count": 927,
   "outputs": [
    {
     "data": {
      "text/plain": "id                                  int64\ntarget                             object\nhome_team_name                     object\naway_team_name                     object\nmatch_date                         object\n                                   ...   \naway_team_history_league_id_6     float64\naway_team_history_league_id_7     float64\naway_team_history_league_id_8     float64\naway_team_history_league_id_9     float64\naway_team_history_league_id_10    float64\nLength: 190, dtype: object"
     },
     "execution_count": 927,
     "metadata": {},
     "output_type": "execute_result"
    }
   ],
   "source": [
    "data.dtypes"
   ],
   "metadata": {
    "collapsed": false,
    "ExecuteTime": {
     "end_time": "2023-06-25T18:16:23.397987100Z",
     "start_time": "2023-06-25T18:16:13.161020300Z"
    }
   }
  },
  {
   "cell_type": "markdown",
   "source": [
    "# Data pre-processing"
   ],
   "metadata": {
    "collapsed": false
   }
  },
  {
   "cell_type": "code",
   "execution_count": 928,
   "outputs": [
    {
     "data": {
      "text/plain": "9813"
     },
     "execution_count": 928,
     "metadata": {},
     "output_type": "execute_result"
    }
   ],
   "source": [
    "data['home_team_name'].nunique()"
   ],
   "metadata": {
    "collapsed": false,
    "ExecuteTime": {
     "end_time": "2023-06-25T18:16:23.397987100Z",
     "start_time": "2023-06-25T18:16:13.183802200Z"
    }
   }
  },
  {
   "cell_type": "code",
   "execution_count": 929,
   "outputs": [
    {
     "data": {
      "text/plain": "9892"
     },
     "execution_count": 929,
     "metadata": {},
     "output_type": "execute_result"
    }
   ],
   "source": [
    "data['away_team_name'].nunique()"
   ],
   "metadata": {
    "collapsed": false,
    "ExecuteTime": {
     "end_time": "2023-06-25T18:16:23.452583Z",
     "start_time": "2023-06-25T18:16:13.204500400Z"
    }
   }
  },
  {
   "cell_type": "code",
   "execution_count": 930,
   "outputs": [
    {
     "data": {
      "text/plain": "['away', 'home', 'draw']"
     },
     "execution_count": 930,
     "metadata": {},
     "output_type": "execute_result"
    }
   ],
   "source": [
    "data['target'].unique().tolist()"
   ],
   "metadata": {
    "collapsed": false,
    "ExecuteTime": {
     "end_time": "2023-06-25T18:16:23.452583Z",
     "start_time": "2023-06-25T18:16:13.219902900Z"
    }
   }
  },
  {
   "cell_type": "code",
   "execution_count": 931,
   "outputs": [
    {
     "data": {
      "text/plain": "862"
     },
     "execution_count": 931,
     "metadata": {},
     "output_type": "execute_result"
    }
   ],
   "source": [
    "data['league_id'].nunique()"
   ],
   "metadata": {
    "collapsed": false,
    "ExecuteTime": {
     "end_time": "2023-06-25T18:16:23.455097700Z",
     "start_time": "2023-06-25T18:16:13.239428600Z"
    }
   }
  },
  {
   "cell_type": "markdown",
   "source": [
    "- These categorical columns have too many distinct values, which may create memory constrain for encoding\n",
    "- The historical data columns also have these many distinct values"
   ],
   "metadata": {
    "collapsed": false
   }
  },
  {
   "cell_type": "code",
   "execution_count": 932,
   "outputs": [],
   "source": [
    "null_columns = data.columns[data.isnull().any()]"
   ],
   "metadata": {
    "collapsed": false,
    "ExecuteTime": {
     "end_time": "2023-06-25T18:16:23.456114200Z",
     "start_time": "2023-06-25T18:16:13.290041900Z"
    }
   }
  },
  {
   "cell_type": "code",
   "execution_count": 933,
   "outputs": [
    {
     "data": {
      "text/plain": "['home_team_name',\n 'away_team_name',\n 'league_name',\n 'is_cup',\n 'home_team_coach_id',\n 'away_team_coach_id',\n 'home_team_history_match_date_1',\n 'home_team_history_match_date_2',\n 'home_team_history_match_date_3',\n 'home_team_history_match_date_4',\n 'home_team_history_match_date_5',\n 'home_team_history_match_date_6',\n 'home_team_history_match_date_7',\n 'home_team_history_match_date_8',\n 'home_team_history_match_date_9',\n 'home_team_history_match_date_10',\n 'home_team_history_is_play_home_1',\n 'home_team_history_is_play_home_2',\n 'home_team_history_is_play_home_3',\n 'home_team_history_is_play_home_4',\n 'home_team_history_is_play_home_5',\n 'home_team_history_is_play_home_6',\n 'home_team_history_is_play_home_7',\n 'home_team_history_is_play_home_8',\n 'home_team_history_is_play_home_9',\n 'home_team_history_is_play_home_10',\n 'home_team_history_is_cup_1',\n 'home_team_history_is_cup_2',\n 'home_team_history_is_cup_3',\n 'home_team_history_is_cup_4',\n 'home_team_history_is_cup_5',\n 'home_team_history_is_cup_6',\n 'home_team_history_is_cup_7',\n 'home_team_history_is_cup_8',\n 'home_team_history_is_cup_9',\n 'home_team_history_is_cup_10',\n 'home_team_history_goal_1',\n 'home_team_history_goal_2',\n 'home_team_history_goal_3',\n 'home_team_history_goal_4',\n 'home_team_history_goal_5',\n 'home_team_history_goal_6',\n 'home_team_history_goal_7',\n 'home_team_history_goal_8',\n 'home_team_history_goal_9',\n 'home_team_history_goal_10',\n 'home_team_history_opponent_goal_1',\n 'home_team_history_opponent_goal_2',\n 'home_team_history_opponent_goal_3',\n 'home_team_history_opponent_goal_4',\n 'home_team_history_opponent_goal_5',\n 'home_team_history_opponent_goal_6',\n 'home_team_history_opponent_goal_7',\n 'home_team_history_opponent_goal_8',\n 'home_team_history_opponent_goal_9',\n 'home_team_history_opponent_goal_10',\n 'home_team_history_rating_1',\n 'home_team_history_rating_2',\n 'home_team_history_rating_3',\n 'home_team_history_rating_4',\n 'home_team_history_rating_5',\n 'home_team_history_rating_6',\n 'home_team_history_rating_7',\n 'home_team_history_rating_8',\n 'home_team_history_rating_9',\n 'home_team_history_rating_10',\n 'home_team_history_opponent_rating_1',\n 'home_team_history_opponent_rating_2',\n 'home_team_history_opponent_rating_3',\n 'home_team_history_opponent_rating_4',\n 'home_team_history_opponent_rating_5',\n 'home_team_history_opponent_rating_6',\n 'home_team_history_opponent_rating_7',\n 'home_team_history_opponent_rating_8',\n 'home_team_history_opponent_rating_9',\n 'home_team_history_opponent_rating_10',\n 'home_team_history_coach_1',\n 'home_team_history_coach_2',\n 'home_team_history_coach_3',\n 'home_team_history_coach_4',\n 'home_team_history_coach_5',\n 'home_team_history_coach_6',\n 'home_team_history_coach_7',\n 'home_team_history_coach_8',\n 'home_team_history_coach_9',\n 'home_team_history_coach_10',\n 'home_team_history_league_id_1',\n 'home_team_history_league_id_2',\n 'home_team_history_league_id_3',\n 'home_team_history_league_id_4',\n 'home_team_history_league_id_5',\n 'home_team_history_league_id_6',\n 'home_team_history_league_id_7',\n 'home_team_history_league_id_8',\n 'home_team_history_league_id_9',\n 'home_team_history_league_id_10',\n 'away_team_history_match_date_1',\n 'away_team_history_match_date_2',\n 'away_team_history_match_date_3',\n 'away_team_history_match_date_4',\n 'away_team_history_match_date_5',\n 'away_team_history_match_date_6',\n 'away_team_history_match_date_7',\n 'away_team_history_match_date_8',\n 'away_team_history_match_date_9',\n 'away_team_history_match_date_10',\n 'away_team_history_is_play_home_1',\n 'away_team_history_is_play_home_2',\n 'away_team_history_is_play_home_3',\n 'away_team_history_is_play_home_4',\n 'away_team_history_is_play_home_5',\n 'away_team_history_is_play_home_6',\n 'away_team_history_is_play_home_7',\n 'away_team_history_is_play_home_8',\n 'away_team_history_is_play_home_9',\n 'away_team_history_is_play_home_10',\n 'away_team_history_is_cup_1',\n 'away_team_history_is_cup_2',\n 'away_team_history_is_cup_3',\n 'away_team_history_is_cup_4',\n 'away_team_history_is_cup_5',\n 'away_team_history_is_cup_6',\n 'away_team_history_is_cup_7',\n 'away_team_history_is_cup_8',\n 'away_team_history_is_cup_9',\n 'away_team_history_is_cup_10',\n 'away_team_history_goal_1',\n 'away_team_history_goal_2',\n 'away_team_history_goal_3',\n 'away_team_history_goal_4',\n 'away_team_history_goal_5',\n 'away_team_history_goal_6',\n 'away_team_history_goal_7',\n 'away_team_history_goal_8',\n 'away_team_history_goal_9',\n 'away_team_history_goal_10',\n 'away_team_history_opponent_goal_1',\n 'away_team_history_opponent_goal_2',\n 'away_team_history_opponent_goal_3',\n 'away_team_history_opponent_goal_4',\n 'away_team_history_opponent_goal_5',\n 'away_team_history_opponent_goal_6',\n 'away_team_history_opponent_goal_7',\n 'away_team_history_opponent_goal_8',\n 'away_team_history_opponent_goal_9',\n 'away_team_history_opponent_goal_10',\n 'away_team_history_rating_1',\n 'away_team_history_rating_2',\n 'away_team_history_rating_3',\n 'away_team_history_rating_4',\n 'away_team_history_rating_5',\n 'away_team_history_rating_6',\n 'away_team_history_rating_7',\n 'away_team_history_rating_8',\n 'away_team_history_rating_9',\n 'away_team_history_rating_10',\n 'away_team_history_opponent_rating_1',\n 'away_team_history_opponent_rating_2',\n 'away_team_history_opponent_rating_3',\n 'away_team_history_opponent_rating_4',\n 'away_team_history_opponent_rating_5',\n 'away_team_history_opponent_rating_6',\n 'away_team_history_opponent_rating_7',\n 'away_team_history_opponent_rating_8',\n 'away_team_history_opponent_rating_9',\n 'away_team_history_opponent_rating_10',\n 'away_team_history_coach_1',\n 'away_team_history_coach_2',\n 'away_team_history_coach_3',\n 'away_team_history_coach_4',\n 'away_team_history_coach_5',\n 'away_team_history_coach_6',\n 'away_team_history_coach_7',\n 'away_team_history_coach_8',\n 'away_team_history_coach_9',\n 'away_team_history_coach_10',\n 'away_team_history_league_id_1',\n 'away_team_history_league_id_2',\n 'away_team_history_league_id_3',\n 'away_team_history_league_id_4',\n 'away_team_history_league_id_5',\n 'away_team_history_league_id_6',\n 'away_team_history_league_id_7',\n 'away_team_history_league_id_8',\n 'away_team_history_league_id_9',\n 'away_team_history_league_id_10']"
     },
     "execution_count": 933,
     "metadata": {},
     "output_type": "execute_result"
    }
   ],
   "source": [
    "null_columns.tolist()"
   ],
   "metadata": {
    "collapsed": false,
    "ExecuteTime": {
     "end_time": "2023-06-25T18:16:23.458122900Z",
     "start_time": "2023-06-25T18:16:13.707991800Z"
    }
   }
  },
  {
   "cell_type": "markdown",
   "source": [
    "- It's obvious that the historical columns might contain null values, but there are columns that are not supposed to have nulls"
   ],
   "metadata": {
    "collapsed": false
   }
  },
  {
   "cell_type": "code",
   "execution_count": 934,
   "outputs": [],
   "source": [
    "null_col_to_check = ['home_team_name',\n",
    " 'away_team_name',\n",
    " 'league_name',\n",
    " 'is_cup',\n",
    " 'home_team_coach_id',\n",
    " 'away_team_coach_id',]"
   ],
   "metadata": {
    "collapsed": false,
    "ExecuteTime": {
     "end_time": "2023-06-25T18:16:23.458122900Z",
     "start_time": "2023-06-25T18:16:13.712963500Z"
    }
   }
  },
  {
   "cell_type": "code",
   "execution_count": 935,
   "outputs": [
    {
     "data": {
      "text/plain": "             id target home_team_name away_team_name           match_date  \\\n33562  16622092   away           None           None  2020-07-23 15:00:00   \n\n      league_name  league_id is_cup  home_team_coach_id  away_team_coach_id  \\\n33562        None       1101   None                 NaN                 NaN   \n\n       ... away_team_history_league_id_1 away_team_history_league_id_2  \\\n33562  ...                         830.0                        1108.0   \n\n      away_team_history_league_id_3 away_team_history_league_id_4  \\\n33562                        1108.0                        1412.0   \n\n      away_team_history_league_id_5 away_team_history_league_id_6  \\\n33562                         830.0                         830.0   \n\n      away_team_history_league_id_7 away_team_history_league_id_8  \\\n33562                        1108.0                         830.0   \n\n      away_team_history_league_id_9 away_team_history_league_id_10  \n33562                        1108.0                          830.0  \n\n[1 rows x 190 columns]",
      "text/html": "<div>\n<style scoped>\n    .dataframe tbody tr th:only-of-type {\n        vertical-align: middle;\n    }\n\n    .dataframe tbody tr th {\n        vertical-align: top;\n    }\n\n    .dataframe thead th {\n        text-align: right;\n    }\n</style>\n<table border=\"1\" class=\"dataframe\">\n  <thead>\n    <tr style=\"text-align: right;\">\n      <th></th>\n      <th>id</th>\n      <th>target</th>\n      <th>home_team_name</th>\n      <th>away_team_name</th>\n      <th>match_date</th>\n      <th>league_name</th>\n      <th>league_id</th>\n      <th>is_cup</th>\n      <th>home_team_coach_id</th>\n      <th>away_team_coach_id</th>\n      <th>...</th>\n      <th>away_team_history_league_id_1</th>\n      <th>away_team_history_league_id_2</th>\n      <th>away_team_history_league_id_3</th>\n      <th>away_team_history_league_id_4</th>\n      <th>away_team_history_league_id_5</th>\n      <th>away_team_history_league_id_6</th>\n      <th>away_team_history_league_id_7</th>\n      <th>away_team_history_league_id_8</th>\n      <th>away_team_history_league_id_9</th>\n      <th>away_team_history_league_id_10</th>\n    </tr>\n  </thead>\n  <tbody>\n    <tr>\n      <th>33562</th>\n      <td>16622092</td>\n      <td>away</td>\n      <td>None</td>\n      <td>None</td>\n      <td>2020-07-23 15:00:00</td>\n      <td>None</td>\n      <td>1101</td>\n      <td>None</td>\n      <td>NaN</td>\n      <td>NaN</td>\n      <td>...</td>\n      <td>830.0</td>\n      <td>1108.0</td>\n      <td>1108.0</td>\n      <td>1412.0</td>\n      <td>830.0</td>\n      <td>830.0</td>\n      <td>1108.0</td>\n      <td>830.0</td>\n      <td>1108.0</td>\n      <td>830.0</td>\n    </tr>\n  </tbody>\n</table>\n<p>1 rows × 190 columns</p>\n</div>"
     },
     "execution_count": 935,
     "metadata": {},
     "output_type": "execute_result"
    }
   ],
   "source": [
    "data[data['home_team_name'].isnull()]"
   ],
   "metadata": {
    "collapsed": false,
    "ExecuteTime": {
     "end_time": "2023-06-25T18:16:23.459117100Z",
     "start_time": "2023-06-25T18:16:13.723975300Z"
    }
   }
  },
  {
   "cell_type": "code",
   "execution_count": 936,
   "outputs": [
    {
     "data": {
      "text/plain": "             id target home_team_name away_team_name           match_date  \\\n33562  16622092   away           None           None  2020-07-23 15:00:00   \n\n      league_name  league_id is_cup  home_team_coach_id  away_team_coach_id  \\\n33562        None       1101   None                 NaN                 NaN   \n\n       ... away_team_history_league_id_1 away_team_history_league_id_2  \\\n33562  ...                         830.0                        1108.0   \n\n      away_team_history_league_id_3 away_team_history_league_id_4  \\\n33562                        1108.0                        1412.0   \n\n      away_team_history_league_id_5 away_team_history_league_id_6  \\\n33562                         830.0                         830.0   \n\n      away_team_history_league_id_7 away_team_history_league_id_8  \\\n33562                        1108.0                         830.0   \n\n      away_team_history_league_id_9 away_team_history_league_id_10  \n33562                        1108.0                          830.0  \n\n[1 rows x 190 columns]",
      "text/html": "<div>\n<style scoped>\n    .dataframe tbody tr th:only-of-type {\n        vertical-align: middle;\n    }\n\n    .dataframe tbody tr th {\n        vertical-align: top;\n    }\n\n    .dataframe thead th {\n        text-align: right;\n    }\n</style>\n<table border=\"1\" class=\"dataframe\">\n  <thead>\n    <tr style=\"text-align: right;\">\n      <th></th>\n      <th>id</th>\n      <th>target</th>\n      <th>home_team_name</th>\n      <th>away_team_name</th>\n      <th>match_date</th>\n      <th>league_name</th>\n      <th>league_id</th>\n      <th>is_cup</th>\n      <th>home_team_coach_id</th>\n      <th>away_team_coach_id</th>\n      <th>...</th>\n      <th>away_team_history_league_id_1</th>\n      <th>away_team_history_league_id_2</th>\n      <th>away_team_history_league_id_3</th>\n      <th>away_team_history_league_id_4</th>\n      <th>away_team_history_league_id_5</th>\n      <th>away_team_history_league_id_6</th>\n      <th>away_team_history_league_id_7</th>\n      <th>away_team_history_league_id_8</th>\n      <th>away_team_history_league_id_9</th>\n      <th>away_team_history_league_id_10</th>\n    </tr>\n  </thead>\n  <tbody>\n    <tr>\n      <th>33562</th>\n      <td>16622092</td>\n      <td>away</td>\n      <td>None</td>\n      <td>None</td>\n      <td>2020-07-23 15:00:00</td>\n      <td>None</td>\n      <td>1101</td>\n      <td>None</td>\n      <td>NaN</td>\n      <td>NaN</td>\n      <td>...</td>\n      <td>830.0</td>\n      <td>1108.0</td>\n      <td>1108.0</td>\n      <td>1412.0</td>\n      <td>830.0</td>\n      <td>830.0</td>\n      <td>1108.0</td>\n      <td>830.0</td>\n      <td>1108.0</td>\n      <td>830.0</td>\n    </tr>\n  </tbody>\n</table>\n<p>1 rows × 190 columns</p>\n</div>"
     },
     "execution_count": 936,
     "metadata": {},
     "output_type": "execute_result"
    }
   ],
   "source": [
    "data[data['away_team_name'].isnull()]"
   ],
   "metadata": {
    "collapsed": false,
    "ExecuteTime": {
     "end_time": "2023-06-25T18:16:23.459117100Z",
     "start_time": "2023-06-25T18:16:13.774123800Z"
    }
   }
  },
  {
   "cell_type": "code",
   "execution_count": 937,
   "outputs": [
    {
     "data": {
      "text/plain": "             id target home_team_name away_team_name           match_date  \\\n33562  16622092   away           None           None  2020-07-23 15:00:00   \n\n      league_name  league_id is_cup  home_team_coach_id  away_team_coach_id  \\\n33562        None       1101   None                 NaN                 NaN   \n\n       ... away_team_history_league_id_1 away_team_history_league_id_2  \\\n33562  ...                         830.0                        1108.0   \n\n      away_team_history_league_id_3 away_team_history_league_id_4  \\\n33562                        1108.0                        1412.0   \n\n      away_team_history_league_id_5 away_team_history_league_id_6  \\\n33562                         830.0                         830.0   \n\n      away_team_history_league_id_7 away_team_history_league_id_8  \\\n33562                        1108.0                         830.0   \n\n      away_team_history_league_id_9 away_team_history_league_id_10  \n33562                        1108.0                          830.0  \n\n[1 rows x 190 columns]",
      "text/html": "<div>\n<style scoped>\n    .dataframe tbody tr th:only-of-type {\n        vertical-align: middle;\n    }\n\n    .dataframe tbody tr th {\n        vertical-align: top;\n    }\n\n    .dataframe thead th {\n        text-align: right;\n    }\n</style>\n<table border=\"1\" class=\"dataframe\">\n  <thead>\n    <tr style=\"text-align: right;\">\n      <th></th>\n      <th>id</th>\n      <th>target</th>\n      <th>home_team_name</th>\n      <th>away_team_name</th>\n      <th>match_date</th>\n      <th>league_name</th>\n      <th>league_id</th>\n      <th>is_cup</th>\n      <th>home_team_coach_id</th>\n      <th>away_team_coach_id</th>\n      <th>...</th>\n      <th>away_team_history_league_id_1</th>\n      <th>away_team_history_league_id_2</th>\n      <th>away_team_history_league_id_3</th>\n      <th>away_team_history_league_id_4</th>\n      <th>away_team_history_league_id_5</th>\n      <th>away_team_history_league_id_6</th>\n      <th>away_team_history_league_id_7</th>\n      <th>away_team_history_league_id_8</th>\n      <th>away_team_history_league_id_9</th>\n      <th>away_team_history_league_id_10</th>\n    </tr>\n  </thead>\n  <tbody>\n    <tr>\n      <th>33562</th>\n      <td>16622092</td>\n      <td>away</td>\n      <td>None</td>\n      <td>None</td>\n      <td>2020-07-23 15:00:00</td>\n      <td>None</td>\n      <td>1101</td>\n      <td>None</td>\n      <td>NaN</td>\n      <td>NaN</td>\n      <td>...</td>\n      <td>830.0</td>\n      <td>1108.0</td>\n      <td>1108.0</td>\n      <td>1412.0</td>\n      <td>830.0</td>\n      <td>830.0</td>\n      <td>1108.0</td>\n      <td>830.0</td>\n      <td>1108.0</td>\n      <td>830.0</td>\n    </tr>\n  </tbody>\n</table>\n<p>1 rows × 190 columns</p>\n</div>"
     },
     "execution_count": 937,
     "metadata": {},
     "output_type": "execute_result"
    }
   ],
   "source": [
    "data[data['league_name'].isnull()]"
   ],
   "metadata": {
    "collapsed": false,
    "ExecuteTime": {
     "end_time": "2023-06-25T18:16:23.459117100Z",
     "start_time": "2023-06-25T18:16:13.796829700Z"
    }
   }
  },
  {
   "cell_type": "code",
   "execution_count": 938,
   "outputs": [
    {
     "data": {
      "text/plain": "             id target home_team_name away_team_name           match_date  \\\n33562  16622092   away           None           None  2020-07-23 15:00:00   \n\n      league_name  league_id is_cup  home_team_coach_id  away_team_coach_id  \\\n33562        None       1101   None                 NaN                 NaN   \n\n       ... away_team_history_league_id_1 away_team_history_league_id_2  \\\n33562  ...                         830.0                        1108.0   \n\n      away_team_history_league_id_3 away_team_history_league_id_4  \\\n33562                        1108.0                        1412.0   \n\n      away_team_history_league_id_5 away_team_history_league_id_6  \\\n33562                         830.0                         830.0   \n\n      away_team_history_league_id_7 away_team_history_league_id_8  \\\n33562                        1108.0                         830.0   \n\n      away_team_history_league_id_9 away_team_history_league_id_10  \n33562                        1108.0                          830.0  \n\n[1 rows x 190 columns]",
      "text/html": "<div>\n<style scoped>\n    .dataframe tbody tr th:only-of-type {\n        vertical-align: middle;\n    }\n\n    .dataframe tbody tr th {\n        vertical-align: top;\n    }\n\n    .dataframe thead th {\n        text-align: right;\n    }\n</style>\n<table border=\"1\" class=\"dataframe\">\n  <thead>\n    <tr style=\"text-align: right;\">\n      <th></th>\n      <th>id</th>\n      <th>target</th>\n      <th>home_team_name</th>\n      <th>away_team_name</th>\n      <th>match_date</th>\n      <th>league_name</th>\n      <th>league_id</th>\n      <th>is_cup</th>\n      <th>home_team_coach_id</th>\n      <th>away_team_coach_id</th>\n      <th>...</th>\n      <th>away_team_history_league_id_1</th>\n      <th>away_team_history_league_id_2</th>\n      <th>away_team_history_league_id_3</th>\n      <th>away_team_history_league_id_4</th>\n      <th>away_team_history_league_id_5</th>\n      <th>away_team_history_league_id_6</th>\n      <th>away_team_history_league_id_7</th>\n      <th>away_team_history_league_id_8</th>\n      <th>away_team_history_league_id_9</th>\n      <th>away_team_history_league_id_10</th>\n    </tr>\n  </thead>\n  <tbody>\n    <tr>\n      <th>33562</th>\n      <td>16622092</td>\n      <td>away</td>\n      <td>None</td>\n      <td>None</td>\n      <td>2020-07-23 15:00:00</td>\n      <td>None</td>\n      <td>1101</td>\n      <td>None</td>\n      <td>NaN</td>\n      <td>NaN</td>\n      <td>...</td>\n      <td>830.0</td>\n      <td>1108.0</td>\n      <td>1108.0</td>\n      <td>1412.0</td>\n      <td>830.0</td>\n      <td>830.0</td>\n      <td>1108.0</td>\n      <td>830.0</td>\n      <td>1108.0</td>\n      <td>830.0</td>\n    </tr>\n  </tbody>\n</table>\n<p>1 rows × 190 columns</p>\n</div>"
     },
     "execution_count": 938,
     "metadata": {},
     "output_type": "execute_result"
    }
   ],
   "source": [
    "data[data['is_cup'].isnull()]"
   ],
   "metadata": {
    "collapsed": false,
    "ExecuteTime": {
     "end_time": "2023-06-25T18:16:23.460653600Z",
     "start_time": "2023-06-25T18:16:13.811707400Z"
    }
   }
  },
  {
   "cell_type": "markdown",
   "source": [
    "- It seems like the match with id = 16622092 lacking a lot of data => Remove this match"
   ],
   "metadata": {
    "collapsed": false
   }
  },
  {
   "cell_type": "code",
   "execution_count": 939,
   "outputs": [],
   "source": [
    "data = data[data['id']!=16622092]"
   ],
   "metadata": {
    "collapsed": false,
    "ExecuteTime": {
     "end_time": "2023-06-25T18:16:23.460653600Z",
     "start_time": "2023-06-25T18:16:13.840428400Z"
    }
   }
  },
  {
   "cell_type": "code",
   "execution_count": 940,
   "outputs": [],
   "source": [
    "data.reset_index(drop=True, inplace=True)"
   ],
   "metadata": {
    "collapsed": false,
    "ExecuteTime": {
     "end_time": "2023-06-25T18:16:23.460653600Z",
     "start_time": "2023-06-25T18:16:14.272635700Z"
    }
   }
  },
  {
   "cell_type": "code",
   "execution_count": 941,
   "outputs": [
    {
     "data": {
      "text/plain": "              id target     home_team_name       away_team_name  \\\n1014    11985210   draw             Bassam                 AFAD   \n1040    11985211   home       ASEC Mimosas                Tanda   \n1119    11985565   draw       Busan I'Park            Gyeongnam   \n2123    11986033   home              Kenya             Tanzania   \n2517    11929342   away      Fuente Cantos               Moralo   \n...          ...    ...                ...                  ...   \n110909  18012778   draw  Delfines Del Este  Don Bosco Jarabacoa   \n110922  17883598   away   EB / Streymur II                  B71   \n110923  17883597   away              HB II               NSÍ II   \n110925  18036579   draw              Hawks         Armed Forces   \n110928  18044976   home      Tevragh-Zeïne             Tidjikja   \n\n                 match_date                  league_name  league_id is_cup  \\\n1014    2019-12-04 15:30:00                      Ligue 1        827  False   \n1040    2019-12-04 18:00:00                      Ligue 1        827  False   \n1119    2019-12-05 10:00:00          K-League Relegation       1662  False   \n2123    2019-12-08 13:00:00  CECAFA Senior Challenge Cup       1110   True   \n2517    2019-12-09 11:00:00           Tercera - Group 14       1271  False   \n...                     ...                          ...        ...    ...   \n110909  2021-04-30 21:00:00                   Liga Mayor       1341  False   \n110922  2021-04-30 22:00:00                     1. Deild        280  False   \n110923  2021-04-30 22:00:00                     1. Deild        280  False   \n110925  2021-04-30 22:30:00                   GFA League       1644  False   \n110928  2021-04-30 23:00:00                     Super D1       1524  False   \n\n        home_team_coach_id  away_team_coach_id  ...  \\\n1014                   NaN                 NaN  ...   \n1040                   NaN                 NaN  ...   \n1119                   NaN                 NaN  ...   \n2123                   NaN                 NaN  ...   \n2517                   NaN                 NaN  ...   \n...                    ...                 ...  ...   \n110909                 NaN                 NaN  ...   \n110922                 NaN          37525676.0  ...   \n110923                 NaN                 NaN  ...   \n110925                 NaN                 NaN  ...   \n110928                 NaN                 NaN  ...   \n\n       away_team_history_league_id_1 away_team_history_league_id_2  \\\n1014                           827.0                         827.0   \n1040                           827.0                         827.0   \n1119                          1034.0                        1034.0   \n2123                          1118.0                        1118.0   \n2517                          1271.0                        1271.0   \n...                              ...                           ...   \n110909                        1341.0                        1341.0   \n110922                         280.0                         280.0   \n110923                         280.0                         280.0   \n110925                        1644.0                        1644.0   \n110928                        1524.0                        1524.0   \n\n       away_team_history_league_id_3 away_team_history_league_id_4  \\\n1014                           827.0                         827.0   \n1040                           827.0                         827.0   \n1119                          1034.0                        1034.0   \n2123                          1103.0                        1082.0   \n2517                          1271.0                        1271.0   \n...                              ...                           ...   \n110909                        1341.0                        1341.0   \n110922                         280.0                         280.0   \n110923                         280.0                         280.0   \n110925                        1644.0                        1107.0   \n110928                        1524.0                        1524.0   \n\n       away_team_history_league_id_5 away_team_history_league_id_6  \\\n1014                           827.0                         827.0   \n1040                           827.0                         827.0   \n1119                          1034.0                        1034.0   \n2123                          1103.0                         711.0   \n2517                          1271.0                        1271.0   \n...                              ...                           ...   \n110909                        1341.0                        1341.0   \n110922                         280.0                         280.0   \n110923                         280.0                         280.0   \n110925                           NaN                           NaN   \n110928                        1524.0                        1524.0   \n\n       away_team_history_league_id_7 away_team_history_league_id_8  \\\n1014                             NaN                           NaN   \n1040                             NaN                           NaN   \n1119                          1034.0                        1034.0   \n2123                           711.0                        1103.0   \n2517                          1271.0                        1589.0   \n...                              ...                           ...   \n110909                        1341.0                        1341.0   \n110922                         280.0                         280.0   \n110923                         280.0                         280.0   \n110925                           NaN                           NaN   \n110928                        1524.0                        1524.0   \n\n       away_team_history_league_id_9 away_team_history_league_id_10  \n1014                             NaN                            NaN  \n1040                             NaN                            NaN  \n1119                          1034.0                         1034.0  \n2123                          1103.0                         1117.0  \n2517                          1589.0                         1589.0  \n...                              ...                            ...  \n110909                        1341.0                         1341.0  \n110922                         280.0                          280.0  \n110923                         280.0                          280.0  \n110925                           NaN                            NaN  \n110928                        1524.0                         1524.0  \n\n[21720 rows x 190 columns]",
      "text/html": "<div>\n<style scoped>\n    .dataframe tbody tr th:only-of-type {\n        vertical-align: middle;\n    }\n\n    .dataframe tbody tr th {\n        vertical-align: top;\n    }\n\n    .dataframe thead th {\n        text-align: right;\n    }\n</style>\n<table border=\"1\" class=\"dataframe\">\n  <thead>\n    <tr style=\"text-align: right;\">\n      <th></th>\n      <th>id</th>\n      <th>target</th>\n      <th>home_team_name</th>\n      <th>away_team_name</th>\n      <th>match_date</th>\n      <th>league_name</th>\n      <th>league_id</th>\n      <th>is_cup</th>\n      <th>home_team_coach_id</th>\n      <th>away_team_coach_id</th>\n      <th>...</th>\n      <th>away_team_history_league_id_1</th>\n      <th>away_team_history_league_id_2</th>\n      <th>away_team_history_league_id_3</th>\n      <th>away_team_history_league_id_4</th>\n      <th>away_team_history_league_id_5</th>\n      <th>away_team_history_league_id_6</th>\n      <th>away_team_history_league_id_7</th>\n      <th>away_team_history_league_id_8</th>\n      <th>away_team_history_league_id_9</th>\n      <th>away_team_history_league_id_10</th>\n    </tr>\n  </thead>\n  <tbody>\n    <tr>\n      <th>1014</th>\n      <td>11985210</td>\n      <td>draw</td>\n      <td>Bassam</td>\n      <td>AFAD</td>\n      <td>2019-12-04 15:30:00</td>\n      <td>Ligue 1</td>\n      <td>827</td>\n      <td>False</td>\n      <td>NaN</td>\n      <td>NaN</td>\n      <td>...</td>\n      <td>827.0</td>\n      <td>827.0</td>\n      <td>827.0</td>\n      <td>827.0</td>\n      <td>827.0</td>\n      <td>827.0</td>\n      <td>NaN</td>\n      <td>NaN</td>\n      <td>NaN</td>\n      <td>NaN</td>\n    </tr>\n    <tr>\n      <th>1040</th>\n      <td>11985211</td>\n      <td>home</td>\n      <td>ASEC Mimosas</td>\n      <td>Tanda</td>\n      <td>2019-12-04 18:00:00</td>\n      <td>Ligue 1</td>\n      <td>827</td>\n      <td>False</td>\n      <td>NaN</td>\n      <td>NaN</td>\n      <td>...</td>\n      <td>827.0</td>\n      <td>827.0</td>\n      <td>827.0</td>\n      <td>827.0</td>\n      <td>827.0</td>\n      <td>827.0</td>\n      <td>NaN</td>\n      <td>NaN</td>\n      <td>NaN</td>\n      <td>NaN</td>\n    </tr>\n    <tr>\n      <th>1119</th>\n      <td>11985565</td>\n      <td>draw</td>\n      <td>Busan I'Park</td>\n      <td>Gyeongnam</td>\n      <td>2019-12-05 10:00:00</td>\n      <td>K-League Relegation</td>\n      <td>1662</td>\n      <td>False</td>\n      <td>NaN</td>\n      <td>NaN</td>\n      <td>...</td>\n      <td>1034.0</td>\n      <td>1034.0</td>\n      <td>1034.0</td>\n      <td>1034.0</td>\n      <td>1034.0</td>\n      <td>1034.0</td>\n      <td>1034.0</td>\n      <td>1034.0</td>\n      <td>1034.0</td>\n      <td>1034.0</td>\n    </tr>\n    <tr>\n      <th>2123</th>\n      <td>11986033</td>\n      <td>home</td>\n      <td>Kenya</td>\n      <td>Tanzania</td>\n      <td>2019-12-08 13:00:00</td>\n      <td>CECAFA Senior Challenge Cup</td>\n      <td>1110</td>\n      <td>True</td>\n      <td>NaN</td>\n      <td>NaN</td>\n      <td>...</td>\n      <td>1118.0</td>\n      <td>1118.0</td>\n      <td>1103.0</td>\n      <td>1082.0</td>\n      <td>1103.0</td>\n      <td>711.0</td>\n      <td>711.0</td>\n      <td>1103.0</td>\n      <td>1103.0</td>\n      <td>1117.0</td>\n    </tr>\n    <tr>\n      <th>2517</th>\n      <td>11929342</td>\n      <td>away</td>\n      <td>Fuente Cantos</td>\n      <td>Moralo</td>\n      <td>2019-12-09 11:00:00</td>\n      <td>Tercera - Group 14</td>\n      <td>1271</td>\n      <td>False</td>\n      <td>NaN</td>\n      <td>NaN</td>\n      <td>...</td>\n      <td>1271.0</td>\n      <td>1271.0</td>\n      <td>1271.0</td>\n      <td>1271.0</td>\n      <td>1271.0</td>\n      <td>1271.0</td>\n      <td>1271.0</td>\n      <td>1589.0</td>\n      <td>1589.0</td>\n      <td>1589.0</td>\n    </tr>\n    <tr>\n      <th>...</th>\n      <td>...</td>\n      <td>...</td>\n      <td>...</td>\n      <td>...</td>\n      <td>...</td>\n      <td>...</td>\n      <td>...</td>\n      <td>...</td>\n      <td>...</td>\n      <td>...</td>\n      <td>...</td>\n      <td>...</td>\n      <td>...</td>\n      <td>...</td>\n      <td>...</td>\n      <td>...</td>\n      <td>...</td>\n      <td>...</td>\n      <td>...</td>\n      <td>...</td>\n      <td>...</td>\n    </tr>\n    <tr>\n      <th>110909</th>\n      <td>18012778</td>\n      <td>draw</td>\n      <td>Delfines Del Este</td>\n      <td>Don Bosco Jarabacoa</td>\n      <td>2021-04-30 21:00:00</td>\n      <td>Liga Mayor</td>\n      <td>1341</td>\n      <td>False</td>\n      <td>NaN</td>\n      <td>NaN</td>\n      <td>...</td>\n      <td>1341.0</td>\n      <td>1341.0</td>\n      <td>1341.0</td>\n      <td>1341.0</td>\n      <td>1341.0</td>\n      <td>1341.0</td>\n      <td>1341.0</td>\n      <td>1341.0</td>\n      <td>1341.0</td>\n      <td>1341.0</td>\n    </tr>\n    <tr>\n      <th>110922</th>\n      <td>17883598</td>\n      <td>away</td>\n      <td>EB / Streymur II</td>\n      <td>B71</td>\n      <td>2021-04-30 22:00:00</td>\n      <td>1. Deild</td>\n      <td>280</td>\n      <td>False</td>\n      <td>NaN</td>\n      <td>37525676.0</td>\n      <td>...</td>\n      <td>280.0</td>\n      <td>280.0</td>\n      <td>280.0</td>\n      <td>280.0</td>\n      <td>280.0</td>\n      <td>280.0</td>\n      <td>280.0</td>\n      <td>280.0</td>\n      <td>280.0</td>\n      <td>280.0</td>\n    </tr>\n    <tr>\n      <th>110923</th>\n      <td>17883597</td>\n      <td>away</td>\n      <td>HB II</td>\n      <td>NSÍ II</td>\n      <td>2021-04-30 22:00:00</td>\n      <td>1. Deild</td>\n      <td>280</td>\n      <td>False</td>\n      <td>NaN</td>\n      <td>NaN</td>\n      <td>...</td>\n      <td>280.0</td>\n      <td>280.0</td>\n      <td>280.0</td>\n      <td>280.0</td>\n      <td>280.0</td>\n      <td>280.0</td>\n      <td>280.0</td>\n      <td>280.0</td>\n      <td>280.0</td>\n      <td>280.0</td>\n    </tr>\n    <tr>\n      <th>110925</th>\n      <td>18036579</td>\n      <td>draw</td>\n      <td>Hawks</td>\n      <td>Armed Forces</td>\n      <td>2021-04-30 22:30:00</td>\n      <td>GFA League</td>\n      <td>1644</td>\n      <td>False</td>\n      <td>NaN</td>\n      <td>NaN</td>\n      <td>...</td>\n      <td>1644.0</td>\n      <td>1644.0</td>\n      <td>1644.0</td>\n      <td>1107.0</td>\n      <td>NaN</td>\n      <td>NaN</td>\n      <td>NaN</td>\n      <td>NaN</td>\n      <td>NaN</td>\n      <td>NaN</td>\n    </tr>\n    <tr>\n      <th>110928</th>\n      <td>18044976</td>\n      <td>home</td>\n      <td>Tevragh-Zeïne</td>\n      <td>Tidjikja</td>\n      <td>2021-04-30 23:00:00</td>\n      <td>Super D1</td>\n      <td>1524</td>\n      <td>False</td>\n      <td>NaN</td>\n      <td>NaN</td>\n      <td>...</td>\n      <td>1524.0</td>\n      <td>1524.0</td>\n      <td>1524.0</td>\n      <td>1524.0</td>\n      <td>1524.0</td>\n      <td>1524.0</td>\n      <td>1524.0</td>\n      <td>1524.0</td>\n      <td>1524.0</td>\n      <td>1524.0</td>\n    </tr>\n  </tbody>\n</table>\n<p>21720 rows × 190 columns</p>\n</div>"
     },
     "execution_count": 941,
     "metadata": {},
     "output_type": "execute_result"
    }
   ],
   "source": [
    "data[data['home_team_coach_id'].isnull()]"
   ],
   "metadata": {
    "collapsed": false,
    "ExecuteTime": {
     "end_time": "2023-06-25T18:16:23.461683300Z",
     "start_time": "2023-06-25T18:16:14.272635700Z"
    }
   }
  },
  {
   "cell_type": "code",
   "execution_count": 942,
   "outputs": [
    {
     "data": {
      "text/plain": "              id target     home_team_name       away_team_name  \\\n1014    11985210   draw             Bassam                 AFAD   \n1040    11985211   home       ASEC Mimosas                Tanda   \n1119    11985565   draw       Busan I'Park            Gyeongnam   \n2123    11986033   home              Kenya             Tanzania   \n2517    11929342   away      Fuente Cantos               Moralo   \n...          ...    ...                ...                  ...   \n110909  18012778   draw  Delfines Del Este  Don Bosco Jarabacoa   \n110910  18044975   home         Nouadhibou                Sahel   \n110923  17883597   away              HB II               NSÍ II   \n110925  18036579   draw              Hawks         Armed Forces   \n110928  18044976   home      Tevragh-Zeïne             Tidjikja   \n\n                 match_date                  league_name  league_id is_cup  \\\n1014    2019-12-04 15:30:00                      Ligue 1        827  False   \n1040    2019-12-04 18:00:00                      Ligue 1        827  False   \n1119    2019-12-05 10:00:00          K-League Relegation       1662  False   \n2123    2019-12-08 13:00:00  CECAFA Senior Challenge Cup       1110   True   \n2517    2019-12-09 11:00:00           Tercera - Group 14       1271  False   \n...                     ...                          ...        ...    ...   \n110909  2021-04-30 21:00:00                   Liga Mayor       1341  False   \n110910  2021-04-30 21:15:00                     Super D1       1524  False   \n110923  2021-04-30 22:00:00                     1. Deild        280  False   \n110925  2021-04-30 22:30:00                   GFA League       1644  False   \n110928  2021-04-30 23:00:00                     Super D1       1524  False   \n\n        home_team_coach_id  away_team_coach_id  ...  \\\n1014                   NaN                 NaN  ...   \n1040                   NaN                 NaN  ...   \n1119                   NaN                 NaN  ...   \n2123                   NaN                 NaN  ...   \n2517                   NaN                 NaN  ...   \n...                    ...                 ...  ...   \n110909                 NaN                 NaN  ...   \n110910          37410400.0                 NaN  ...   \n110923                 NaN                 NaN  ...   \n110925                 NaN                 NaN  ...   \n110928                 NaN                 NaN  ...   \n\n       away_team_history_league_id_1 away_team_history_league_id_2  \\\n1014                           827.0                         827.0   \n1040                           827.0                         827.0   \n1119                          1034.0                        1034.0   \n2123                          1118.0                        1118.0   \n2517                          1271.0                        1271.0   \n...                              ...                           ...   \n110909                        1341.0                        1341.0   \n110910                        1524.0                        1524.0   \n110923                         280.0                         280.0   \n110925                        1644.0                        1644.0   \n110928                        1524.0                        1524.0   \n\n       away_team_history_league_id_3 away_team_history_league_id_4  \\\n1014                           827.0                         827.0   \n1040                           827.0                         827.0   \n1119                          1034.0                        1034.0   \n2123                          1103.0                        1082.0   \n2517                          1271.0                        1271.0   \n...                              ...                           ...   \n110909                        1341.0                        1341.0   \n110910                        1524.0                        1524.0   \n110923                         280.0                         280.0   \n110925                        1644.0                        1107.0   \n110928                        1524.0                        1524.0   \n\n       away_team_history_league_id_5 away_team_history_league_id_6  \\\n1014                           827.0                         827.0   \n1040                           827.0                         827.0   \n1119                          1034.0                        1034.0   \n2123                          1103.0                         711.0   \n2517                          1271.0                        1271.0   \n...                              ...                           ...   \n110909                        1341.0                        1341.0   \n110910                        1524.0                        1524.0   \n110923                         280.0                         280.0   \n110925                           NaN                           NaN   \n110928                        1524.0                        1524.0   \n\n       away_team_history_league_id_7 away_team_history_league_id_8  \\\n1014                             NaN                           NaN   \n1040                             NaN                           NaN   \n1119                          1034.0                        1034.0   \n2123                           711.0                        1103.0   \n2517                          1271.0                        1589.0   \n...                              ...                           ...   \n110909                        1341.0                        1341.0   \n110910                        1524.0                        1524.0   \n110923                         280.0                         280.0   \n110925                           NaN                           NaN   \n110928                        1524.0                        1524.0   \n\n       away_team_history_league_id_9 away_team_history_league_id_10  \n1014                             NaN                            NaN  \n1040                             NaN                            NaN  \n1119                          1034.0                         1034.0  \n2123                          1103.0                         1117.0  \n2517                          1589.0                         1589.0  \n...                              ...                            ...  \n110909                        1341.0                         1341.0  \n110910                        1524.0                         1524.0  \n110923                         280.0                          280.0  \n110925                           NaN                            NaN  \n110928                        1524.0                         1524.0  \n\n[21814 rows x 190 columns]",
      "text/html": "<div>\n<style scoped>\n    .dataframe tbody tr th:only-of-type {\n        vertical-align: middle;\n    }\n\n    .dataframe tbody tr th {\n        vertical-align: top;\n    }\n\n    .dataframe thead th {\n        text-align: right;\n    }\n</style>\n<table border=\"1\" class=\"dataframe\">\n  <thead>\n    <tr style=\"text-align: right;\">\n      <th></th>\n      <th>id</th>\n      <th>target</th>\n      <th>home_team_name</th>\n      <th>away_team_name</th>\n      <th>match_date</th>\n      <th>league_name</th>\n      <th>league_id</th>\n      <th>is_cup</th>\n      <th>home_team_coach_id</th>\n      <th>away_team_coach_id</th>\n      <th>...</th>\n      <th>away_team_history_league_id_1</th>\n      <th>away_team_history_league_id_2</th>\n      <th>away_team_history_league_id_3</th>\n      <th>away_team_history_league_id_4</th>\n      <th>away_team_history_league_id_5</th>\n      <th>away_team_history_league_id_6</th>\n      <th>away_team_history_league_id_7</th>\n      <th>away_team_history_league_id_8</th>\n      <th>away_team_history_league_id_9</th>\n      <th>away_team_history_league_id_10</th>\n    </tr>\n  </thead>\n  <tbody>\n    <tr>\n      <th>1014</th>\n      <td>11985210</td>\n      <td>draw</td>\n      <td>Bassam</td>\n      <td>AFAD</td>\n      <td>2019-12-04 15:30:00</td>\n      <td>Ligue 1</td>\n      <td>827</td>\n      <td>False</td>\n      <td>NaN</td>\n      <td>NaN</td>\n      <td>...</td>\n      <td>827.0</td>\n      <td>827.0</td>\n      <td>827.0</td>\n      <td>827.0</td>\n      <td>827.0</td>\n      <td>827.0</td>\n      <td>NaN</td>\n      <td>NaN</td>\n      <td>NaN</td>\n      <td>NaN</td>\n    </tr>\n    <tr>\n      <th>1040</th>\n      <td>11985211</td>\n      <td>home</td>\n      <td>ASEC Mimosas</td>\n      <td>Tanda</td>\n      <td>2019-12-04 18:00:00</td>\n      <td>Ligue 1</td>\n      <td>827</td>\n      <td>False</td>\n      <td>NaN</td>\n      <td>NaN</td>\n      <td>...</td>\n      <td>827.0</td>\n      <td>827.0</td>\n      <td>827.0</td>\n      <td>827.0</td>\n      <td>827.0</td>\n      <td>827.0</td>\n      <td>NaN</td>\n      <td>NaN</td>\n      <td>NaN</td>\n      <td>NaN</td>\n    </tr>\n    <tr>\n      <th>1119</th>\n      <td>11985565</td>\n      <td>draw</td>\n      <td>Busan I'Park</td>\n      <td>Gyeongnam</td>\n      <td>2019-12-05 10:00:00</td>\n      <td>K-League Relegation</td>\n      <td>1662</td>\n      <td>False</td>\n      <td>NaN</td>\n      <td>NaN</td>\n      <td>...</td>\n      <td>1034.0</td>\n      <td>1034.0</td>\n      <td>1034.0</td>\n      <td>1034.0</td>\n      <td>1034.0</td>\n      <td>1034.0</td>\n      <td>1034.0</td>\n      <td>1034.0</td>\n      <td>1034.0</td>\n      <td>1034.0</td>\n    </tr>\n    <tr>\n      <th>2123</th>\n      <td>11986033</td>\n      <td>home</td>\n      <td>Kenya</td>\n      <td>Tanzania</td>\n      <td>2019-12-08 13:00:00</td>\n      <td>CECAFA Senior Challenge Cup</td>\n      <td>1110</td>\n      <td>True</td>\n      <td>NaN</td>\n      <td>NaN</td>\n      <td>...</td>\n      <td>1118.0</td>\n      <td>1118.0</td>\n      <td>1103.0</td>\n      <td>1082.0</td>\n      <td>1103.0</td>\n      <td>711.0</td>\n      <td>711.0</td>\n      <td>1103.0</td>\n      <td>1103.0</td>\n      <td>1117.0</td>\n    </tr>\n    <tr>\n      <th>2517</th>\n      <td>11929342</td>\n      <td>away</td>\n      <td>Fuente Cantos</td>\n      <td>Moralo</td>\n      <td>2019-12-09 11:00:00</td>\n      <td>Tercera - Group 14</td>\n      <td>1271</td>\n      <td>False</td>\n      <td>NaN</td>\n      <td>NaN</td>\n      <td>...</td>\n      <td>1271.0</td>\n      <td>1271.0</td>\n      <td>1271.0</td>\n      <td>1271.0</td>\n      <td>1271.0</td>\n      <td>1271.0</td>\n      <td>1271.0</td>\n      <td>1589.0</td>\n      <td>1589.0</td>\n      <td>1589.0</td>\n    </tr>\n    <tr>\n      <th>...</th>\n      <td>...</td>\n      <td>...</td>\n      <td>...</td>\n      <td>...</td>\n      <td>...</td>\n      <td>...</td>\n      <td>...</td>\n      <td>...</td>\n      <td>...</td>\n      <td>...</td>\n      <td>...</td>\n      <td>...</td>\n      <td>...</td>\n      <td>...</td>\n      <td>...</td>\n      <td>...</td>\n      <td>...</td>\n      <td>...</td>\n      <td>...</td>\n      <td>...</td>\n      <td>...</td>\n    </tr>\n    <tr>\n      <th>110909</th>\n      <td>18012778</td>\n      <td>draw</td>\n      <td>Delfines Del Este</td>\n      <td>Don Bosco Jarabacoa</td>\n      <td>2021-04-30 21:00:00</td>\n      <td>Liga Mayor</td>\n      <td>1341</td>\n      <td>False</td>\n      <td>NaN</td>\n      <td>NaN</td>\n      <td>...</td>\n      <td>1341.0</td>\n      <td>1341.0</td>\n      <td>1341.0</td>\n      <td>1341.0</td>\n      <td>1341.0</td>\n      <td>1341.0</td>\n      <td>1341.0</td>\n      <td>1341.0</td>\n      <td>1341.0</td>\n      <td>1341.0</td>\n    </tr>\n    <tr>\n      <th>110910</th>\n      <td>18044975</td>\n      <td>home</td>\n      <td>Nouadhibou</td>\n      <td>Sahel</td>\n      <td>2021-04-30 21:15:00</td>\n      <td>Super D1</td>\n      <td>1524</td>\n      <td>False</td>\n      <td>37410400.0</td>\n      <td>NaN</td>\n      <td>...</td>\n      <td>1524.0</td>\n      <td>1524.0</td>\n      <td>1524.0</td>\n      <td>1524.0</td>\n      <td>1524.0</td>\n      <td>1524.0</td>\n      <td>1524.0</td>\n      <td>1524.0</td>\n      <td>1524.0</td>\n      <td>1524.0</td>\n    </tr>\n    <tr>\n      <th>110923</th>\n      <td>17883597</td>\n      <td>away</td>\n      <td>HB II</td>\n      <td>NSÍ II</td>\n      <td>2021-04-30 22:00:00</td>\n      <td>1. Deild</td>\n      <td>280</td>\n      <td>False</td>\n      <td>NaN</td>\n      <td>NaN</td>\n      <td>...</td>\n      <td>280.0</td>\n      <td>280.0</td>\n      <td>280.0</td>\n      <td>280.0</td>\n      <td>280.0</td>\n      <td>280.0</td>\n      <td>280.0</td>\n      <td>280.0</td>\n      <td>280.0</td>\n      <td>280.0</td>\n    </tr>\n    <tr>\n      <th>110925</th>\n      <td>18036579</td>\n      <td>draw</td>\n      <td>Hawks</td>\n      <td>Armed Forces</td>\n      <td>2021-04-30 22:30:00</td>\n      <td>GFA League</td>\n      <td>1644</td>\n      <td>False</td>\n      <td>NaN</td>\n      <td>NaN</td>\n      <td>...</td>\n      <td>1644.0</td>\n      <td>1644.0</td>\n      <td>1644.0</td>\n      <td>1107.0</td>\n      <td>NaN</td>\n      <td>NaN</td>\n      <td>NaN</td>\n      <td>NaN</td>\n      <td>NaN</td>\n      <td>NaN</td>\n    </tr>\n    <tr>\n      <th>110928</th>\n      <td>18044976</td>\n      <td>home</td>\n      <td>Tevragh-Zeïne</td>\n      <td>Tidjikja</td>\n      <td>2021-04-30 23:00:00</td>\n      <td>Super D1</td>\n      <td>1524</td>\n      <td>False</td>\n      <td>NaN</td>\n      <td>NaN</td>\n      <td>...</td>\n      <td>1524.0</td>\n      <td>1524.0</td>\n      <td>1524.0</td>\n      <td>1524.0</td>\n      <td>1524.0</td>\n      <td>1524.0</td>\n      <td>1524.0</td>\n      <td>1524.0</td>\n      <td>1524.0</td>\n      <td>1524.0</td>\n    </tr>\n  </tbody>\n</table>\n<p>21814 rows × 190 columns</p>\n</div>"
     },
     "execution_count": 942,
     "metadata": {},
     "output_type": "execute_result"
    }
   ],
   "source": [
    "data[data['away_team_coach_id'].isnull()]"
   ],
   "metadata": {
    "collapsed": false,
    "ExecuteTime": {
     "end_time": "2023-06-25T18:16:23.462684100Z",
     "start_time": "2023-06-25T18:16:14.518211600Z"
    }
   }
  },
  {
   "cell_type": "markdown",
   "source": [
    "- Since there are lots of null in the historical data, and the diversity of football teams, coaches and leagues, processing the null values is not the good choice\n",
    "- Also with lots of dates (1 for current and 10 for historical), extracting features like day of week, week of year, month of year, year, shall be extending the dimension of the data a lot\n",
    "- Even with this large distinct and non-ordinal values, encoding should not sufficient in this case"
   ],
   "metadata": {
    "collapsed": false
   }
  },
  {
   "cell_type": "markdown",
   "source": [
    "### In stead, feature engineering should be apply to extract the insights from the dataset and use them as the features, then the id of leagues, coaches, football teams shall be removed"
   ],
   "metadata": {
    "collapsed": false
   }
  },
  {
   "cell_type": "markdown",
   "source": [
    "# Feature engineering"
   ],
   "metadata": {
    "collapsed": false
   }
  },
  {
   "cell_type": "markdown",
   "source": [
    "Below are the historical features:\n",
    "- home_team_history_match_date_{i} - The date of the last i-th match played by Home team.\n",
    "- home_team_history_is_play_home_{i} - If 1, the Home team played home.\n",
    "- home_team_history_is_cup_{i} - If 1, the match was a cup competition.\n",
    "- home_team_history_goal_{i} - The number of goals scored by the Home team on its last i-th match.\n",
    "- home_team_history_opponent_goal_{i} - The number of goals conceded by the Home team on its last i-th match.\n",
    "- home_team_history_rating_{i} - The rating of the Home team on its last i-th match (pre match rating).\n",
    "- home_team_history_opponent_rating_{i} - The rating of the opponent team on Home team last i-th match (pre match rating).\n",
    "- home_team_history_coach_{i} - The coach id of the Home team on its last i-th match.\n",
    "- home_team_history_league_id_{i} - The league name id by the Home team on its last i-th match.\n",
    "- away_team_history_match_date_{i} - The date of the last i-th match played by Away team.\n",
    "- away_team_history_is_play_home_{i} - If 1, the Away team played home.\n",
    "- away_team_history_is_cup_{i} - If 1, the match was a cup competition.\n",
    "- away_team_history_goal_{i} - The number of goals scored by the Away team on its last i-th match.\n",
    "- away_team_history_opponent_goal_{i} - The number of goals conceded by the Away team on its last i-th match.\n",
    "- away_team_history_rating_{i} - The rating of the Away team on its last i-th match (pre match rating).\n",
    "- away_team_history_opponent_rating_{i} - The rating of the opponent team on Away team last i-th match (pre match rating).\n",
    "- away_team_history_coach_{i} - The coach id of the Away team on its last i-th match.\n",
    "- away_team_history_league_id_{i} - The league name id played by the Away on its last i-th match."
   ],
   "metadata": {
    "collapsed": false
   }
  },
  {
   "cell_type": "markdown",
   "source": [
    "It's obvious that these informations are too many to analyze and explore, also not all shall be beneficial for the models, therefore, insights should be extracted, below are few ones:\n",
    "- home_team_history_match_date_{i}:\n",
    "    + How many days from the last match => This can impact to the rest time of the team and therefore can impact to the game result\n",
    "    + How many matches the team has played for the last 30 days => Impact to the rest time of the team\n",
    "- home_team_history_is_play_home_{i}:\n",
    "    + How many times the team has played home in the last 30 days => Impact to the rest time and spirit of the team\n",
    "- home_team_history_is_cup_{i}:\n",
    "    + If the last match was the cup competition => Impact to the team's members playing on this match\n",
    "    + How many cup competition games the team has played in the last 30 days => Impact to the team's members playing continuously, therefore can impact to the game result\n",
    "    + How many cup competition matches in the last 10 matches\n",
    "- home_team_history_goal_{i}:\n",
    "    + How many goals the home team has scored on last match\n",
    "    + Average goals the home team has scored on each match\n",
    "    + Average goals the home team has score in the last 30 days\n",
    "- home_team_history_opponent_goal_{i}:\n",
    "    + How many goals the opponent of home team has scored on last match\n",
    "    + Average goals the opponent of home team has scored on each match\n",
    "    + Average goals the opponent of home team has scored in the last 30 days\n",
    "- home_team_history_rating_{i}:\n",
    "    + Last rating of the home team\n",
    "    + Average rating of the home team\n",
    "    + Average rating of the home team in the last 30 days\n",
    "- home_team_history_opponent_rating_{i}:\n",
    "    + Last rating of the opponent of the home team\n",
    "    + Average rating of the opponent of the home team\n",
    "    + Average rating of the opponent of the home team in the last 30 days\n",
    "- home_team_history_league_id_{i}:\n",
    "    + Last match on the same league or not\n",
    "    + How many different leagues for the last 30 days\n",
    "    + How many different leagues for the last 10 matches\n",
    "- away_team_history_match_date_{i}:\n",
    "    + How many days from the last match of the away team\n",
    "    + How many matches the away team has played for the last 30 days\n",
    "- away_team_history_is_play_home_{i}:\n",
    "    + How many times the away team has played home in the last 30 days\n",
    "- away_team_history_is_cup_{i}:\n",
    "    + If the last match was the cup competition\n",
    "    + How many cup competition games the away team has played in the last 30 days\n",
    "    + How many cup competition matches in the last 10 matches\n",
    "- away_team_history_goal_{i}:\n",
    "    + How many goals the away team has scored on last match\n",
    "    + Average goals the away team has scored on each match\n",
    "    + Average goals the away team has score in the last 30 days\n",
    "- away_team_history_opponent_goal_{i}:\n",
    "    + How many goals the opponent of away team has scored on last match\n",
    "    + Average goals the opponent of home team has scored on each match\n",
    "    + Average goals the opponent of away team has scored in the last 30 days\n",
    "- away_team_history_rating_{i}:\n",
    "    + Last rating of the away team\n",
    "    + Average rating of the away team\n",
    "    + Average rating of the away team in the last 30 days\n",
    "- away_team_history_opponent_rating_{i}:\n",
    "    + Last rating of the opponent of the away team\n",
    "    + Average rating of the opponent of the away team\n",
    "    + Average rating of the opponent of the away team in the last 30 days\n",
    "- away_team_history_league_id_{i}:\n",
    "    + Last match on the same league or not\n",
    "    + How many different leagues for the last 30 days\n",
    "    + How many different leagues for the last 10 matches"
   ],
   "metadata": {
    "collapsed": false
   }
  },
  {
   "cell_type": "markdown",
   "source": [
    "Any information related to coach shall be not used as feature, these kinds of information could contribute a lot of the model, but since the data (both historical and current) are too lacking, and also other features (goals, rating, etc) could represent the coach => These features shall be removed (might be re-considered later)"
   ],
   "metadata": {
    "collapsed": false
   }
  },
  {
   "cell_type": "code",
   "execution_count": 943,
   "outputs": [],
   "source": [
    "coach_related_columns = data.filter(like='coach').columns.tolist()"
   ],
   "metadata": {
    "collapsed": false,
    "ExecuteTime": {
     "end_time": "2023-06-25T18:16:23.462684100Z",
     "start_time": "2023-06-25T18:16:14.754198400Z"
    }
   }
  },
  {
   "cell_type": "code",
   "execution_count": 944,
   "outputs": [],
   "source": [
    "data = data.drop(columns=coach_related_columns, axis=1)"
   ],
   "metadata": {
    "collapsed": false,
    "ExecuteTime": {
     "end_time": "2023-06-25T18:16:23.471667400Z",
     "start_time": "2023-06-25T18:16:14.763664Z"
    }
   }
  },
  {
   "cell_type": "code",
   "execution_count": 945,
   "outputs": [
    {
     "data": {
      "text/plain": "Index(['id', 'target', 'home_team_name', 'away_team_name', 'match_date',\n       'league_name', 'league_id', 'is_cup', 'home_team_history_match_date_1',\n       'home_team_history_match_date_2',\n       ...\n       'away_team_history_league_id_1', 'away_team_history_league_id_2',\n       'away_team_history_league_id_3', 'away_team_history_league_id_4',\n       'away_team_history_league_id_5', 'away_team_history_league_id_6',\n       'away_team_history_league_id_7', 'away_team_history_league_id_8',\n       'away_team_history_league_id_9', 'away_team_history_league_id_10'],\n      dtype='object', length=168)"
     },
     "execution_count": 945,
     "metadata": {},
     "output_type": "execute_result"
    }
   ],
   "source": [
    "data.columns"
   ],
   "metadata": {
    "collapsed": false,
    "ExecuteTime": {
     "end_time": "2023-06-25T18:16:23.472669100Z",
     "start_time": "2023-06-25T18:16:14.870259100Z"
    }
   }
  },
  {
   "cell_type": "code",
   "execution_count": 946,
   "outputs": [
    {
     "data": {
      "text/plain": "Index([], dtype='object')"
     },
     "execution_count": 946,
     "metadata": {},
     "output_type": "execute_result"
    }
   ],
   "source": [
    "data.filter(like='coach').columns"
   ],
   "metadata": {
    "collapsed": false,
    "ExecuteTime": {
     "end_time": "2023-06-25T18:16:23.472669100Z",
     "start_time": "2023-06-25T18:16:14.882272Z"
    }
   }
  },
  {
   "cell_type": "markdown",
   "source": [
    "## Features for date"
   ],
   "metadata": {
    "collapsed": false
   }
  },
  {
   "cell_type": "code",
   "execution_count": 947,
   "outputs": [],
   "source": [
    "date_related_columns = data.filter(like='date').columns.tolist()"
   ],
   "metadata": {
    "collapsed": false,
    "ExecuteTime": {
     "end_time": "2023-06-25T18:16:23.473667400Z",
     "start_time": "2023-06-25T18:16:14.899960900Z"
    }
   }
  },
  {
   "cell_type": "code",
   "execution_count": 948,
   "outputs": [
    {
     "data": {
      "text/plain": "['match_date',\n 'home_team_history_match_date_1',\n 'home_team_history_match_date_2',\n 'home_team_history_match_date_3',\n 'home_team_history_match_date_4',\n 'home_team_history_match_date_5',\n 'home_team_history_match_date_6',\n 'home_team_history_match_date_7',\n 'home_team_history_match_date_8',\n 'home_team_history_match_date_9',\n 'home_team_history_match_date_10',\n 'away_team_history_match_date_1',\n 'away_team_history_match_date_2',\n 'away_team_history_match_date_3',\n 'away_team_history_match_date_4',\n 'away_team_history_match_date_5',\n 'away_team_history_match_date_6',\n 'away_team_history_match_date_7',\n 'away_team_history_match_date_8',\n 'away_team_history_match_date_9',\n 'away_team_history_match_date_10']"
     },
     "execution_count": 948,
     "metadata": {},
     "output_type": "execute_result"
    }
   ],
   "source": [
    "date_related_columns"
   ],
   "metadata": {
    "collapsed": false,
    "ExecuteTime": {
     "end_time": "2023-06-25T18:16:23.473916400Z",
     "start_time": "2023-06-25T18:16:14.936886300Z"
    }
   }
  },
  {
   "cell_type": "code",
   "execution_count": 949,
   "outputs": [],
   "source": [
    "for dt_col in date_related_columns:\n",
    "    data[dt_col] = data[dt_col].astype('datetime64[ns]')"
   ],
   "metadata": {
    "collapsed": false,
    "ExecuteTime": {
     "end_time": "2023-06-25T18:16:24.264278600Z",
     "start_time": "2023-06-25T18:16:14.941596200Z"
    }
   }
  },
  {
   "cell_type": "code",
   "execution_count": 950,
   "outputs": [],
   "source": [
    "data['home_team_days_from_last_match'] = data['match_date'] - data['home_team_history_match_date_1']\n",
    "data['home_team_days_from_last_match'] = data['home_team_days_from_last_match']/pd.Timedelta(days=1)"
   ],
   "metadata": {
    "collapsed": false,
    "ExecuteTime": {
     "end_time": "2023-06-25T18:16:24.264278600Z",
     "start_time": "2023-06-25T18:16:16.196229200Z"
    }
   }
  },
  {
   "cell_type": "code",
   "execution_count": 951,
   "outputs": [],
   "source": [
    "data['away_team_days_from_last_match'] = data['match_date'] - data['away_team_history_match_date_1']\n",
    "data['away_team_days_from_last_match'] = data['away_team_days_from_last_match']/pd.Timedelta(days=1)"
   ],
   "metadata": {
    "collapsed": false,
    "ExecuteTime": {
     "end_time": "2023-06-25T18:16:24.265281Z",
     "start_time": "2023-06-25T18:16:16.218754Z"
    }
   }
  },
  {
   "cell_type": "code",
   "execution_count": 952,
   "outputs": [],
   "source": [
    "data['30_day_ago_match_date'] = data['match_date'] - pd.DateOffset(days=30)"
   ],
   "metadata": {
    "collapsed": false,
    "ExecuteTime": {
     "end_time": "2023-06-25T18:16:24.265281Z",
     "start_time": "2023-06-25T18:16:16.238403400Z"
    }
   }
  },
  {
   "cell_type": "code",
   "execution_count": 953,
   "outputs": [],
   "source": [
    "home_match_date_cols = data.filter(like='home_team_history_match_date_').columns.tolist()"
   ],
   "metadata": {
    "collapsed": false,
    "ExecuteTime": {
     "end_time": "2023-06-25T18:16:24.266294700Z",
     "start_time": "2023-06-25T18:16:16.246002200Z"
    }
   }
  },
  {
   "cell_type": "code",
   "execution_count": 954,
   "outputs": [],
   "source": [
    "away_match_date_cols = data.filter(like='away_team_history_match_date_').columns.tolist()"
   ],
   "metadata": {
    "collapsed": false,
    "ExecuteTime": {
     "end_time": "2023-06-25T18:16:24.266294700Z",
     "start_time": "2023-06-25T18:16:16.393517600Z"
    }
   }
  },
  {
   "cell_type": "code",
   "execution_count": 955,
   "outputs": [],
   "source": [
    "i=1\n",
    "for col in home_match_date_cols:\n",
    "    index_col = f\"home_team_date_index_{i}\"\n",
    "    mask = (data[col] >= data['30_day_ago_match_date']) & (data[col] <= data['match_date'])\n",
    "    # The index col is for later use to count the insights with timeframe in 30 days\n",
    "    data[col] = mask.astype(int)\n",
    "    data[index_col] = mask.astype(int)\n",
    "    i+=1"
   ],
   "metadata": {
    "collapsed": false,
    "ExecuteTime": {
     "end_time": "2023-06-25T18:16:24.266294700Z",
     "start_time": "2023-06-25T18:16:16.404526200Z"
    }
   }
  },
  {
   "cell_type": "code",
   "execution_count": 956,
   "outputs": [],
   "source": [
    "i=1\n",
    "for col in away_match_date_cols:\n",
    "    index_col = f\"away_team_date_index_{i}\"\n",
    "    mask = (data[col] >= data['30_day_ago_match_date']) & (data[col] <= data['match_date'])\n",
    "    # The index col is for later use to count the insights with timeframe in 30 days\n",
    "    data[col] = mask.astype(int)\n",
    "    data[index_col] = mask.astype(int)\n",
    "    i+=1"
   ],
   "metadata": {
    "collapsed": false,
    "ExecuteTime": {
     "end_time": "2023-06-25T18:16:24.266294700Z",
     "start_time": "2023-06-25T18:16:16.470751Z"
    }
   }
  },
  {
   "cell_type": "code",
   "execution_count": 957,
   "outputs": [],
   "source": [
    "data['home_team_total_matches_last_30_days'] = data[home_match_date_cols].sum(axis=1)"
   ],
   "metadata": {
    "collapsed": false,
    "ExecuteTime": {
     "end_time": "2023-06-25T18:16:24.267290400Z",
     "start_time": "2023-06-25T18:16:16.548789400Z"
    }
   }
  },
  {
   "cell_type": "code",
   "execution_count": 958,
   "outputs": [],
   "source": [
    "data['away_team_total_matches_last_30_days'] = data[away_match_date_cols].sum(axis=1)"
   ],
   "metadata": {
    "collapsed": false,
    "ExecuteTime": {
     "end_time": "2023-06-25T18:16:24.267290400Z",
     "start_time": "2023-06-25T18:16:16.627181800Z"
    }
   }
  },
  {
   "cell_type": "code",
   "execution_count": 959,
   "outputs": [],
   "source": [
    "home_team_match_30_day_index = data.filter(like='home_team_date_index_').columns.tolist()"
   ],
   "metadata": {
    "collapsed": false,
    "ExecuteTime": {
     "end_time": "2023-06-25T18:16:24.267290400Z",
     "start_time": "2023-06-25T18:16:16.816180Z"
    }
   }
  },
  {
   "cell_type": "code",
   "execution_count": 960,
   "outputs": [],
   "source": [
    "away_team_match_30_day_index = data.filter(like='away_team_date_index_').columns.tolist()"
   ],
   "metadata": {
    "collapsed": false,
    "ExecuteTime": {
     "end_time": "2023-06-25T18:16:24.267290400Z",
     "start_time": "2023-06-25T18:16:17.047815100Z"
    }
   }
  },
  {
   "cell_type": "code",
   "execution_count": 961,
   "outputs": [],
   "source": [
    "data.drop(columns=home_match_date_cols, inplace=True)\n",
    "data.drop(columns=away_match_date_cols, inplace=True)"
   ],
   "metadata": {
    "collapsed": false,
    "ExecuteTime": {
     "end_time": "2023-06-25T18:16:24.267290400Z",
     "start_time": "2023-06-25T18:16:17.056472700Z"
    }
   }
  },
  {
   "cell_type": "markdown",
   "source": [
    "## Features for play home"
   ],
   "metadata": {
    "collapsed": false
   }
  },
  {
   "cell_type": "code",
   "execution_count": 962,
   "outputs": [],
   "source": [
    "home_team_play_home = data.filter(like='home_team_history_is_play_home_').columns.tolist()"
   ],
   "metadata": {
    "collapsed": false,
    "ExecuteTime": {
     "end_time": "2023-06-25T18:16:24.267290400Z",
     "start_time": "2023-06-25T18:16:17.188573Z"
    }
   }
  },
  {
   "cell_type": "code",
   "execution_count": 963,
   "outputs": [],
   "source": [
    "away_team_play_home = data.filter(like='away_team_history_is_play_home_').columns.tolist()"
   ],
   "metadata": {
    "collapsed": false,
    "ExecuteTime": {
     "end_time": "2023-06-25T18:16:24.267290400Z",
     "start_time": "2023-06-25T18:16:17.211098100Z"
    }
   }
  },
  {
   "cell_type": "code",
   "execution_count": 964,
   "outputs": [],
   "source": [
    "data[home_team_play_home] = data[home_team_play_home].fillna(0)"
   ],
   "metadata": {
    "collapsed": false,
    "ExecuteTime": {
     "end_time": "2023-06-25T18:16:24.267290400Z",
     "start_time": "2023-06-25T18:16:17.220112500Z"
    }
   }
  },
  {
   "cell_type": "code",
   "execution_count": 965,
   "outputs": [],
   "source": [
    "data[away_team_play_home] = data[away_team_play_home].fillna(0)"
   ],
   "metadata": {
    "collapsed": false,
    "ExecuteTime": {
     "end_time": "2023-06-25T18:16:24.268286500Z",
     "start_time": "2023-06-25T18:16:17.571241600Z"
    }
   }
  },
  {
   "cell_type": "code",
   "execution_count": 966,
   "outputs": [],
   "source": [
    "data['home_team_matches_play_home_last_30_days'] = 0\n",
    "for i in range(0,10):\n",
    "    data['home_team_matches_play_home_last_30_days'] += data[home_team_play_home[i]] * data[home_team_match_30_day_index[i]]"
   ],
   "metadata": {
    "collapsed": false,
    "ExecuteTime": {
     "end_time": "2023-06-25T18:16:24.269286300Z",
     "start_time": "2023-06-25T18:16:18.139403800Z"
    }
   }
  },
  {
   "cell_type": "code",
   "execution_count": 967,
   "outputs": [],
   "source": [
    "data['away_team_matches_play_home_last_30_days'] = 0\n",
    "for i in range(0,10):\n",
    "    data['away_team_matches_play_home_last_30_days'] += data[away_team_play_home[i]] * data[away_team_match_30_day_index[i]]"
   ],
   "metadata": {
    "collapsed": false,
    "ExecuteTime": {
     "end_time": "2023-06-25T18:16:24.389333500Z",
     "start_time": "2023-06-25T18:16:18.146432500Z"
    }
   }
  },
  {
   "cell_type": "code",
   "execution_count": 968,
   "outputs": [],
   "source": [
    "data.drop(columns=home_team_play_home, inplace=True)\n",
    "data.drop(columns=away_team_play_home, inplace=True)"
   ],
   "metadata": {
    "collapsed": false,
    "ExecuteTime": {
     "end_time": "2023-06-25T18:16:24.390340200Z",
     "start_time": "2023-06-25T18:16:18.183114400Z"
    }
   }
  },
  {
   "cell_type": "markdown",
   "source": [
    "## Features for cup competition"
   ],
   "metadata": {
    "collapsed": false
   }
  },
  {
   "cell_type": "code",
   "execution_count": 969,
   "outputs": [],
   "source": [
    "home_team_is_cup = data.filter(like='home_team_history_is_cup').columns.tolist()"
   ],
   "metadata": {
    "collapsed": false,
    "ExecuteTime": {
     "end_time": "2023-06-25T18:16:24.390340200Z",
     "start_time": "2023-06-25T18:16:18.307117400Z"
    }
   }
  },
  {
   "cell_type": "code",
   "execution_count": 970,
   "outputs": [],
   "source": [
    "away_team_is_cup = data.filter(like='away_team_history_is_cup').columns.tolist()"
   ],
   "metadata": {
    "collapsed": false,
    "ExecuteTime": {
     "end_time": "2023-06-25T18:16:24.391328700Z",
     "start_time": "2023-06-25T18:16:18.472296100Z"
    }
   }
  },
  {
   "cell_type": "code",
   "execution_count": 971,
   "outputs": [],
   "source": [
    "data['home_team_matches_cup_comp_last_10_matches'] = data[home_team_is_cup].sum(axis=1)"
   ],
   "metadata": {
    "collapsed": false,
    "ExecuteTime": {
     "end_time": "2023-06-25T18:16:24.391328700Z",
     "start_time": "2023-06-25T18:16:18.484712800Z"
    }
   }
  },
  {
   "cell_type": "code",
   "execution_count": 972,
   "outputs": [],
   "source": [
    "data['away_team_matches_cup_comp_last_10_matches'] = data[away_team_is_cup].sum(axis=1)"
   ],
   "metadata": {
    "collapsed": false,
    "ExecuteTime": {
     "end_time": "2023-06-25T18:16:24.391328700Z",
     "start_time": "2023-06-25T18:16:18.553508300Z"
    }
   }
  },
  {
   "cell_type": "code",
   "execution_count": 973,
   "outputs": [],
   "source": [
    "data[home_team_is_cup] = data[home_team_is_cup].fillna(0)"
   ],
   "metadata": {
    "collapsed": false,
    "ExecuteTime": {
     "end_time": "2023-06-25T18:16:24.391328700Z",
     "start_time": "2023-06-25T18:16:18.633534200Z"
    }
   }
  },
  {
   "cell_type": "code",
   "execution_count": 974,
   "outputs": [],
   "source": [
    "data[away_team_is_cup] = data[away_team_is_cup].fillna(0)"
   ],
   "metadata": {
    "collapsed": false,
    "ExecuteTime": {
     "end_time": "2023-06-25T18:16:24.391328700Z",
     "start_time": "2023-06-25T18:16:19.191737700Z"
    }
   }
  },
  {
   "cell_type": "code",
   "execution_count": 975,
   "outputs": [],
   "source": [
    "data['home_team_matches_cup_comp_last_30_days'] = 0\n",
    "for i in range(0,10):\n",
    "    data['home_team_matches_cup_comp_last_30_days'] += data[home_team_is_cup[i]] * data[home_team_match_30_day_index[i]]"
   ],
   "metadata": {
    "collapsed": false,
    "ExecuteTime": {
     "end_time": "2023-06-25T18:16:24.391328700Z",
     "start_time": "2023-06-25T18:16:19.799658800Z"
    }
   }
  },
  {
   "cell_type": "code",
   "execution_count": 976,
   "outputs": [],
   "source": [
    "data['away_team_matches_cup_comp_last_30_days'] = 0\n",
    "for i in range(0,10):\n",
    "    data['away_team_matches_cup_comp_last_30_days'] += data[away_team_is_cup[i]] * data[away_team_match_30_day_index[i]]"
   ],
   "metadata": {
    "collapsed": false,
    "ExecuteTime": {
     "end_time": "2023-06-25T18:16:24.392329Z",
     "start_time": "2023-06-25T18:16:19.833734900Z"
    }
   }
  },
  {
   "cell_type": "code",
   "execution_count": 977,
   "outputs": [],
   "source": [
    "data['home_team_is_last_match_cup'] = np.where(data['home_team_history_is_cup_1'] == 1, 1, 0)"
   ],
   "metadata": {
    "collapsed": false,
    "ExecuteTime": {
     "end_time": "2023-06-25T18:16:24.392329Z",
     "start_time": "2023-06-25T18:16:19.894573300Z"
    }
   }
  },
  {
   "cell_type": "code",
   "execution_count": 978,
   "outputs": [],
   "source": [
    "data['away_team_is_last_match_cup'] = np.where(data['away_team_history_is_cup_1'] == 1, 1, 0)"
   ],
   "metadata": {
    "collapsed": false,
    "ExecuteTime": {
     "end_time": "2023-06-25T18:16:24.392329Z",
     "start_time": "2023-06-25T18:16:19.909103800Z"
    }
   }
  },
  {
   "cell_type": "code",
   "execution_count": 979,
   "outputs": [],
   "source": [
    "data.drop(columns=home_team_is_cup, inplace=True)\n",
    "data.drop(columns=away_team_is_cup, inplace=True)"
   ],
   "metadata": {
    "collapsed": false,
    "ExecuteTime": {
     "end_time": "2023-06-25T18:16:24.392329Z",
     "start_time": "2023-06-25T18:16:19.925107700Z"
    }
   }
  },
  {
   "cell_type": "markdown",
   "source": [
    "## Features for goals"
   ],
   "metadata": {
    "collapsed": false
   }
  },
  {
   "cell_type": "code",
   "execution_count": 980,
   "outputs": [],
   "source": [
    "home_team_goal = data.filter(like='home_team_history_goal_').columns.tolist()"
   ],
   "metadata": {
    "collapsed": false,
    "ExecuteTime": {
     "end_time": "2023-06-25T18:16:24.392329Z",
     "start_time": "2023-06-25T18:16:20.220038900Z"
    }
   }
  },
  {
   "cell_type": "code",
   "execution_count": 981,
   "outputs": [],
   "source": [
    "away_team_goal = data.filter(like='away_team_history_goal_').columns.tolist()"
   ],
   "metadata": {
    "collapsed": false,
    "ExecuteTime": {
     "end_time": "2023-06-25T18:16:24.393459Z",
     "start_time": "2023-06-25T18:16:20.320742300Z"
    }
   }
  },
  {
   "cell_type": "code",
   "execution_count": 982,
   "outputs": [],
   "source": [
    "# data['home_team_total_goals_last_10_matches'] = data[home_team_goal].sum(axis=1)\n",
    "data['home_team_avg_goals_last_10_matches'] = data[home_team_goal].mean(axis=1)"
   ],
   "metadata": {
    "collapsed": false,
    "ExecuteTime": {
     "end_time": "2023-06-25T18:16:24.393459Z",
     "start_time": "2023-06-25T18:16:20.341241Z"
    }
   }
  },
  {
   "cell_type": "code",
   "execution_count": 983,
   "outputs": [],
   "source": [
    "# data['away_team_total_goals_last_10_matches'] = data[away_team_goal].sum(axis=1)\n",
    "data['away_team_avg_goals_last_10_matches'] = data[away_team_goal].mean(axis=1)"
   ],
   "metadata": {
    "collapsed": false,
    "ExecuteTime": {
     "end_time": "2023-06-25T18:16:24.393459Z",
     "start_time": "2023-06-25T18:16:20.422423200Z"
    }
   }
  },
  {
   "cell_type": "code",
   "execution_count": 984,
   "outputs": [],
   "source": [
    "data[home_team_goal] = data[home_team_goal].fillna(0)"
   ],
   "metadata": {
    "collapsed": false,
    "ExecuteTime": {
     "end_time": "2023-06-25T18:16:24.393781800Z",
     "start_time": "2023-06-25T18:16:20.490181600Z"
    }
   }
  },
  {
   "cell_type": "code",
   "execution_count": 985,
   "outputs": [],
   "source": [
    "data[away_team_goal] = data[away_team_goal].fillna(0)"
   ],
   "metadata": {
    "collapsed": false,
    "ExecuteTime": {
     "end_time": "2023-06-25T18:16:24.411782500Z",
     "start_time": "2023-06-25T18:16:20.930201Z"
    }
   }
  },
  {
   "cell_type": "code",
   "execution_count": 986,
   "outputs": [],
   "source": [
    "data['home_team_goals_last_match'] = data['home_team_history_goal_1']"
   ],
   "metadata": {
    "collapsed": false,
    "ExecuteTime": {
     "end_time": "2023-06-25T18:16:24.477591200Z",
     "start_time": "2023-06-25T18:16:21.450434300Z"
    }
   }
  },
  {
   "cell_type": "code",
   "execution_count": 987,
   "outputs": [],
   "source": [
    "data['away_team_goals_last_match'] = data['away_team_history_goal_1']"
   ],
   "metadata": {
    "collapsed": false,
    "ExecuteTime": {
     "end_time": "2023-06-25T18:16:24.498040200Z",
     "start_time": "2023-06-25T18:16:21.459961900Z"
    }
   }
  },
  {
   "cell_type": "code",
   "execution_count": 988,
   "outputs": [],
   "source": [
    "data['home_team_avg_goals_last_30_days'] = 0\n",
    "for i in range(0,10):\n",
    "    data['home_team_avg_goals_last_30_days'] += data[home_team_goal[i]] * data[home_team_match_30_day_index[i]]\n",
    "data['home_team_avg_goals_last_30_days'] = data['home_team_avg_goals_last_30_days']/data['home_team_total_matches_last_30_days']"
   ],
   "metadata": {
    "collapsed": false,
    "ExecuteTime": {
     "end_time": "2023-06-25T18:16:24.498040200Z",
     "start_time": "2023-06-25T18:16:21.481455700Z"
    }
   }
  },
  {
   "cell_type": "code",
   "execution_count": 989,
   "outputs": [],
   "source": [
    "data['away_team_avg_goals_last_30_days'] = 0\n",
    "for i in range(0,10):\n",
    "    data['away_team_avg_goals_last_30_days'] += data[away_team_goal[i]] * data[away_team_match_30_day_index[i]]\n",
    "data['away_team_avg_goals_last_30_days'] = data['away_team_avg_goals_last_30_days']/data['away_team_total_matches_last_30_days']"
   ],
   "metadata": {
    "collapsed": false,
    "ExecuteTime": {
     "end_time": "2023-06-25T18:16:24.498040200Z",
     "start_time": "2023-06-25T18:16:21.530059900Z"
    }
   }
  },
  {
   "cell_type": "code",
   "execution_count": 990,
   "outputs": [],
   "source": [
    "data.drop(columns=home_team_goal, inplace=True)\n",
    "data.drop(columns=away_team_goal, inplace=True)"
   ],
   "metadata": {
    "collapsed": false,
    "ExecuteTime": {
     "end_time": "2023-06-25T18:16:24.498040200Z",
     "start_time": "2023-06-25T18:16:21.569671Z"
    }
   }
  },
  {
   "cell_type": "markdown",
   "source": [
    "## Features for opponent's goals"
   ],
   "metadata": {
    "collapsed": false
   }
  },
  {
   "cell_type": "code",
   "execution_count": 991,
   "outputs": [],
   "source": [
    "home_team_opponent_goal = data.filter(like='home_team_history_opponent_goal_').columns.tolist()"
   ],
   "metadata": {
    "collapsed": false,
    "ExecuteTime": {
     "end_time": "2023-06-25T18:16:24.498040200Z",
     "start_time": "2023-06-25T18:16:21.712747800Z"
    }
   }
  },
  {
   "cell_type": "code",
   "execution_count": 992,
   "outputs": [],
   "source": [
    "away_team_opponent_goal = data.filter(like='away_team_history_opponent_goal_').columns.tolist()"
   ],
   "metadata": {
    "collapsed": false,
    "ExecuteTime": {
     "end_time": "2023-06-25T18:16:24.498040200Z",
     "start_time": "2023-06-25T18:16:21.747828800Z"
    }
   }
  },
  {
   "cell_type": "code",
   "execution_count": 993,
   "outputs": [],
   "source": [
    "# data['home_team_opponent_total_goals_last_10_matches'] = data[home_team_opponent_goal].sum(axis=1)\n",
    "data['home_team_opponent_avg_goals_last_10_matches'] = data[home_team_opponent_goal].mean(axis=1)"
   ],
   "metadata": {
    "collapsed": false,
    "ExecuteTime": {
     "end_time": "2023-06-25T18:16:24.498040200Z",
     "start_time": "2023-06-25T18:16:21.805415100Z"
    }
   }
  },
  {
   "cell_type": "code",
   "execution_count": 994,
   "outputs": [],
   "source": [
    "# data['away_team_opponent_total_goals_last_10_matches'] = data[away_team_opponent_goal].sum(axis=1)\n",
    "data['away_team_opponent_avg_goals_last_10_matches'] = data[away_team_opponent_goal].mean(axis=1)"
   ],
   "metadata": {
    "collapsed": false,
    "ExecuteTime": {
     "end_time": "2023-06-25T18:16:24.498040200Z",
     "start_time": "2023-06-25T18:16:21.815980400Z"
    }
   }
  },
  {
   "cell_type": "code",
   "execution_count": 995,
   "outputs": [],
   "source": [
    "data[home_team_opponent_goal] = data[home_team_opponent_goal].fillna(0)"
   ],
   "metadata": {
    "collapsed": false,
    "ExecuteTime": {
     "end_time": "2023-06-25T18:16:24.498040200Z",
     "start_time": "2023-06-25T18:16:21.911257900Z"
    }
   }
  },
  {
   "cell_type": "code",
   "execution_count": 996,
   "outputs": [],
   "source": [
    "data[away_team_opponent_goal] = data[away_team_opponent_goal].fillna(0)"
   ],
   "metadata": {
    "collapsed": false,
    "ExecuteTime": {
     "end_time": "2023-06-25T18:16:24.498040200Z",
     "start_time": "2023-06-25T18:16:22.246102400Z"
    }
   }
  },
  {
   "cell_type": "code",
   "execution_count": 997,
   "outputs": [],
   "source": [
    "data['home_team_opponent_goals_last_match'] = data['home_team_history_opponent_goal_1']"
   ],
   "metadata": {
    "collapsed": false,
    "ExecuteTime": {
     "end_time": "2023-06-25T18:16:24.498040200Z",
     "start_time": "2023-06-25T18:16:22.623434900Z"
    }
   }
  },
  {
   "cell_type": "code",
   "execution_count": 998,
   "outputs": [],
   "source": [
    "data['away_team_opponent_goals_last_match'] = data['away_team_history_opponent_goal_1']"
   ],
   "metadata": {
    "collapsed": false,
    "ExecuteTime": {
     "end_time": "2023-06-25T18:16:24.498040200Z",
     "start_time": "2023-06-25T18:16:22.635434300Z"
    }
   }
  },
  {
   "cell_type": "code",
   "execution_count": 999,
   "outputs": [],
   "source": [
    "data['home_team_opponent_avg_goals_last_30_days'] = 0\n",
    "for i in range(0,10):\n",
    "    data['home_team_opponent_avg_goals_last_30_days'] += data[home_team_opponent_goal[i]] * data[home_team_match_30_day_index[i]]\n",
    "data['home_team_opponent_avg_goals_last_30_days'] = data['home_team_opponent_avg_goals_last_30_days']/data['home_team_total_matches_last_30_days']"
   ],
   "metadata": {
    "collapsed": false,
    "ExecuteTime": {
     "end_time": "2023-06-25T18:16:24.498040200Z",
     "start_time": "2023-06-25T18:16:22.662533300Z"
    }
   }
  },
  {
   "cell_type": "code",
   "execution_count": 1000,
   "outputs": [],
   "source": [
    "data['away_team_opponent_avg_goals_last_30_days'] = 0\n",
    "for i in range(0,10):\n",
    "    data['away_team_opponent_avg_goals_last_30_days'] += data[away_team_opponent_goal[i]] * data[away_team_match_30_day_index[i]]\n",
    "data['away_team_opponent_avg_goals_last_30_days'] = data['away_team_opponent_avg_goals_last_30_days']/data['away_team_total_matches_last_30_days']"
   ],
   "metadata": {
    "collapsed": false,
    "ExecuteTime": {
     "end_time": "2023-06-25T18:16:24.498040200Z",
     "start_time": "2023-06-25T18:16:22.718014500Z"
    }
   }
  },
  {
   "cell_type": "code",
   "execution_count": 1001,
   "outputs": [],
   "source": [
    "data.drop(columns=home_team_opponent_goal, inplace=True)\n",
    "data.drop(columns=away_team_opponent_goal, inplace=True)"
   ],
   "metadata": {
    "collapsed": false,
    "ExecuteTime": {
     "end_time": "2023-06-25T18:16:24.498040200Z",
     "start_time": "2023-06-25T18:16:22.758189300Z"
    }
   }
  },
  {
   "cell_type": "markdown",
   "source": [
    "## Features for ratings"
   ],
   "metadata": {
    "collapsed": false
   }
  },
  {
   "cell_type": "code",
   "execution_count": 1002,
   "outputs": [],
   "source": [
    "home_team_rating = data.filter(like='home_team_history_rating_').columns.tolist()"
   ],
   "metadata": {
    "collapsed": false,
    "ExecuteTime": {
     "end_time": "2023-06-25T18:16:24.498040200Z",
     "start_time": "2023-06-25T18:16:23.054372300Z"
    }
   }
  },
  {
   "cell_type": "code",
   "execution_count": 1003,
   "outputs": [],
   "source": [
    "away_team_rating = data.filter(like='away_team_history_rating_').columns.tolist()"
   ],
   "metadata": {
    "collapsed": false,
    "ExecuteTime": {
     "end_time": "2023-06-25T18:16:24.498040200Z",
     "start_time": "2023-06-25T18:16:23.189092400Z"
    }
   }
  },
  {
   "cell_type": "code",
   "execution_count": 1004,
   "outputs": [],
   "source": [
    "data['home_team_avg_rating_last_10_matches'] = data[home_team_rating].mean(axis=1)"
   ],
   "metadata": {
    "collapsed": false,
    "ExecuteTime": {
     "end_time": "2023-06-25T18:16:24.498040200Z",
     "start_time": "2023-06-25T18:16:23.220191200Z"
    }
   }
  },
  {
   "cell_type": "code",
   "execution_count": 1005,
   "outputs": [],
   "source": [
    "data['away_team_avg_rating_last_10_matches'] = data[away_team_rating].mean(axis=1)"
   ],
   "metadata": {
    "collapsed": false,
    "ExecuteTime": {
     "end_time": "2023-06-25T18:16:24.498040200Z",
     "start_time": "2023-06-25T18:16:23.241742800Z"
    }
   }
  },
  {
   "cell_type": "code",
   "execution_count": 1006,
   "outputs": [],
   "source": [
    "data[home_team_rating] = data[home_team_rating].fillna(0)"
   ],
   "metadata": {
    "collapsed": false,
    "ExecuteTime": {
     "end_time": "2023-06-25T18:16:24.498040200Z",
     "start_time": "2023-06-25T18:16:23.307290600Z"
    }
   }
  },
  {
   "cell_type": "code",
   "execution_count": 1007,
   "outputs": [],
   "source": [
    "data[away_team_rating] = data[away_team_rating].fillna(0)"
   ],
   "metadata": {
    "collapsed": false,
    "ExecuteTime": {
     "end_time": "2023-06-25T18:16:24.562304700Z",
     "start_time": "2023-06-25T18:16:23.505764900Z"
    }
   }
  },
  {
   "cell_type": "code",
   "execution_count": 1008,
   "outputs": [],
   "source": [
    "data['home_team_rating_last_match'] = data['home_team_history_rating_1']"
   ],
   "metadata": {
    "collapsed": false,
    "ExecuteTime": {
     "end_time": "2023-06-25T18:16:24.609756200Z",
     "start_time": "2023-06-25T18:16:23.668990200Z"
    }
   }
  },
  {
   "cell_type": "code",
   "execution_count": 1009,
   "outputs": [],
   "source": [
    "data['away_team_rating_last_match'] = data['away_team_history_rating_1']"
   ],
   "metadata": {
    "collapsed": false,
    "ExecuteTime": {
     "end_time": "2023-06-25T18:16:24.642059700Z",
     "start_time": "2023-06-25T18:16:23.675992500Z"
    }
   }
  },
  {
   "cell_type": "code",
   "execution_count": 1010,
   "outputs": [],
   "source": [
    "data['home_team_avg_rating_last_30_days'] = 0\n",
    "for i in range(0,10):\n",
    "    data['home_team_avg_rating_last_30_days'] += data[home_team_rating[i]] * data[home_team_match_30_day_index[i]]\n",
    "data['home_team_avg_rating_last_30_days'] = data['home_team_avg_rating_last_30_days']/data['home_team_total_matches_last_30_days']"
   ],
   "metadata": {
    "collapsed": false,
    "ExecuteTime": {
     "end_time": "2023-06-25T18:16:24.656666800Z",
     "start_time": "2023-06-25T18:16:23.704267100Z"
    }
   }
  },
  {
   "cell_type": "code",
   "execution_count": 1011,
   "outputs": [],
   "source": [
    "data['away_team_avg_rating_last_30_days'] = 0\n",
    "for i in range(0,10):\n",
    "    data['away_team_avg_rating_last_30_days'] += data[away_team_rating[i]] * data[away_team_match_30_day_index[i]]\n",
    "data['away_team_avg_rating_last_30_days'] = data['away_team_avg_rating_last_30_days']/data['away_team_total_matches_last_30_days']"
   ],
   "metadata": {
    "collapsed": false,
    "ExecuteTime": {
     "end_time": "2023-06-25T18:16:24.658178700Z",
     "start_time": "2023-06-25T18:16:23.752837700Z"
    }
   }
  },
  {
   "cell_type": "code",
   "execution_count": 1012,
   "outputs": [],
   "source": [
    "data.drop(columns=home_team_rating, inplace=True)\n",
    "data.drop(columns=away_team_rating, inplace=True)"
   ],
   "metadata": {
    "collapsed": false,
    "ExecuteTime": {
     "end_time": "2023-06-25T18:16:24.658178700Z",
     "start_time": "2023-06-25T18:16:23.809750300Z"
    }
   }
  },
  {
   "cell_type": "markdown",
   "source": [
    "## Features for opponent's ratings"
   ],
   "metadata": {
    "collapsed": false
   }
  },
  {
   "cell_type": "code",
   "execution_count": 1013,
   "outputs": [],
   "source": [
    "home_team_opponent_rating = \\\n",
    "    data.filter(like='home_team_history_opponent_rating_').columns.tolist()"
   ],
   "metadata": {
    "collapsed": false,
    "ExecuteTime": {
     "end_time": "2023-06-25T18:16:24.865882100Z",
     "start_time": "2023-06-25T18:16:23.876508300Z"
    }
   }
  },
  {
   "cell_type": "code",
   "execution_count": 1014,
   "outputs": [],
   "source": [
    "away_team_opponent_rating = \\\n",
    "    data.filter(like='away_team_history_opponent_rating_').columns.tolist()"
   ],
   "metadata": {
    "collapsed": false,
    "ExecuteTime": {
     "end_time": "2023-06-25T18:16:24.886584500Z",
     "start_time": "2023-06-25T18:16:23.919565900Z"
    }
   }
  },
  {
   "cell_type": "code",
   "execution_count": 1015,
   "outputs": [],
   "source": [
    "data['home_team_opponent_avg_rating_last_10_matches'] = data[home_team_opponent_rating].mean(axis=1)"
   ],
   "metadata": {
    "collapsed": false,
    "ExecuteTime": {
     "end_time": "2023-06-25T18:16:24.961179Z",
     "start_time": "2023-06-25T18:16:23.927676600Z"
    }
   }
  },
  {
   "cell_type": "code",
   "execution_count": 1016,
   "outputs": [],
   "source": [
    "data['away_team_opponent_avg_rating_last_10_matches'] = data[away_team_opponent_rating].mean(axis=1)"
   ],
   "metadata": {
    "collapsed": false,
    "ExecuteTime": {
     "end_time": "2023-06-25T18:16:25.042076100Z",
     "start_time": "2023-06-25T18:16:23.985506600Z"
    }
   }
  },
  {
   "cell_type": "code",
   "execution_count": 1017,
   "outputs": [],
   "source": [
    "data[home_team_opponent_rating] = data[home_team_opponent_rating].fillna(0)"
   ],
   "metadata": {
    "collapsed": false,
    "ExecuteTime": {
     "end_time": "2023-06-25T18:16:25.073546900Z",
     "start_time": "2023-06-25T18:16:24.065023200Z"
    }
   }
  },
  {
   "cell_type": "code",
   "execution_count": 1018,
   "outputs": [],
   "source": [
    "data[away_team_opponent_rating] = data[away_team_opponent_rating].fillna(0)"
   ],
   "metadata": {
    "collapsed": false,
    "ExecuteTime": {
     "end_time": "2023-06-25T18:16:25.487367400Z",
     "start_time": "2023-06-25T18:16:24.179045700Z"
    }
   }
  },
  {
   "cell_type": "code",
   "execution_count": 1019,
   "outputs": [],
   "source": [
    "data['home_team_opponent_rating_last_match'] = data['home_team_history_opponent_rating_1']"
   ],
   "metadata": {
    "collapsed": false,
    "ExecuteTime": {
     "end_time": "2023-06-25T18:16:25.487367400Z",
     "start_time": "2023-06-25T18:16:24.299422900Z"
    }
   }
  },
  {
   "cell_type": "code",
   "execution_count": 1020,
   "outputs": [],
   "source": [
    "data['away_team_opponent_rating_last_match'] = data['away_team_history_opponent_rating_1']"
   ],
   "metadata": {
    "collapsed": false,
    "ExecuteTime": {
     "end_time": "2023-06-25T18:16:25.487367400Z",
     "start_time": "2023-06-25T18:16:24.306442900Z"
    }
   }
  },
  {
   "cell_type": "code",
   "execution_count": 1021,
   "outputs": [],
   "source": [
    "data['home_team_opponent_avg_rating_last_30_days'] = 0\n",
    "for i in range(0,10):\n",
    "    data['home_team_opponent_avg_rating_last_30_days'] += data[home_team_opponent_rating[i]] * data[home_team_match_30_day_index[i]]\n",
    "data['home_team_opponent_avg_rating_last_30_days'] = data['home_team_opponent_avg_rating_last_30_days']/data['home_team_total_matches_last_30_days']"
   ],
   "metadata": {
    "collapsed": false,
    "ExecuteTime": {
     "end_time": "2023-06-25T18:16:25.487367400Z",
     "start_time": "2023-06-25T18:16:24.336708700Z"
    }
   }
  },
  {
   "cell_type": "code",
   "execution_count": 1022,
   "outputs": [],
   "source": [
    "data['away_team_opponent_avg_rating_last_30_days'] = 0\n",
    "for i in range(0,10):\n",
    "    data['away_team_opponent_avg_rating_last_30_days'] += data[away_team_opponent_rating[i]] * data[away_team_match_30_day_index[i]]\n",
    "data['away_team_opponent_avg_rating_last_30_days'] = data['away_team_opponent_avg_rating_last_30_days']/data['away_team_total_matches_last_30_days']"
   ],
   "metadata": {
    "collapsed": false,
    "ExecuteTime": {
     "end_time": "2023-06-25T18:16:25.487367400Z",
     "start_time": "2023-06-25T18:16:24.382722100Z"
    }
   }
  },
  {
   "cell_type": "code",
   "execution_count": 1023,
   "outputs": [],
   "source": [
    "data.drop(columns=home_team_opponent_rating, inplace=True)\n",
    "data.drop(columns=away_team_opponent_rating, inplace=True)"
   ],
   "metadata": {
    "collapsed": false,
    "ExecuteTime": {
     "end_time": "2023-06-25T18:16:25.631918600Z",
     "start_time": "2023-06-25T18:16:24.463332Z"
    }
   }
  },
  {
   "cell_type": "markdown",
   "source": [
    "## Features for leagues"
   ],
   "metadata": {
    "collapsed": false
   }
  },
  {
   "cell_type": "code",
   "execution_count": 1024,
   "outputs": [],
   "source": [
    "home_team_league = data.filter(like='home_team_history_league_id_').columns.tolist()"
   ],
   "metadata": {
    "collapsed": false,
    "ExecuteTime": {
     "end_time": "2023-06-25T18:16:25.637467800Z",
     "start_time": "2023-06-25T18:16:24.526630700Z"
    }
   }
  },
  {
   "cell_type": "code",
   "execution_count": 1025,
   "outputs": [],
   "source": [
    "away_team_league = data.filter(like='away_team_history_league_id_').columns.tolist()"
   ],
   "metadata": {
    "collapsed": false,
    "ExecuteTime": {
     "end_time": "2023-06-25T18:16:25.637467800Z",
     "start_time": "2023-06-25T18:16:24.562304700Z"
    }
   }
  },
  {
   "cell_type": "code",
   "execution_count": 1026,
   "outputs": [],
   "source": [
    "data['home_team_leagues_last_10_matches'] = data[home_team_league].nunique(axis=1)"
   ],
   "metadata": {
    "collapsed": false,
    "ExecuteTime": {
     "end_time": "2023-06-25T18:16:28.589726700Z",
     "start_time": "2023-06-25T18:16:24.562304700Z"
    }
   }
  },
  {
   "cell_type": "code",
   "execution_count": 1027,
   "outputs": [],
   "source": [
    "data['away_team_leagues_last_10_matches'] = data[away_team_league].nunique(axis=1)"
   ],
   "metadata": {
    "collapsed": false,
    "ExecuteTime": {
     "end_time": "2023-06-25T18:16:30.829717500Z",
     "start_time": "2023-06-25T18:16:28.589726700Z"
    }
   }
  },
  {
   "cell_type": "code",
   "execution_count": 1028,
   "outputs": [],
   "source": [
    "data[home_team_league] = data[home_team_league].fillna(0)"
   ],
   "metadata": {
    "collapsed": false,
    "ExecuteTime": {
     "end_time": "2023-06-25T18:16:30.910298900Z",
     "start_time": "2023-06-25T18:16:30.837227300Z"
    }
   }
  },
  {
   "cell_type": "code",
   "execution_count": 1029,
   "outputs": [],
   "source": [
    "data[away_team_league] = data[away_team_league].fillna(0)"
   ],
   "metadata": {
    "collapsed": false,
    "ExecuteTime": {
     "end_time": "2023-06-25T18:16:30.997788Z",
     "start_time": "2023-06-25T18:16:30.910298900Z"
    }
   }
  },
  {
   "cell_type": "code",
   "execution_count": 1030,
   "outputs": [],
   "source": [
    "data['home_team_same_league'] = np.where(data['home_team_history_league_id_1'] == data['league_id'], 1, 0)"
   ],
   "metadata": {
    "collapsed": false,
    "ExecuteTime": {
     "end_time": "2023-06-25T18:16:31.007802300Z",
     "start_time": "2023-06-25T18:16:30.997788Z"
    }
   }
  },
  {
   "cell_type": "code",
   "execution_count": 1031,
   "outputs": [],
   "source": [
    "data['away_team_same_league'] = np.where(data['away_team_history_league_id_1'] == data['league_id'], 1, 0)"
   ],
   "metadata": {
    "collapsed": false,
    "ExecuteTime": {
     "end_time": "2023-06-25T18:16:31.023441200Z",
     "start_time": "2023-06-25T18:16:31.007802300Z"
    }
   }
  },
  {
   "cell_type": "code",
   "execution_count": 1032,
   "outputs": [],
   "source": [
    "for i in range(0,10):\n",
    "    data[home_team_league[i]] = data[home_team_league[i]] * data[home_team_match_30_day_index[i]]\n",
    "data['home_team_leagues_last_30_days'] = pd.concat([data[col] for col in home_team_league],\n",
    "                                                   axis=1).nunique(axis=1)\n",
    "#Minus 1 to exclude the fillna(0) above, also not minus if there is no record for league_id\n",
    "data['home_team_leagues_last_30_days'] = np.where((data['home_team_history_league_id_1'] != 0) &\\\n",
    "                                                  (data['home_team_leagues_last_30_days'] > 1),\n",
    "                                                  data['home_team_leagues_last_30_days'] - 1,\n",
    "                                                  data['home_team_leagues_last_30_days'])"
   ],
   "metadata": {
    "collapsed": false,
    "ExecuteTime": {
     "end_time": "2023-06-25T18:16:33.285467700Z",
     "start_time": "2023-06-25T18:16:31.023441200Z"
    }
   }
  },
  {
   "cell_type": "code",
   "execution_count": 1033,
   "outputs": [],
   "source": [
    "for i in range(0,10):\n",
    "    data[away_team_league[i]] = data[away_team_league[i]] * data[away_team_match_30_day_index[i]]\n",
    "data['away_team_leagues_last_30_days'] = pd.concat([data[col] for col in away_team_league],\n",
    "                                                   axis=1).nunique(axis=1)\n",
    "#Minus 1 to exclude the fillna(0) above, also not minus if there is no record for league_id\n",
    "data['away_team_leagues_last_30_days'] = np.where((data['away_team_history_league_id_1'] != 0) &\\\n",
    "                                                  (data['away_team_leagues_last_30_days'] > 1),\n",
    "                                                  data['away_team_leagues_last_30_days'] - 1,\n",
    "                                                  data['away_team_leagues_last_30_days'])"
   ],
   "metadata": {
    "collapsed": false,
    "ExecuteTime": {
     "end_time": "2023-06-25T18:16:35.540648600Z",
     "start_time": "2023-06-25T18:16:33.290593100Z"
    }
   }
  },
  {
   "cell_type": "code",
   "execution_count": 1034,
   "outputs": [],
   "source": [
    "data.drop(columns=home_team_league, inplace=True)\n",
    "data.drop(columns=away_team_league, inplace=True)"
   ],
   "metadata": {
    "collapsed": false,
    "ExecuteTime": {
     "end_time": "2023-06-25T18:16:35.597757800Z",
     "start_time": "2023-06-25T18:16:35.540648600Z"
    }
   }
  },
  {
   "cell_type": "markdown",
   "source": [
    "## Drop redundant features"
   ],
   "metadata": {
    "collapsed": false
   }
  },
  {
   "cell_type": "markdown",
   "source": [
    "- Since the above insights have been extracted, there are few redundant features to be removed"
   ],
   "metadata": {
    "collapsed": false
   }
  },
  {
   "cell_type": "code",
   "execution_count": 1035,
   "outputs": [],
   "source": [
    "date_index_cols = data.filter(like='date_index').columns.tolist()\n",
    "data.drop(columns=date_index_cols, inplace=True)"
   ],
   "metadata": {
    "collapsed": false,
    "ExecuteTime": {
     "end_time": "2023-06-25T18:16:35.597757800Z",
     "start_time": "2023-06-25T18:16:35.564975300Z"
    }
   }
  },
  {
   "cell_type": "code",
   "execution_count": 1036,
   "outputs": [],
   "source": [
    "data.drop(columns=['home_team_name',\n",
    "                   'away_team_name',\n",
    "                   'league_name',\n",
    "                   'league_id',\n",
    "                   '30_day_ago_match_date'\n",
    "                   ], inplace=True)"
   ],
   "metadata": {
    "collapsed": false,
    "ExecuteTime": {
     "end_time": "2023-06-25T18:16:35.616990500Z",
     "start_time": "2023-06-25T18:16:35.616990500Z"
    }
   }
  },
  {
   "cell_type": "markdown",
   "source": [
    "## General features"
   ],
   "metadata": {
    "collapsed": false
   }
  },
  {
   "cell_type": "code",
   "execution_count": 1037,
   "outputs": [
    {
     "data": {
      "text/plain": "         id target          match_date is_cup  home_team_days_from_last_match  \\\n0  11906497   away 2019-12-01 00:45:00  False                        5.024306   \n1  11984383   home 2019-12-01 01:00:00  False                        3.166667   \n2  11983301   draw 2019-12-01 01:00:00  False                        2.989583   \n3  11983471   away 2019-12-01 01:00:00  False                        3.000000   \n4  11883005   home 2019-12-01 01:00:00  False                        3.291667   \n\n   away_team_days_from_last_match  home_team_total_matches_last_30_days  \\\n0                        7.197917                                     3   \n1                        3.166667                                     4   \n2                        9.979167                                     3   \n3                        3.000000                                     5   \n4                        3.250000                                     4   \n\n   away_team_total_matches_last_30_days  \\\n0                                     4   \n1                                     4   \n2                                     2   \n3                                     5   \n4                                     4   \n\n   home_team_matches_play_home_last_30_days  \\\n0                                       1.0   \n1                                       2.0   \n2                                       1.0   \n3                                       2.0   \n4                                       2.0   \n\n   away_team_matches_play_home_last_30_days  ...  \\\n0                                       2.0  ...   \n1                                       1.0  ...   \n2                                       0.0  ...   \n3                                       3.0  ...   \n4                                       3.0  ...   \n\n   home_team_opponent_rating_last_match  away_team_opponent_rating_last_match  \\\n0                              5.199840                              5.253225   \n1                              3.671610                              6.881762   \n2                              6.825194                              5.487338   \n3                              5.998800                              5.998800   \n4                              5.535514                              5.575180   \n\n   home_team_opponent_avg_rating_last_30_days  \\\n0                                    4.675010   \n1                                    4.719839   \n2                                    5.390767   \n3                                    5.471637   \n4                                    5.210351   \n\n   away_team_opponent_avg_rating_last_30_days  \\\n0                                    3.617903   \n1                                    6.894708   \n2                                    6.592525   \n3                                    6.068977   \n4                                    5.347974   \n\n   home_team_leagues_last_10_matches  away_team_leagues_last_10_matches  \\\n0                                  1                                  3   \n1                                  1                                  1   \n2                                  1                                  1   \n3                                  1                                  2   \n4                                  1                                  1   \n\n   home_team_same_league  away_team_same_league  \\\n0                      1                      0   \n1                      1                      1   \n2                      1                      1   \n3                      1                      1   \n4                      1                      1   \n\n   home_team_leagues_last_30_days  away_team_leagues_last_30_days  \n0                               1                               3  \n1                               1                               1  \n2                               1                               1  \n3                               1                               1  \n4                               1                               1  \n\n[5 rows x 46 columns]",
      "text/html": "<div>\n<style scoped>\n    .dataframe tbody tr th:only-of-type {\n        vertical-align: middle;\n    }\n\n    .dataframe tbody tr th {\n        vertical-align: top;\n    }\n\n    .dataframe thead th {\n        text-align: right;\n    }\n</style>\n<table border=\"1\" class=\"dataframe\">\n  <thead>\n    <tr style=\"text-align: right;\">\n      <th></th>\n      <th>id</th>\n      <th>target</th>\n      <th>match_date</th>\n      <th>is_cup</th>\n      <th>home_team_days_from_last_match</th>\n      <th>away_team_days_from_last_match</th>\n      <th>home_team_total_matches_last_30_days</th>\n      <th>away_team_total_matches_last_30_days</th>\n      <th>home_team_matches_play_home_last_30_days</th>\n      <th>away_team_matches_play_home_last_30_days</th>\n      <th>...</th>\n      <th>home_team_opponent_rating_last_match</th>\n      <th>away_team_opponent_rating_last_match</th>\n      <th>home_team_opponent_avg_rating_last_30_days</th>\n      <th>away_team_opponent_avg_rating_last_30_days</th>\n      <th>home_team_leagues_last_10_matches</th>\n      <th>away_team_leagues_last_10_matches</th>\n      <th>home_team_same_league</th>\n      <th>away_team_same_league</th>\n      <th>home_team_leagues_last_30_days</th>\n      <th>away_team_leagues_last_30_days</th>\n    </tr>\n  </thead>\n  <tbody>\n    <tr>\n      <th>0</th>\n      <td>11906497</td>\n      <td>away</td>\n      <td>2019-12-01 00:45:00</td>\n      <td>False</td>\n      <td>5.024306</td>\n      <td>7.197917</td>\n      <td>3</td>\n      <td>4</td>\n      <td>1.0</td>\n      <td>2.0</td>\n      <td>...</td>\n      <td>5.199840</td>\n      <td>5.253225</td>\n      <td>4.675010</td>\n      <td>3.617903</td>\n      <td>1</td>\n      <td>3</td>\n      <td>1</td>\n      <td>0</td>\n      <td>1</td>\n      <td>3</td>\n    </tr>\n    <tr>\n      <th>1</th>\n      <td>11984383</td>\n      <td>home</td>\n      <td>2019-12-01 01:00:00</td>\n      <td>False</td>\n      <td>3.166667</td>\n      <td>3.166667</td>\n      <td>4</td>\n      <td>4</td>\n      <td>2.0</td>\n      <td>1.0</td>\n      <td>...</td>\n      <td>3.671610</td>\n      <td>6.881762</td>\n      <td>4.719839</td>\n      <td>6.894708</td>\n      <td>1</td>\n      <td>1</td>\n      <td>1</td>\n      <td>1</td>\n      <td>1</td>\n      <td>1</td>\n    </tr>\n    <tr>\n      <th>2</th>\n      <td>11983301</td>\n      <td>draw</td>\n      <td>2019-12-01 01:00:00</td>\n      <td>False</td>\n      <td>2.989583</td>\n      <td>9.979167</td>\n      <td>3</td>\n      <td>2</td>\n      <td>1.0</td>\n      <td>0.0</td>\n      <td>...</td>\n      <td>6.825194</td>\n      <td>5.487338</td>\n      <td>5.390767</td>\n      <td>6.592525</td>\n      <td>1</td>\n      <td>1</td>\n      <td>1</td>\n      <td>1</td>\n      <td>1</td>\n      <td>1</td>\n    </tr>\n    <tr>\n      <th>3</th>\n      <td>11983471</td>\n      <td>away</td>\n      <td>2019-12-01 01:00:00</td>\n      <td>False</td>\n      <td>3.000000</td>\n      <td>3.000000</td>\n      <td>5</td>\n      <td>5</td>\n      <td>2.0</td>\n      <td>3.0</td>\n      <td>...</td>\n      <td>5.998800</td>\n      <td>5.998800</td>\n      <td>5.471637</td>\n      <td>6.068977</td>\n      <td>1</td>\n      <td>2</td>\n      <td>1</td>\n      <td>1</td>\n      <td>1</td>\n      <td>1</td>\n    </tr>\n    <tr>\n      <th>4</th>\n      <td>11883005</td>\n      <td>home</td>\n      <td>2019-12-01 01:00:00</td>\n      <td>False</td>\n      <td>3.291667</td>\n      <td>3.250000</td>\n      <td>4</td>\n      <td>4</td>\n      <td>2.0</td>\n      <td>3.0</td>\n      <td>...</td>\n      <td>5.535514</td>\n      <td>5.575180</td>\n      <td>5.210351</td>\n      <td>5.347974</td>\n      <td>1</td>\n      <td>1</td>\n      <td>1</td>\n      <td>1</td>\n      <td>1</td>\n      <td>1</td>\n    </tr>\n  </tbody>\n</table>\n<p>5 rows × 46 columns</p>\n</div>"
     },
     "execution_count": 1037,
     "metadata": {},
     "output_type": "execute_result"
    }
   ],
   "source": [
    "data.head()"
   ],
   "metadata": {
    "collapsed": false,
    "ExecuteTime": {
     "end_time": "2023-06-25T18:16:35.687787Z",
     "start_time": "2023-06-25T18:16:35.616990500Z"
    }
   }
  },
  {
   "cell_type": "code",
   "execution_count": 1038,
   "outputs": [],
   "source": [
    "data['dow_match'] = data['match_date'].dt.dayofweek"
   ],
   "metadata": {
    "collapsed": false,
    "ExecuteTime": {
     "end_time": "2023-06-25T18:16:35.687787Z",
     "start_time": "2023-06-25T18:16:35.650175800Z"
    }
   }
  },
  {
   "cell_type": "code",
   "execution_count": 1039,
   "outputs": [],
   "source": [
    "data['week_match'] = data['match_date'].dt.isocalendar().week"
   ],
   "metadata": {
    "collapsed": false,
    "ExecuteTime": {
     "end_time": "2023-06-25T18:16:35.705848600Z",
     "start_time": "2023-06-25T18:16:35.667021900Z"
    }
   }
  },
  {
   "cell_type": "code",
   "execution_count": 1040,
   "outputs": [],
   "source": [
    "data['month_match'] = data['match_date'].dt.month"
   ],
   "metadata": {
    "collapsed": false,
    "ExecuteTime": {
     "end_time": "2023-06-25T18:16:35.761614500Z",
     "start_time": "2023-06-25T18:16:35.705848600Z"
    }
   }
  },
  {
   "cell_type": "code",
   "execution_count": 1041,
   "outputs": [],
   "source": [
    "data['year_match'] = data['match_date'].dt.year"
   ],
   "metadata": {
    "collapsed": false,
    "ExecuteTime": {
     "end_time": "2023-06-25T18:16:35.800833500Z",
     "start_time": "2023-06-25T18:16:35.716883500Z"
    }
   }
  },
  {
   "cell_type": "code",
   "execution_count": 1042,
   "outputs": [],
   "source": [
    "data['is_cup'] = data['is_cup'].astype('int')"
   ],
   "metadata": {
    "collapsed": false,
    "ExecuteTime": {
     "end_time": "2023-06-25T18:16:35.822743200Z",
     "start_time": "2023-06-25T18:16:35.729940300Z"
    }
   }
  },
  {
   "cell_type": "code",
   "execution_count": 1043,
   "outputs": [],
   "source": [
    "data.drop(columns=['match_date'], inplace=True)"
   ],
   "metadata": {
    "collapsed": false,
    "ExecuteTime": {
     "end_time": "2023-06-25T18:16:35.889960800Z",
     "start_time": "2023-06-25T18:16:35.761614500Z"
    }
   }
  },
  {
   "cell_type": "markdown",
   "source": [
    "# Data exploration"
   ],
   "metadata": {
    "collapsed": false
   }
  },
  {
   "cell_type": "markdown",
   "source": [
    "- Usually, data exploration shall be implemented before the feature engineering, but there were too many redundant infor and less insights that the feature engineering should take place before this"
   ],
   "metadata": {
    "collapsed": false
   }
  },
  {
   "cell_type": "code",
   "execution_count": 1044,
   "outputs": [
    {
     "data": {
      "text/plain": "         id target  is_cup  home_team_days_from_last_match  \\\n0  11906497   away       0                        5.024306   \n1  11984383   home       0                        3.166667   \n2  11983301   draw       0                        2.989583   \n3  11983471   away       0                        3.000000   \n4  11883005   home       0                        3.291667   \n\n   away_team_days_from_last_match  home_team_total_matches_last_30_days  \\\n0                        7.197917                                     3   \n1                        3.166667                                     4   \n2                        9.979167                                     3   \n3                        3.000000                                     5   \n4                        3.250000                                     4   \n\n   away_team_total_matches_last_30_days  \\\n0                                     4   \n1                                     4   \n2                                     2   \n3                                     5   \n4                                     4   \n\n   home_team_matches_play_home_last_30_days  \\\n0                                       1.0   \n1                                       2.0   \n2                                       1.0   \n3                                       2.0   \n4                                       2.0   \n\n   away_team_matches_play_home_last_30_days  \\\n0                                       2.0   \n1                                       1.0   \n2                                       0.0   \n3                                       3.0   \n4                                       3.0   \n\n   home_team_matches_cup_comp_last_10_matches  ...  \\\n0                                         0.0  ...   \n1                                         0.0  ...   \n2                                         0.0  ...   \n3                                         0.0  ...   \n4                                         0.0  ...   \n\n   home_team_leagues_last_10_matches  away_team_leagues_last_10_matches  \\\n0                                  1                                  3   \n1                                  1                                  1   \n2                                  1                                  1   \n3                                  1                                  2   \n4                                  1                                  1   \n\n   home_team_same_league  away_team_same_league  \\\n0                      1                      0   \n1                      1                      1   \n2                      1                      1   \n3                      1                      1   \n4                      1                      1   \n\n   home_team_leagues_last_30_days  away_team_leagues_last_30_days  dow_match  \\\n0                               1                               3          6   \n1                               1                               1          6   \n2                               1                               1          6   \n3                               1                               1          6   \n4                               1                               1          6   \n\n   week_match  month_match  year_match  \n0          48           12        2019  \n1          48           12        2019  \n2          48           12        2019  \n3          48           12        2019  \n4          48           12        2019  \n\n[5 rows x 49 columns]",
      "text/html": "<div>\n<style scoped>\n    .dataframe tbody tr th:only-of-type {\n        vertical-align: middle;\n    }\n\n    .dataframe tbody tr th {\n        vertical-align: top;\n    }\n\n    .dataframe thead th {\n        text-align: right;\n    }\n</style>\n<table border=\"1\" class=\"dataframe\">\n  <thead>\n    <tr style=\"text-align: right;\">\n      <th></th>\n      <th>id</th>\n      <th>target</th>\n      <th>is_cup</th>\n      <th>home_team_days_from_last_match</th>\n      <th>away_team_days_from_last_match</th>\n      <th>home_team_total_matches_last_30_days</th>\n      <th>away_team_total_matches_last_30_days</th>\n      <th>home_team_matches_play_home_last_30_days</th>\n      <th>away_team_matches_play_home_last_30_days</th>\n      <th>home_team_matches_cup_comp_last_10_matches</th>\n      <th>...</th>\n      <th>home_team_leagues_last_10_matches</th>\n      <th>away_team_leagues_last_10_matches</th>\n      <th>home_team_same_league</th>\n      <th>away_team_same_league</th>\n      <th>home_team_leagues_last_30_days</th>\n      <th>away_team_leagues_last_30_days</th>\n      <th>dow_match</th>\n      <th>week_match</th>\n      <th>month_match</th>\n      <th>year_match</th>\n    </tr>\n  </thead>\n  <tbody>\n    <tr>\n      <th>0</th>\n      <td>11906497</td>\n      <td>away</td>\n      <td>0</td>\n      <td>5.024306</td>\n      <td>7.197917</td>\n      <td>3</td>\n      <td>4</td>\n      <td>1.0</td>\n      <td>2.0</td>\n      <td>0.0</td>\n      <td>...</td>\n      <td>1</td>\n      <td>3</td>\n      <td>1</td>\n      <td>0</td>\n      <td>1</td>\n      <td>3</td>\n      <td>6</td>\n      <td>48</td>\n      <td>12</td>\n      <td>2019</td>\n    </tr>\n    <tr>\n      <th>1</th>\n      <td>11984383</td>\n      <td>home</td>\n      <td>0</td>\n      <td>3.166667</td>\n      <td>3.166667</td>\n      <td>4</td>\n      <td>4</td>\n      <td>2.0</td>\n      <td>1.0</td>\n      <td>0.0</td>\n      <td>...</td>\n      <td>1</td>\n      <td>1</td>\n      <td>1</td>\n      <td>1</td>\n      <td>1</td>\n      <td>1</td>\n      <td>6</td>\n      <td>48</td>\n      <td>12</td>\n      <td>2019</td>\n    </tr>\n    <tr>\n      <th>2</th>\n      <td>11983301</td>\n      <td>draw</td>\n      <td>0</td>\n      <td>2.989583</td>\n      <td>9.979167</td>\n      <td>3</td>\n      <td>2</td>\n      <td>1.0</td>\n      <td>0.0</td>\n      <td>0.0</td>\n      <td>...</td>\n      <td>1</td>\n      <td>1</td>\n      <td>1</td>\n      <td>1</td>\n      <td>1</td>\n      <td>1</td>\n      <td>6</td>\n      <td>48</td>\n      <td>12</td>\n      <td>2019</td>\n    </tr>\n    <tr>\n      <th>3</th>\n      <td>11983471</td>\n      <td>away</td>\n      <td>0</td>\n      <td>3.000000</td>\n      <td>3.000000</td>\n      <td>5</td>\n      <td>5</td>\n      <td>2.0</td>\n      <td>3.0</td>\n      <td>0.0</td>\n      <td>...</td>\n      <td>1</td>\n      <td>2</td>\n      <td>1</td>\n      <td>1</td>\n      <td>1</td>\n      <td>1</td>\n      <td>6</td>\n      <td>48</td>\n      <td>12</td>\n      <td>2019</td>\n    </tr>\n    <tr>\n      <th>4</th>\n      <td>11883005</td>\n      <td>home</td>\n      <td>0</td>\n      <td>3.291667</td>\n      <td>3.250000</td>\n      <td>4</td>\n      <td>4</td>\n      <td>2.0</td>\n      <td>3.0</td>\n      <td>0.0</td>\n      <td>...</td>\n      <td>1</td>\n      <td>1</td>\n      <td>1</td>\n      <td>1</td>\n      <td>1</td>\n      <td>1</td>\n      <td>6</td>\n      <td>48</td>\n      <td>12</td>\n      <td>2019</td>\n    </tr>\n  </tbody>\n</table>\n<p>5 rows × 49 columns</p>\n</div>"
     },
     "execution_count": 1044,
     "metadata": {},
     "output_type": "execute_result"
    }
   ],
   "source": [
    "data.head()"
   ],
   "metadata": {
    "collapsed": false,
    "ExecuteTime": {
     "end_time": "2023-06-25T18:16:35.960982500Z",
     "start_time": "2023-06-25T18:16:35.761614500Z"
    }
   }
  },
  {
   "cell_type": "code",
   "execution_count": 1045,
   "outputs": [],
   "source": [
    "null_columns_after_feature_engineering = data.columns[data.isnull().any()]"
   ],
   "metadata": {
    "collapsed": false,
    "ExecuteTime": {
     "end_time": "2023-06-25T18:16:36.051062700Z",
     "start_time": "2023-06-25T18:16:35.805685700Z"
    }
   }
  },
  {
   "cell_type": "code",
   "execution_count": 1046,
   "outputs": [
    {
     "data": {
      "text/plain": "Index(['home_team_days_from_last_match', 'away_team_days_from_last_match',\n       'home_team_avg_goals_last_10_matches',\n       'away_team_avg_goals_last_10_matches',\n       'home_team_avg_goals_last_30_days', 'away_team_avg_goals_last_30_days',\n       'home_team_opponent_avg_goals_last_10_matches',\n       'away_team_opponent_avg_goals_last_10_matches',\n       'home_team_opponent_avg_goals_last_30_days',\n       'away_team_opponent_avg_goals_last_30_days',\n       'home_team_avg_rating_last_10_matches',\n       'away_team_avg_rating_last_10_matches',\n       'home_team_avg_rating_last_30_days',\n       'away_team_avg_rating_last_30_days',\n       'home_team_opponent_avg_rating_last_10_matches',\n       'away_team_opponent_avg_rating_last_10_matches',\n       'home_team_opponent_avg_rating_last_30_days',\n       'away_team_opponent_avg_rating_last_30_days'],\n      dtype='object')"
     },
     "execution_count": 1046,
     "metadata": {},
     "output_type": "execute_result"
    }
   ],
   "source": [
    "null_columns_after_feature_engineering"
   ],
   "metadata": {
    "collapsed": false,
    "ExecuteTime": {
     "end_time": "2023-06-25T18:16:36.051062700Z",
     "start_time": "2023-06-25T18:16:35.805685700Z"
    }
   }
  },
  {
   "cell_type": "markdown",
   "source": [
    "It's obvious that these features have null because of the 30-day lmitation, therefore, if any game has no historical info of the last 30 days, then the last match's info shall be used\n",
    "\n",
    "But there are still matches without historical data of the last match"
   ],
   "metadata": {
    "collapsed": false
   }
  },
  {
   "cell_type": "code",
   "execution_count": 1047,
   "outputs": [
    {
     "data": {
      "text/plain": "              id target  is_cup  home_team_days_from_last_match  \\\n255     11973369   home       0                             NaN   \n921     11982875   away       1                             NaN   \n924     11979240   away       1                             NaN   \n981     11982876   home       1                             NaN   \n1112    11982888   away       1                             NaN   \n...          ...    ...     ...                             ...   \n108636  18016682   home       0                             NaN   \n109005  17137956   home       0                             NaN   \n109278  18016684   draw       0                             NaN   \n110262  17137938   home       0                             NaN   \n110647  17911170   home       0                             NaN   \n\n        away_team_days_from_last_match  home_team_total_matches_last_30_days  \\\n255                           7.000000                                     0   \n921                                NaN                                     0   \n924                           3.791667                                     0   \n981                                NaN                                     0   \n1112                               NaN                                     0   \n...                                ...                                   ...   \n108636                      756.187500                                     0   \n109005                      223.041667                                     0   \n109278                      168.020833                                     0   \n110262                      221.041667                                     0   \n110647                             NaN                                     0   \n\n        away_team_total_matches_last_30_days  \\\n255                                        1   \n921                                        0   \n924                                        3   \n981                                        0   \n1112                                       0   \n...                                      ...   \n108636                                     0   \n109005                                     0   \n109278                                     0   \n110262                                     0   \n110647                                     0   \n\n        home_team_matches_play_home_last_30_days  \\\n255                                          0.0   \n921                                          0.0   \n924                                          0.0   \n981                                          0.0   \n1112                                         0.0   \n...                                          ...   \n108636                                       0.0   \n109005                                       0.0   \n109278                                       0.0   \n110262                                       0.0   \n110647                                       0.0   \n\n        away_team_matches_play_home_last_30_days  \\\n255                                          1.0   \n921                                          0.0   \n924                                          2.0   \n981                                          0.0   \n1112                                         0.0   \n...                                          ...   \n108636                                       0.0   \n109005                                       0.0   \n109278                                       0.0   \n110262                                       0.0   \n110647                                       0.0   \n\n        home_team_matches_cup_comp_last_10_matches  ...  \\\n255                                            0.0  ...   \n921                                            0.0  ...   \n924                                            0.0  ...   \n981                                            0.0  ...   \n1112                                           0.0  ...   \n...                                            ...  ...   \n108636                                         0.0  ...   \n109005                                         0.0  ...   \n109278                                         0.0  ...   \n110262                                         0.0  ...   \n110647                                         0.0  ...   \n\n        home_team_leagues_last_10_matches  away_team_leagues_last_10_matches  \\\n255                                     0                                  2   \n921                                     0                                  0   \n924                                     0                                  2   \n981                                     0                                  0   \n1112                                    0                                  0   \n...                                   ...                                ...   \n108636                                  0                                  1   \n109005                                  0                                  1   \n109278                                  0                                  1   \n110262                                  0                                  2   \n110647                                  0                                  0   \n\n        home_team_same_league  away_team_same_league  \\\n255                         0                      1   \n921                         0                      0   \n924                         0                      0   \n981                         0                      0   \n1112                        0                      0   \n...                       ...                    ...   \n108636                      0                      0   \n109005                      0                      1   \n109278                      0                      1   \n110262                      0                      1   \n110647                      0                      0   \n\n        home_team_leagues_last_30_days  away_team_leagues_last_30_days  \\\n255                                  1                               1   \n921                                  1                               1   \n924                                  1                               1   \n981                                  1                               1   \n1112                                 1                               1   \n...                                ...                             ...   \n108636                               1                               1   \n109005                               1                               1   \n109278                               1                               1   \n110262                               1                               1   \n110647                               1                               1   \n\n        dow_match  week_match  month_match  year_match  \n255             6          48           12        2019  \n921             2          49           12        2019  \n924             2          49           12        2019  \n981             2          49           12        2019  \n1112            3          49           12        2019  \n...           ...         ...          ...         ...  \n108636          5          16            4        2021  \n109005          5          16            4        2021  \n109278          6          16            4        2021  \n110262          2          17            4        2021  \n110647          4          17            4        2021  \n\n[1159 rows x 49 columns]",
      "text/html": "<div>\n<style scoped>\n    .dataframe tbody tr th:only-of-type {\n        vertical-align: middle;\n    }\n\n    .dataframe tbody tr th {\n        vertical-align: top;\n    }\n\n    .dataframe thead th {\n        text-align: right;\n    }\n</style>\n<table border=\"1\" class=\"dataframe\">\n  <thead>\n    <tr style=\"text-align: right;\">\n      <th></th>\n      <th>id</th>\n      <th>target</th>\n      <th>is_cup</th>\n      <th>home_team_days_from_last_match</th>\n      <th>away_team_days_from_last_match</th>\n      <th>home_team_total_matches_last_30_days</th>\n      <th>away_team_total_matches_last_30_days</th>\n      <th>home_team_matches_play_home_last_30_days</th>\n      <th>away_team_matches_play_home_last_30_days</th>\n      <th>home_team_matches_cup_comp_last_10_matches</th>\n      <th>...</th>\n      <th>home_team_leagues_last_10_matches</th>\n      <th>away_team_leagues_last_10_matches</th>\n      <th>home_team_same_league</th>\n      <th>away_team_same_league</th>\n      <th>home_team_leagues_last_30_days</th>\n      <th>away_team_leagues_last_30_days</th>\n      <th>dow_match</th>\n      <th>week_match</th>\n      <th>month_match</th>\n      <th>year_match</th>\n    </tr>\n  </thead>\n  <tbody>\n    <tr>\n      <th>255</th>\n      <td>11973369</td>\n      <td>home</td>\n      <td>0</td>\n      <td>NaN</td>\n      <td>7.000000</td>\n      <td>0</td>\n      <td>1</td>\n      <td>0.0</td>\n      <td>1.0</td>\n      <td>0.0</td>\n      <td>...</td>\n      <td>0</td>\n      <td>2</td>\n      <td>0</td>\n      <td>1</td>\n      <td>1</td>\n      <td>1</td>\n      <td>6</td>\n      <td>48</td>\n      <td>12</td>\n      <td>2019</td>\n    </tr>\n    <tr>\n      <th>921</th>\n      <td>11982875</td>\n      <td>away</td>\n      <td>1</td>\n      <td>NaN</td>\n      <td>NaN</td>\n      <td>0</td>\n      <td>0</td>\n      <td>0.0</td>\n      <td>0.0</td>\n      <td>0.0</td>\n      <td>...</td>\n      <td>0</td>\n      <td>0</td>\n      <td>0</td>\n      <td>0</td>\n      <td>1</td>\n      <td>1</td>\n      <td>2</td>\n      <td>49</td>\n      <td>12</td>\n      <td>2019</td>\n    </tr>\n    <tr>\n      <th>924</th>\n      <td>11979240</td>\n      <td>away</td>\n      <td>1</td>\n      <td>NaN</td>\n      <td>3.791667</td>\n      <td>0</td>\n      <td>3</td>\n      <td>0.0</td>\n      <td>2.0</td>\n      <td>0.0</td>\n      <td>...</td>\n      <td>0</td>\n      <td>2</td>\n      <td>0</td>\n      <td>0</td>\n      <td>1</td>\n      <td>1</td>\n      <td>2</td>\n      <td>49</td>\n      <td>12</td>\n      <td>2019</td>\n    </tr>\n    <tr>\n      <th>981</th>\n      <td>11982876</td>\n      <td>home</td>\n      <td>1</td>\n      <td>NaN</td>\n      <td>NaN</td>\n      <td>0</td>\n      <td>0</td>\n      <td>0.0</td>\n      <td>0.0</td>\n      <td>0.0</td>\n      <td>...</td>\n      <td>0</td>\n      <td>0</td>\n      <td>0</td>\n      <td>0</td>\n      <td>1</td>\n      <td>1</td>\n      <td>2</td>\n      <td>49</td>\n      <td>12</td>\n      <td>2019</td>\n    </tr>\n    <tr>\n      <th>1112</th>\n      <td>11982888</td>\n      <td>away</td>\n      <td>1</td>\n      <td>NaN</td>\n      <td>NaN</td>\n      <td>0</td>\n      <td>0</td>\n      <td>0.0</td>\n      <td>0.0</td>\n      <td>0.0</td>\n      <td>...</td>\n      <td>0</td>\n      <td>0</td>\n      <td>0</td>\n      <td>0</td>\n      <td>1</td>\n      <td>1</td>\n      <td>3</td>\n      <td>49</td>\n      <td>12</td>\n      <td>2019</td>\n    </tr>\n    <tr>\n      <th>...</th>\n      <td>...</td>\n      <td>...</td>\n      <td>...</td>\n      <td>...</td>\n      <td>...</td>\n      <td>...</td>\n      <td>...</td>\n      <td>...</td>\n      <td>...</td>\n      <td>...</td>\n      <td>...</td>\n      <td>...</td>\n      <td>...</td>\n      <td>...</td>\n      <td>...</td>\n      <td>...</td>\n      <td>...</td>\n      <td>...</td>\n      <td>...</td>\n      <td>...</td>\n      <td>...</td>\n    </tr>\n    <tr>\n      <th>108636</th>\n      <td>18016682</td>\n      <td>home</td>\n      <td>0</td>\n      <td>NaN</td>\n      <td>756.187500</td>\n      <td>0</td>\n      <td>0</td>\n      <td>0.0</td>\n      <td>0.0</td>\n      <td>0.0</td>\n      <td>...</td>\n      <td>0</td>\n      <td>1</td>\n      <td>0</td>\n      <td>0</td>\n      <td>1</td>\n      <td>1</td>\n      <td>5</td>\n      <td>16</td>\n      <td>4</td>\n      <td>2021</td>\n    </tr>\n    <tr>\n      <th>109005</th>\n      <td>17137956</td>\n      <td>home</td>\n      <td>0</td>\n      <td>NaN</td>\n      <td>223.041667</td>\n      <td>0</td>\n      <td>0</td>\n      <td>0.0</td>\n      <td>0.0</td>\n      <td>0.0</td>\n      <td>...</td>\n      <td>0</td>\n      <td>1</td>\n      <td>0</td>\n      <td>1</td>\n      <td>1</td>\n      <td>1</td>\n      <td>5</td>\n      <td>16</td>\n      <td>4</td>\n      <td>2021</td>\n    </tr>\n    <tr>\n      <th>109278</th>\n      <td>18016684</td>\n      <td>draw</td>\n      <td>0</td>\n      <td>NaN</td>\n      <td>168.020833</td>\n      <td>0</td>\n      <td>0</td>\n      <td>0.0</td>\n      <td>0.0</td>\n      <td>0.0</td>\n      <td>...</td>\n      <td>0</td>\n      <td>1</td>\n      <td>0</td>\n      <td>1</td>\n      <td>1</td>\n      <td>1</td>\n      <td>6</td>\n      <td>16</td>\n      <td>4</td>\n      <td>2021</td>\n    </tr>\n    <tr>\n      <th>110262</th>\n      <td>17137938</td>\n      <td>home</td>\n      <td>0</td>\n      <td>NaN</td>\n      <td>221.041667</td>\n      <td>0</td>\n      <td>0</td>\n      <td>0.0</td>\n      <td>0.0</td>\n      <td>0.0</td>\n      <td>...</td>\n      <td>0</td>\n      <td>2</td>\n      <td>0</td>\n      <td>1</td>\n      <td>1</td>\n      <td>1</td>\n      <td>2</td>\n      <td>17</td>\n      <td>4</td>\n      <td>2021</td>\n    </tr>\n    <tr>\n      <th>110647</th>\n      <td>17911170</td>\n      <td>home</td>\n      <td>0</td>\n      <td>NaN</td>\n      <td>NaN</td>\n      <td>0</td>\n      <td>0</td>\n      <td>0.0</td>\n      <td>0.0</td>\n      <td>0.0</td>\n      <td>...</td>\n      <td>0</td>\n      <td>0</td>\n      <td>0</td>\n      <td>0</td>\n      <td>1</td>\n      <td>1</td>\n      <td>4</td>\n      <td>17</td>\n      <td>4</td>\n      <td>2021</td>\n    </tr>\n  </tbody>\n</table>\n<p>1159 rows × 49 columns</p>\n</div>"
     },
     "execution_count": 1047,
     "metadata": {},
     "output_type": "execute_result"
    }
   ],
   "source": [
    "data[data['home_team_days_from_last_match'].isnull()]"
   ],
   "metadata": {
    "collapsed": false,
    "ExecuteTime": {
     "end_time": "2023-06-25T18:16:36.052064200Z",
     "start_time": "2023-06-25T18:16:35.822743200Z"
    }
   }
  },
  {
   "cell_type": "code",
   "execution_count": 1048,
   "outputs": [
    {
     "data": {
      "text/plain": "              id target  is_cup  home_team_days_from_last_match  \\\n51      11977834   home       1                        3.000000   \n329     11980887   home       0                      235.937500   \n679     11981436   home       0                      126.000000   \n715     11983527   home       1                        5.895833   \n748     11983528   home       1                        6.000000   \n...          ...    ...     ...                             ...   \n110516  18037108   home       0                        4.031250   \n110638  17993681   away       0                        6.177083   \n110647  17911170   home       0                             NaN   \n110725  18031837   home       1                      174.072917   \n110768  17933851   home       0                       11.958333   \n\n        away_team_days_from_last_match  home_team_total_matches_last_30_days  \\\n51                                 NaN                                     2   \n329                                NaN                                     0   \n679                                NaN                                     0   \n715                                NaN                                     1   \n748                                NaN                                     1   \n...                                ...                                   ...   \n110516                             NaN                                     4   \n110638                             NaN                                     1   \n110647                             NaN                                     0   \n110725                             NaN                                     0   \n110768                             NaN                                     1   \n\n        away_team_total_matches_last_30_days  \\\n51                                         0   \n329                                        0   \n679                                        0   \n715                                        0   \n748                                        0   \n...                                      ...   \n110516                                     0   \n110638                                     0   \n110647                                     0   \n110725                                     0   \n110768                                     0   \n\n        home_team_matches_play_home_last_30_days  \\\n51                                           1.0   \n329                                          0.0   \n679                                          0.0   \n715                                          0.0   \n748                                          1.0   \n...                                          ...   \n110516                                       1.0   \n110638                                       0.0   \n110647                                       0.0   \n110725                                       0.0   \n110768                                       1.0   \n\n        away_team_matches_play_home_last_30_days  \\\n51                                           0.0   \n329                                          0.0   \n679                                          0.0   \n715                                          0.0   \n748                                          0.0   \n...                                          ...   \n110516                                       0.0   \n110638                                       0.0   \n110647                                       0.0   \n110725                                       0.0   \n110768                                       0.0   \n\n        home_team_matches_cup_comp_last_10_matches  ...  \\\n51                                             2.0  ...   \n329                                            3.0  ...   \n679                                            0.0  ...   \n715                                            0.0  ...   \n748                                            1.0  ...   \n...                                            ...  ...   \n110516                                         0.0  ...   \n110638                                         0.0  ...   \n110647                                         0.0  ...   \n110725                                         0.0  ...   \n110768                                         0.0  ...   \n\n        home_team_leagues_last_10_matches  away_team_leagues_last_10_matches  \\\n51                                      1                                  0   \n329                                     2                                  0   \n679                                     1                                  0   \n715                                     1                                  0   \n748                                     2                                  0   \n...                                   ...                                ...   \n110516                                  2                                  0   \n110638                                  1                                  0   \n110647                                  0                                  0   \n110725                                  1                                  0   \n110768                                  1                                  0   \n\n        home_team_same_league  away_team_same_league  \\\n51                          1                      0   \n329                         0                      0   \n679                         1                      0   \n715                         0                      0   \n748                         0                      0   \n...                       ...                    ...   \n110516                      1                      0   \n110638                      1                      0   \n110647                      0                      0   \n110725                      0                      0   \n110768                      1                      0   \n\n        home_team_leagues_last_30_days  away_team_leagues_last_30_days  \\\n51                                   1                               1   \n329                                  1                               1   \n679                                  1                               1   \n715                                  1                               1   \n748                                  1                               1   \n...                                ...                             ...   \n110516                               1                               1   \n110638                               1                               1   \n110647                               1                               1   \n110725                               1                               1   \n110768                               1                               1   \n\n        dow_match  week_match  month_match  year_match  \n51              6          48           12        2019  \n329             6          48           12        2019  \n679             6          48           12        2019  \n715             0          49           12        2019  \n748             0          49           12        2019  \n...           ...         ...          ...         ...  \n110516          3          17            4        2021  \n110638          4          17            4        2021  \n110647          4          17            4        2021  \n110725          4          17            4        2021  \n110768          4          17            4        2021  \n\n[1226 rows x 49 columns]",
      "text/html": "<div>\n<style scoped>\n    .dataframe tbody tr th:only-of-type {\n        vertical-align: middle;\n    }\n\n    .dataframe tbody tr th {\n        vertical-align: top;\n    }\n\n    .dataframe thead th {\n        text-align: right;\n    }\n</style>\n<table border=\"1\" class=\"dataframe\">\n  <thead>\n    <tr style=\"text-align: right;\">\n      <th></th>\n      <th>id</th>\n      <th>target</th>\n      <th>is_cup</th>\n      <th>home_team_days_from_last_match</th>\n      <th>away_team_days_from_last_match</th>\n      <th>home_team_total_matches_last_30_days</th>\n      <th>away_team_total_matches_last_30_days</th>\n      <th>home_team_matches_play_home_last_30_days</th>\n      <th>away_team_matches_play_home_last_30_days</th>\n      <th>home_team_matches_cup_comp_last_10_matches</th>\n      <th>...</th>\n      <th>home_team_leagues_last_10_matches</th>\n      <th>away_team_leagues_last_10_matches</th>\n      <th>home_team_same_league</th>\n      <th>away_team_same_league</th>\n      <th>home_team_leagues_last_30_days</th>\n      <th>away_team_leagues_last_30_days</th>\n      <th>dow_match</th>\n      <th>week_match</th>\n      <th>month_match</th>\n      <th>year_match</th>\n    </tr>\n  </thead>\n  <tbody>\n    <tr>\n      <th>51</th>\n      <td>11977834</td>\n      <td>home</td>\n      <td>1</td>\n      <td>3.000000</td>\n      <td>NaN</td>\n      <td>2</td>\n      <td>0</td>\n      <td>1.0</td>\n      <td>0.0</td>\n      <td>2.0</td>\n      <td>...</td>\n      <td>1</td>\n      <td>0</td>\n      <td>1</td>\n      <td>0</td>\n      <td>1</td>\n      <td>1</td>\n      <td>6</td>\n      <td>48</td>\n      <td>12</td>\n      <td>2019</td>\n    </tr>\n    <tr>\n      <th>329</th>\n      <td>11980887</td>\n      <td>home</td>\n      <td>0</td>\n      <td>235.937500</td>\n      <td>NaN</td>\n      <td>0</td>\n      <td>0</td>\n      <td>0.0</td>\n      <td>0.0</td>\n      <td>3.0</td>\n      <td>...</td>\n      <td>2</td>\n      <td>0</td>\n      <td>0</td>\n      <td>0</td>\n      <td>1</td>\n      <td>1</td>\n      <td>6</td>\n      <td>48</td>\n      <td>12</td>\n      <td>2019</td>\n    </tr>\n    <tr>\n      <th>679</th>\n      <td>11981436</td>\n      <td>home</td>\n      <td>0</td>\n      <td>126.000000</td>\n      <td>NaN</td>\n      <td>0</td>\n      <td>0</td>\n      <td>0.0</td>\n      <td>0.0</td>\n      <td>0.0</td>\n      <td>...</td>\n      <td>1</td>\n      <td>0</td>\n      <td>1</td>\n      <td>0</td>\n      <td>1</td>\n      <td>1</td>\n      <td>6</td>\n      <td>48</td>\n      <td>12</td>\n      <td>2019</td>\n    </tr>\n    <tr>\n      <th>715</th>\n      <td>11983527</td>\n      <td>home</td>\n      <td>1</td>\n      <td>5.895833</td>\n      <td>NaN</td>\n      <td>1</td>\n      <td>0</td>\n      <td>0.0</td>\n      <td>0.0</td>\n      <td>0.0</td>\n      <td>...</td>\n      <td>1</td>\n      <td>0</td>\n      <td>0</td>\n      <td>0</td>\n      <td>1</td>\n      <td>1</td>\n      <td>0</td>\n      <td>49</td>\n      <td>12</td>\n      <td>2019</td>\n    </tr>\n    <tr>\n      <th>748</th>\n      <td>11983528</td>\n      <td>home</td>\n      <td>1</td>\n      <td>6.000000</td>\n      <td>NaN</td>\n      <td>1</td>\n      <td>0</td>\n      <td>1.0</td>\n      <td>0.0</td>\n      <td>1.0</td>\n      <td>...</td>\n      <td>2</td>\n      <td>0</td>\n      <td>0</td>\n      <td>0</td>\n      <td>1</td>\n      <td>1</td>\n      <td>0</td>\n      <td>49</td>\n      <td>12</td>\n      <td>2019</td>\n    </tr>\n    <tr>\n      <th>...</th>\n      <td>...</td>\n      <td>...</td>\n      <td>...</td>\n      <td>...</td>\n      <td>...</td>\n      <td>...</td>\n      <td>...</td>\n      <td>...</td>\n      <td>...</td>\n      <td>...</td>\n      <td>...</td>\n      <td>...</td>\n      <td>...</td>\n      <td>...</td>\n      <td>...</td>\n      <td>...</td>\n      <td>...</td>\n      <td>...</td>\n      <td>...</td>\n      <td>...</td>\n      <td>...</td>\n    </tr>\n    <tr>\n      <th>110516</th>\n      <td>18037108</td>\n      <td>home</td>\n      <td>0</td>\n      <td>4.031250</td>\n      <td>NaN</td>\n      <td>4</td>\n      <td>0</td>\n      <td>1.0</td>\n      <td>0.0</td>\n      <td>0.0</td>\n      <td>...</td>\n      <td>2</td>\n      <td>0</td>\n      <td>1</td>\n      <td>0</td>\n      <td>1</td>\n      <td>1</td>\n      <td>3</td>\n      <td>17</td>\n      <td>4</td>\n      <td>2021</td>\n    </tr>\n    <tr>\n      <th>110638</th>\n      <td>17993681</td>\n      <td>away</td>\n      <td>0</td>\n      <td>6.177083</td>\n      <td>NaN</td>\n      <td>1</td>\n      <td>0</td>\n      <td>0.0</td>\n      <td>0.0</td>\n      <td>0.0</td>\n      <td>...</td>\n      <td>1</td>\n      <td>0</td>\n      <td>1</td>\n      <td>0</td>\n      <td>1</td>\n      <td>1</td>\n      <td>4</td>\n      <td>17</td>\n      <td>4</td>\n      <td>2021</td>\n    </tr>\n    <tr>\n      <th>110647</th>\n      <td>17911170</td>\n      <td>home</td>\n      <td>0</td>\n      <td>NaN</td>\n      <td>NaN</td>\n      <td>0</td>\n      <td>0</td>\n      <td>0.0</td>\n      <td>0.0</td>\n      <td>0.0</td>\n      <td>...</td>\n      <td>0</td>\n      <td>0</td>\n      <td>0</td>\n      <td>0</td>\n      <td>1</td>\n      <td>1</td>\n      <td>4</td>\n      <td>17</td>\n      <td>4</td>\n      <td>2021</td>\n    </tr>\n    <tr>\n      <th>110725</th>\n      <td>18031837</td>\n      <td>home</td>\n      <td>1</td>\n      <td>174.072917</td>\n      <td>NaN</td>\n      <td>0</td>\n      <td>0</td>\n      <td>0.0</td>\n      <td>0.0</td>\n      <td>0.0</td>\n      <td>...</td>\n      <td>1</td>\n      <td>0</td>\n      <td>0</td>\n      <td>0</td>\n      <td>1</td>\n      <td>1</td>\n      <td>4</td>\n      <td>17</td>\n      <td>4</td>\n      <td>2021</td>\n    </tr>\n    <tr>\n      <th>110768</th>\n      <td>17933851</td>\n      <td>home</td>\n      <td>0</td>\n      <td>11.958333</td>\n      <td>NaN</td>\n      <td>1</td>\n      <td>0</td>\n      <td>1.0</td>\n      <td>0.0</td>\n      <td>0.0</td>\n      <td>...</td>\n      <td>1</td>\n      <td>0</td>\n      <td>1</td>\n      <td>0</td>\n      <td>1</td>\n      <td>1</td>\n      <td>4</td>\n      <td>17</td>\n      <td>4</td>\n      <td>2021</td>\n    </tr>\n  </tbody>\n</table>\n<p>1226 rows × 49 columns</p>\n</div>"
     },
     "execution_count": 1048,
     "metadata": {},
     "output_type": "execute_result"
    }
   ],
   "source": [
    "data[data['away_team_days_from_last_match'].isnull()]"
   ],
   "metadata": {
    "collapsed": false,
    "ExecuteTime": {
     "end_time": "2023-06-25T18:16:36.052268300Z",
     "start_time": "2023-06-25T18:16:35.871308400Z"
    }
   }
  },
  {
   "cell_type": "code",
   "execution_count": 1049,
   "outputs": [
    {
     "data": {
      "text/plain": "110937"
     },
     "execution_count": 1049,
     "metadata": {},
     "output_type": "execute_result"
    }
   ],
   "source": [
    "data_before_remove = len(data)\n",
    "data_before_remove"
   ],
   "metadata": {
    "collapsed": false,
    "ExecuteTime": {
     "end_time": "2023-06-25T18:16:36.052268300Z",
     "start_time": "2023-06-25T18:16:35.889960800Z"
    }
   }
  },
  {
   "cell_type": "markdown",
   "source": [
    "There are 110937 matches totally in the dataset\n",
    "\n",
    "While there are 1159 matches without info about the home team in the last 30 days, and 1226 matches without info about the away team in the last 30 days\n",
    "\n",
    "Therefore, removing these matches shall not significantly impact to the dataset, since the historical data from these matches are also limited"
   ],
   "metadata": {
    "collapsed": false
   }
  },
  {
   "cell_type": "code",
   "execution_count": 1050,
   "outputs": [],
   "source": [
    "data = data[(data['home_team_days_from_last_match'].isnull()==False) & \\\n",
    "            (data['away_team_days_from_last_match'].isnull()==False)]"
   ],
   "metadata": {
    "collapsed": false,
    "ExecuteTime": {
     "end_time": "2023-06-25T18:16:36.052774800Z",
     "start_time": "2023-06-25T18:16:35.942123400Z"
    }
   }
  },
  {
   "cell_type": "code",
   "execution_count": 1051,
   "outputs": [
    {
     "data": {
      "text/plain": "108952"
     },
     "execution_count": 1051,
     "metadata": {},
     "output_type": "execute_result"
    }
   ],
   "source": [
    "data_after_remove = len(data)\n",
    "data_after_remove"
   ],
   "metadata": {
    "collapsed": false,
    "ExecuteTime": {
     "end_time": "2023-06-25T18:16:36.052774800Z",
     "start_time": "2023-06-25T18:16:35.942123400Z"
    }
   }
  },
  {
   "cell_type": "code",
   "execution_count": 1052,
   "outputs": [
    {
     "name": "stdout",
     "output_type": "stream",
     "text": [
      "There are 1985 matches removed from the total of 110937\n",
      "This is equivalent to 1.79% data removed\n"
     ]
    }
   ],
   "source": [
    "print(f'There are {data_before_remove - data_after_remove} matches removed from the total of {data_before_remove}')\n",
    "print(f\"This is equivalent to {round(100*(data_before_remove - data_after_remove)/data_before_remove,2)}% data removed\")"
   ],
   "metadata": {
    "collapsed": false,
    "ExecuteTime": {
     "end_time": "2023-06-25T18:16:36.100101600Z",
     "start_time": "2023-06-25T18:16:35.942123400Z"
    }
   }
  },
  {
   "cell_type": "code",
   "execution_count": 1053,
   "outputs": [
    {
     "data": {
      "text/plain": "Empty DataFrame\nColumns: [id, target, is_cup, home_team_days_from_last_match, away_team_days_from_last_match, home_team_total_matches_last_30_days, away_team_total_matches_last_30_days, home_team_matches_play_home_last_30_days, away_team_matches_play_home_last_30_days, home_team_matches_cup_comp_last_10_matches, away_team_matches_cup_comp_last_10_matches, home_team_matches_cup_comp_last_30_days, away_team_matches_cup_comp_last_30_days, home_team_is_last_match_cup, away_team_is_last_match_cup, home_team_avg_goals_last_10_matches, away_team_avg_goals_last_10_matches, home_team_goals_last_match, away_team_goals_last_match, home_team_avg_goals_last_30_days, away_team_avg_goals_last_30_days, home_team_opponent_avg_goals_last_10_matches, away_team_opponent_avg_goals_last_10_matches, home_team_opponent_goals_last_match, away_team_opponent_goals_last_match, home_team_opponent_avg_goals_last_30_days, away_team_opponent_avg_goals_last_30_days, home_team_avg_rating_last_10_matches, away_team_avg_rating_last_10_matches, home_team_rating_last_match, away_team_rating_last_match, home_team_avg_rating_last_30_days, away_team_avg_rating_last_30_days, home_team_opponent_avg_rating_last_10_matches, away_team_opponent_avg_rating_last_10_matches, home_team_opponent_rating_last_match, away_team_opponent_rating_last_match, home_team_opponent_avg_rating_last_30_days, away_team_opponent_avg_rating_last_30_days, home_team_leagues_last_10_matches, away_team_leagues_last_10_matches, home_team_same_league, away_team_same_league, home_team_leagues_last_30_days, away_team_leagues_last_30_days, dow_match, week_match, month_match, year_match]\nIndex: []\n\n[0 rows x 49 columns]",
      "text/html": "<div>\n<style scoped>\n    .dataframe tbody tr th:only-of-type {\n        vertical-align: middle;\n    }\n\n    .dataframe tbody tr th {\n        vertical-align: top;\n    }\n\n    .dataframe thead th {\n        text-align: right;\n    }\n</style>\n<table border=\"1\" class=\"dataframe\">\n  <thead>\n    <tr style=\"text-align: right;\">\n      <th></th>\n      <th>id</th>\n      <th>target</th>\n      <th>is_cup</th>\n      <th>home_team_days_from_last_match</th>\n      <th>away_team_days_from_last_match</th>\n      <th>home_team_total_matches_last_30_days</th>\n      <th>away_team_total_matches_last_30_days</th>\n      <th>home_team_matches_play_home_last_30_days</th>\n      <th>away_team_matches_play_home_last_30_days</th>\n      <th>home_team_matches_cup_comp_last_10_matches</th>\n      <th>...</th>\n      <th>home_team_leagues_last_10_matches</th>\n      <th>away_team_leagues_last_10_matches</th>\n      <th>home_team_same_league</th>\n      <th>away_team_same_league</th>\n      <th>home_team_leagues_last_30_days</th>\n      <th>away_team_leagues_last_30_days</th>\n      <th>dow_match</th>\n      <th>week_match</th>\n      <th>month_match</th>\n      <th>year_match</th>\n    </tr>\n  </thead>\n  <tbody>\n  </tbody>\n</table>\n<p>0 rows × 49 columns</p>\n</div>"
     },
     "execution_count": 1053,
     "metadata": {},
     "output_type": "execute_result"
    }
   ],
   "source": [
    "data[(data['home_team_avg_goals_last_30_days'].isnull()) & (data['home_team_days_from_last_match'] <= 30)]"
   ],
   "metadata": {
    "collapsed": false,
    "ExecuteTime": {
     "end_time": "2023-06-25T18:16:36.107434700Z",
     "start_time": "2023-06-25T18:16:35.960982500Z"
    }
   }
  },
  {
   "cell_type": "code",
   "execution_count": 1054,
   "outputs": [
    {
     "data": {
      "text/plain": "Empty DataFrame\nColumns: [id, target, is_cup, home_team_days_from_last_match, away_team_days_from_last_match, home_team_total_matches_last_30_days, away_team_total_matches_last_30_days, home_team_matches_play_home_last_30_days, away_team_matches_play_home_last_30_days, home_team_matches_cup_comp_last_10_matches, away_team_matches_cup_comp_last_10_matches, home_team_matches_cup_comp_last_30_days, away_team_matches_cup_comp_last_30_days, home_team_is_last_match_cup, away_team_is_last_match_cup, home_team_avg_goals_last_10_matches, away_team_avg_goals_last_10_matches, home_team_goals_last_match, away_team_goals_last_match, home_team_avg_goals_last_30_days, away_team_avg_goals_last_30_days, home_team_opponent_avg_goals_last_10_matches, away_team_opponent_avg_goals_last_10_matches, home_team_opponent_goals_last_match, away_team_opponent_goals_last_match, home_team_opponent_avg_goals_last_30_days, away_team_opponent_avg_goals_last_30_days, home_team_avg_rating_last_10_matches, away_team_avg_rating_last_10_matches, home_team_rating_last_match, away_team_rating_last_match, home_team_avg_rating_last_30_days, away_team_avg_rating_last_30_days, home_team_opponent_avg_rating_last_10_matches, away_team_opponent_avg_rating_last_10_matches, home_team_opponent_rating_last_match, away_team_opponent_rating_last_match, home_team_opponent_avg_rating_last_30_days, away_team_opponent_avg_rating_last_30_days, home_team_leagues_last_10_matches, away_team_leagues_last_10_matches, home_team_same_league, away_team_same_league, home_team_leagues_last_30_days, away_team_leagues_last_30_days, dow_match, week_match, month_match, year_match]\nIndex: []\n\n[0 rows x 49 columns]",
      "text/html": "<div>\n<style scoped>\n    .dataframe tbody tr th:only-of-type {\n        vertical-align: middle;\n    }\n\n    .dataframe tbody tr th {\n        vertical-align: top;\n    }\n\n    .dataframe thead th {\n        text-align: right;\n    }\n</style>\n<table border=\"1\" class=\"dataframe\">\n  <thead>\n    <tr style=\"text-align: right;\">\n      <th></th>\n      <th>id</th>\n      <th>target</th>\n      <th>is_cup</th>\n      <th>home_team_days_from_last_match</th>\n      <th>away_team_days_from_last_match</th>\n      <th>home_team_total_matches_last_30_days</th>\n      <th>away_team_total_matches_last_30_days</th>\n      <th>home_team_matches_play_home_last_30_days</th>\n      <th>away_team_matches_play_home_last_30_days</th>\n      <th>home_team_matches_cup_comp_last_10_matches</th>\n      <th>...</th>\n      <th>home_team_leagues_last_10_matches</th>\n      <th>away_team_leagues_last_10_matches</th>\n      <th>home_team_same_league</th>\n      <th>away_team_same_league</th>\n      <th>home_team_leagues_last_30_days</th>\n      <th>away_team_leagues_last_30_days</th>\n      <th>dow_match</th>\n      <th>week_match</th>\n      <th>month_match</th>\n      <th>year_match</th>\n    </tr>\n  </thead>\n  <tbody>\n  </tbody>\n</table>\n<p>0 rows × 49 columns</p>\n</div>"
     },
     "execution_count": 1054,
     "metadata": {},
     "output_type": "execute_result"
    }
   ],
   "source": [
    "data[(data['away_team_avg_goals_last_30_days'].isnull()) & (data['away_team_days_from_last_match'] <= 30)]"
   ],
   "metadata": {
    "collapsed": false,
    "ExecuteTime": {
     "end_time": "2023-06-25T18:16:36.122912300Z",
     "start_time": "2023-06-25T18:16:35.999955Z"
    }
   }
  },
  {
   "cell_type": "markdown",
   "source": [
    "- It's clear that these matches have null at the 30-day limited info because it's intended to only get the data from the last 30 days.\n",
    "- For these case, the info of the last match (more than 30 days) shall be used instead"
   ],
   "metadata": {
    "collapsed": false
   }
  },
  {
   "cell_type": "code",
   "execution_count": 1055,
   "outputs": [],
   "source": [
    "selected_info_df = df[['id',\n",
    "                       'home_team_history_goal_1',\n",
    "                       'home_team_history_opponent_goal_1',\n",
    "                       'home_team_history_rating_1',\n",
    "                       'home_team_history_opponent_rating_1',\n",
    "                       'away_team_history_goal_1',\n",
    "                       'away_team_history_opponent_goal_1',\n",
    "                       'away_team_history_rating_1',\n",
    "                       'away_team_history_opponent_rating_1'\n",
    "                       ]]"
   ],
   "metadata": {
    "collapsed": false,
    "ExecuteTime": {
     "end_time": "2023-06-25T18:16:36.122912300Z",
     "start_time": "2023-06-25T18:16:36.006185900Z"
    }
   }
  },
  {
   "cell_type": "code",
   "execution_count": 1056,
   "outputs": [],
   "source": [
    "final_data = data.merge(right=selected_info_df,\n",
    "                        on='id',\n",
    "                        how='left',\n",
    "                        suffixes=('_processed', '_original'))"
   ],
   "metadata": {
    "collapsed": false,
    "ExecuteTime": {
     "end_time": "2023-06-25T18:16:36.494666900Z",
     "start_time": "2023-06-25T18:16:36.022325400Z"
    }
   }
  },
  {
   "cell_type": "code",
   "execution_count": 1057,
   "outputs": [
    {
     "data": {
      "text/plain": "         id target  is_cup  home_team_days_from_last_match  \\\n0  11906497   away       0                        5.024306   \n1  11984383   home       0                        3.166667   \n2  11983301   draw       0                        2.989583   \n3  11983471   away       0                        3.000000   \n4  11883005   home       0                        3.291667   \n\n   away_team_days_from_last_match  home_team_total_matches_last_30_days  \\\n0                        7.197917                                     3   \n1                        3.166667                                     4   \n2                        9.979167                                     3   \n3                        3.000000                                     5   \n4                        3.250000                                     4   \n\n   away_team_total_matches_last_30_days  \\\n0                                     4   \n1                                     4   \n2                                     2   \n3                                     5   \n4                                     4   \n\n   home_team_matches_play_home_last_30_days  \\\n0                                       1.0   \n1                                       2.0   \n2                                       1.0   \n3                                       2.0   \n4                                       2.0   \n\n   away_team_matches_play_home_last_30_days  \\\n0                                       2.0   \n1                                       1.0   \n2                                       0.0   \n3                                       3.0   \n4                                       3.0   \n\n   home_team_matches_cup_comp_last_10_matches  ...  month_match  year_match  \\\n0                                         0.0  ...           12        2019   \n1                                         0.0  ...           12        2019   \n2                                         0.0  ...           12        2019   \n3                                         0.0  ...           12        2019   \n4                                         0.0  ...           12        2019   \n\n   home_team_history_goal_1  home_team_history_opponent_goal_1  \\\n0                       0.0                                1.0   \n1                       0.0                                2.0   \n2                       3.0                                1.0   \n3                       3.0                                3.0   \n4                       1.0                                2.0   \n\n   home_team_history_rating_1  home_team_history_opponent_rating_1  \\\n0                    3.856860                             5.199840   \n1                   13.668800                             3.671610   \n2                    5.736719                             6.825194   \n3                    5.998800                             5.998800   \n4                    6.295743                             5.535514   \n\n   away_team_history_goal_1  away_team_history_opponent_goal_1  \\\n0                       1.0                                2.0   \n1                       1.0                                0.0   \n2                       3.0                                1.0   \n3                       3.0                                3.0   \n4                       4.0                                1.0   \n\n   away_team_history_rating_1  away_team_history_opponent_rating_1  \n0                    4.598000                             5.253225  \n1                    6.000588                             6.881762  \n2                    8.379419                             5.487338  \n3                    5.998800                             5.998800  \n4                    6.349390                             5.575180  \n\n[5 rows x 57 columns]",
      "text/html": "<div>\n<style scoped>\n    .dataframe tbody tr th:only-of-type {\n        vertical-align: middle;\n    }\n\n    .dataframe tbody tr th {\n        vertical-align: top;\n    }\n\n    .dataframe thead th {\n        text-align: right;\n    }\n</style>\n<table border=\"1\" class=\"dataframe\">\n  <thead>\n    <tr style=\"text-align: right;\">\n      <th></th>\n      <th>id</th>\n      <th>target</th>\n      <th>is_cup</th>\n      <th>home_team_days_from_last_match</th>\n      <th>away_team_days_from_last_match</th>\n      <th>home_team_total_matches_last_30_days</th>\n      <th>away_team_total_matches_last_30_days</th>\n      <th>home_team_matches_play_home_last_30_days</th>\n      <th>away_team_matches_play_home_last_30_days</th>\n      <th>home_team_matches_cup_comp_last_10_matches</th>\n      <th>...</th>\n      <th>month_match</th>\n      <th>year_match</th>\n      <th>home_team_history_goal_1</th>\n      <th>home_team_history_opponent_goal_1</th>\n      <th>home_team_history_rating_1</th>\n      <th>home_team_history_opponent_rating_1</th>\n      <th>away_team_history_goal_1</th>\n      <th>away_team_history_opponent_goal_1</th>\n      <th>away_team_history_rating_1</th>\n      <th>away_team_history_opponent_rating_1</th>\n    </tr>\n  </thead>\n  <tbody>\n    <tr>\n      <th>0</th>\n      <td>11906497</td>\n      <td>away</td>\n      <td>0</td>\n      <td>5.024306</td>\n      <td>7.197917</td>\n      <td>3</td>\n      <td>4</td>\n      <td>1.0</td>\n      <td>2.0</td>\n      <td>0.0</td>\n      <td>...</td>\n      <td>12</td>\n      <td>2019</td>\n      <td>0.0</td>\n      <td>1.0</td>\n      <td>3.856860</td>\n      <td>5.199840</td>\n      <td>1.0</td>\n      <td>2.0</td>\n      <td>4.598000</td>\n      <td>5.253225</td>\n    </tr>\n    <tr>\n      <th>1</th>\n      <td>11984383</td>\n      <td>home</td>\n      <td>0</td>\n      <td>3.166667</td>\n      <td>3.166667</td>\n      <td>4</td>\n      <td>4</td>\n      <td>2.0</td>\n      <td>1.0</td>\n      <td>0.0</td>\n      <td>...</td>\n      <td>12</td>\n      <td>2019</td>\n      <td>0.0</td>\n      <td>2.0</td>\n      <td>13.668800</td>\n      <td>3.671610</td>\n      <td>1.0</td>\n      <td>0.0</td>\n      <td>6.000588</td>\n      <td>6.881762</td>\n    </tr>\n    <tr>\n      <th>2</th>\n      <td>11983301</td>\n      <td>draw</td>\n      <td>0</td>\n      <td>2.989583</td>\n      <td>9.979167</td>\n      <td>3</td>\n      <td>2</td>\n      <td>1.0</td>\n      <td>0.0</td>\n      <td>0.0</td>\n      <td>...</td>\n      <td>12</td>\n      <td>2019</td>\n      <td>3.0</td>\n      <td>1.0</td>\n      <td>5.736719</td>\n      <td>6.825194</td>\n      <td>3.0</td>\n      <td>1.0</td>\n      <td>8.379419</td>\n      <td>5.487338</td>\n    </tr>\n    <tr>\n      <th>3</th>\n      <td>11983471</td>\n      <td>away</td>\n      <td>0</td>\n      <td>3.000000</td>\n      <td>3.000000</td>\n      <td>5</td>\n      <td>5</td>\n      <td>2.0</td>\n      <td>3.0</td>\n      <td>0.0</td>\n      <td>...</td>\n      <td>12</td>\n      <td>2019</td>\n      <td>3.0</td>\n      <td>3.0</td>\n      <td>5.998800</td>\n      <td>5.998800</td>\n      <td>3.0</td>\n      <td>3.0</td>\n      <td>5.998800</td>\n      <td>5.998800</td>\n    </tr>\n    <tr>\n      <th>4</th>\n      <td>11883005</td>\n      <td>home</td>\n      <td>0</td>\n      <td>3.291667</td>\n      <td>3.250000</td>\n      <td>4</td>\n      <td>4</td>\n      <td>2.0</td>\n      <td>3.0</td>\n      <td>0.0</td>\n      <td>...</td>\n      <td>12</td>\n      <td>2019</td>\n      <td>1.0</td>\n      <td>2.0</td>\n      <td>6.295743</td>\n      <td>5.535514</td>\n      <td>4.0</td>\n      <td>1.0</td>\n      <td>6.349390</td>\n      <td>5.575180</td>\n    </tr>\n  </tbody>\n</table>\n<p>5 rows × 57 columns</p>\n</div>"
     },
     "execution_count": 1057,
     "metadata": {},
     "output_type": "execute_result"
    }
   ],
   "source": [
    "final_data.head()"
   ],
   "metadata": {
    "collapsed": false,
    "ExecuteTime": {
     "end_time": "2023-06-25T18:16:36.582013900Z",
     "start_time": "2023-06-25T18:16:36.143609600Z"
    }
   }
  },
  {
   "cell_type": "code",
   "execution_count": 1058,
   "outputs": [],
   "source": [
    "final_data['home_team_avg_goals_last_30_days'].\\\n",
    "    fillna(final_data['home_team_history_goal_1'], inplace=True)"
   ],
   "metadata": {
    "collapsed": false,
    "ExecuteTime": {
     "end_time": "2023-06-25T18:16:36.582013900Z",
     "start_time": "2023-06-25T18:16:36.143609600Z"
    }
   }
  },
  {
   "cell_type": "code",
   "execution_count": 1059,
   "outputs": [],
   "source": [
    "final_data['away_team_avg_goals_last_30_days'].\\\n",
    "    fillna(final_data['away_team_history_goal_1'], inplace=True)"
   ],
   "metadata": {
    "collapsed": false,
    "ExecuteTime": {
     "end_time": "2023-06-25T18:16:36.582013900Z",
     "start_time": "2023-06-25T18:16:36.167206Z"
    }
   }
  },
  {
   "cell_type": "code",
   "execution_count": 1060,
   "outputs": [],
   "source": [
    "final_data['home_team_opponent_avg_goals_last_30_days'].\\\n",
    "    fillna(final_data['home_team_history_opponent_goal_1'], inplace=True)"
   ],
   "metadata": {
    "collapsed": false,
    "ExecuteTime": {
     "end_time": "2023-06-25T18:16:36.682064Z",
     "start_time": "2023-06-25T18:16:36.173036300Z"
    }
   }
  },
  {
   "cell_type": "code",
   "execution_count": 1061,
   "outputs": [],
   "source": [
    "final_data['away_team_opponent_avg_goals_last_30_days'].\\\n",
    "    fillna(final_data['away_team_history_opponent_goal_1'], inplace=True)"
   ],
   "metadata": {
    "collapsed": false,
    "ExecuteTime": {
     "end_time": "2023-06-25T18:16:36.682064Z",
     "start_time": "2023-06-25T18:16:36.188559400Z"
    }
   }
  },
  {
   "cell_type": "code",
   "execution_count": 1062,
   "outputs": [],
   "source": [
    "final_data['home_team_avg_rating_last_30_days'].\\\n",
    "    fillna(final_data['home_team_history_rating_1'], inplace=True)"
   ],
   "metadata": {
    "collapsed": false,
    "ExecuteTime": {
     "end_time": "2023-06-25T18:16:36.682064Z",
     "start_time": "2023-06-25T18:16:36.205555300Z"
    }
   }
  },
  {
   "cell_type": "code",
   "execution_count": 1063,
   "outputs": [],
   "source": [
    "final_data['away_team_avg_rating_last_30_days'].\\\n",
    "    fillna(final_data['away_team_history_rating_1'], inplace=True)"
   ],
   "metadata": {
    "collapsed": false,
    "ExecuteTime": {
     "end_time": "2023-06-25T18:16:36.682064Z",
     "start_time": "2023-06-25T18:16:36.221199400Z"
    }
   }
  },
  {
   "cell_type": "code",
   "execution_count": 1064,
   "outputs": [],
   "source": [
    "final_data['home_team_opponent_avg_rating_last_30_days'].\\\n",
    "    fillna(final_data['home_team_history_opponent_rating_1'], inplace=True)"
   ],
   "metadata": {
    "collapsed": false,
    "ExecuteTime": {
     "end_time": "2023-06-25T18:16:36.682064Z",
     "start_time": "2023-06-25T18:16:36.221199400Z"
    }
   }
  },
  {
   "cell_type": "code",
   "execution_count": 1065,
   "outputs": [],
   "source": [
    "final_data['away_team_opponent_avg_rating_last_30_days'].\\\n",
    "    fillna(final_data['away_team_history_opponent_rating_1'], inplace=True)"
   ],
   "metadata": {
    "collapsed": false,
    "ExecuteTime": {
     "end_time": "2023-06-25T18:16:36.782339500Z",
     "start_time": "2023-06-25T18:16:36.261812500Z"
    }
   }
  },
  {
   "cell_type": "code",
   "execution_count": 1066,
   "outputs": [
    {
     "data": {
      "text/plain": "         id target  is_cup  home_team_days_from_last_match  \\\n0  11906497   away       0                        5.024306   \n1  11984383   home       0                        3.166667   \n2  11983301   draw       0                        2.989583   \n3  11983471   away       0                        3.000000   \n4  11883005   home       0                        3.291667   \n\n   away_team_days_from_last_match  home_team_total_matches_last_30_days  \\\n0                        7.197917                                     3   \n1                        3.166667                                     4   \n2                        9.979167                                     3   \n3                        3.000000                                     5   \n4                        3.250000                                     4   \n\n   away_team_total_matches_last_30_days  \\\n0                                     4   \n1                                     4   \n2                                     2   \n3                                     5   \n4                                     4   \n\n   home_team_matches_play_home_last_30_days  \\\n0                                       1.0   \n1                                       2.0   \n2                                       1.0   \n3                                       2.0   \n4                                       2.0   \n\n   away_team_matches_play_home_last_30_days  \\\n0                                       2.0   \n1                                       1.0   \n2                                       0.0   \n3                                       3.0   \n4                                       3.0   \n\n   home_team_matches_cup_comp_last_10_matches  ...  month_match  year_match  \\\n0                                         0.0  ...           12        2019   \n1                                         0.0  ...           12        2019   \n2                                         0.0  ...           12        2019   \n3                                         0.0  ...           12        2019   \n4                                         0.0  ...           12        2019   \n\n   home_team_history_goal_1  home_team_history_opponent_goal_1  \\\n0                       0.0                                1.0   \n1                       0.0                                2.0   \n2                       3.0                                1.0   \n3                       3.0                                3.0   \n4                       1.0                                2.0   \n\n   home_team_history_rating_1  home_team_history_opponent_rating_1  \\\n0                    3.856860                             5.199840   \n1                   13.668800                             3.671610   \n2                    5.736719                             6.825194   \n3                    5.998800                             5.998800   \n4                    6.295743                             5.535514   \n\n   away_team_history_goal_1  away_team_history_opponent_goal_1  \\\n0                       1.0                                2.0   \n1                       1.0                                0.0   \n2                       3.0                                1.0   \n3                       3.0                                3.0   \n4                       4.0                                1.0   \n\n   away_team_history_rating_1  away_team_history_opponent_rating_1  \n0                    4.598000                             5.253225  \n1                    6.000588                             6.881762  \n2                    8.379419                             5.487338  \n3                    5.998800                             5.998800  \n4                    6.349390                             5.575180  \n\n[5 rows x 57 columns]",
      "text/html": "<div>\n<style scoped>\n    .dataframe tbody tr th:only-of-type {\n        vertical-align: middle;\n    }\n\n    .dataframe tbody tr th {\n        vertical-align: top;\n    }\n\n    .dataframe thead th {\n        text-align: right;\n    }\n</style>\n<table border=\"1\" class=\"dataframe\">\n  <thead>\n    <tr style=\"text-align: right;\">\n      <th></th>\n      <th>id</th>\n      <th>target</th>\n      <th>is_cup</th>\n      <th>home_team_days_from_last_match</th>\n      <th>away_team_days_from_last_match</th>\n      <th>home_team_total_matches_last_30_days</th>\n      <th>away_team_total_matches_last_30_days</th>\n      <th>home_team_matches_play_home_last_30_days</th>\n      <th>away_team_matches_play_home_last_30_days</th>\n      <th>home_team_matches_cup_comp_last_10_matches</th>\n      <th>...</th>\n      <th>month_match</th>\n      <th>year_match</th>\n      <th>home_team_history_goal_1</th>\n      <th>home_team_history_opponent_goal_1</th>\n      <th>home_team_history_rating_1</th>\n      <th>home_team_history_opponent_rating_1</th>\n      <th>away_team_history_goal_1</th>\n      <th>away_team_history_opponent_goal_1</th>\n      <th>away_team_history_rating_1</th>\n      <th>away_team_history_opponent_rating_1</th>\n    </tr>\n  </thead>\n  <tbody>\n    <tr>\n      <th>0</th>\n      <td>11906497</td>\n      <td>away</td>\n      <td>0</td>\n      <td>5.024306</td>\n      <td>7.197917</td>\n      <td>3</td>\n      <td>4</td>\n      <td>1.0</td>\n      <td>2.0</td>\n      <td>0.0</td>\n      <td>...</td>\n      <td>12</td>\n      <td>2019</td>\n      <td>0.0</td>\n      <td>1.0</td>\n      <td>3.856860</td>\n      <td>5.199840</td>\n      <td>1.0</td>\n      <td>2.0</td>\n      <td>4.598000</td>\n      <td>5.253225</td>\n    </tr>\n    <tr>\n      <th>1</th>\n      <td>11984383</td>\n      <td>home</td>\n      <td>0</td>\n      <td>3.166667</td>\n      <td>3.166667</td>\n      <td>4</td>\n      <td>4</td>\n      <td>2.0</td>\n      <td>1.0</td>\n      <td>0.0</td>\n      <td>...</td>\n      <td>12</td>\n      <td>2019</td>\n      <td>0.0</td>\n      <td>2.0</td>\n      <td>13.668800</td>\n      <td>3.671610</td>\n      <td>1.0</td>\n      <td>0.0</td>\n      <td>6.000588</td>\n      <td>6.881762</td>\n    </tr>\n    <tr>\n      <th>2</th>\n      <td>11983301</td>\n      <td>draw</td>\n      <td>0</td>\n      <td>2.989583</td>\n      <td>9.979167</td>\n      <td>3</td>\n      <td>2</td>\n      <td>1.0</td>\n      <td>0.0</td>\n      <td>0.0</td>\n      <td>...</td>\n      <td>12</td>\n      <td>2019</td>\n      <td>3.0</td>\n      <td>1.0</td>\n      <td>5.736719</td>\n      <td>6.825194</td>\n      <td>3.0</td>\n      <td>1.0</td>\n      <td>8.379419</td>\n      <td>5.487338</td>\n    </tr>\n    <tr>\n      <th>3</th>\n      <td>11983471</td>\n      <td>away</td>\n      <td>0</td>\n      <td>3.000000</td>\n      <td>3.000000</td>\n      <td>5</td>\n      <td>5</td>\n      <td>2.0</td>\n      <td>3.0</td>\n      <td>0.0</td>\n      <td>...</td>\n      <td>12</td>\n      <td>2019</td>\n      <td>3.0</td>\n      <td>3.0</td>\n      <td>5.998800</td>\n      <td>5.998800</td>\n      <td>3.0</td>\n      <td>3.0</td>\n      <td>5.998800</td>\n      <td>5.998800</td>\n    </tr>\n    <tr>\n      <th>4</th>\n      <td>11883005</td>\n      <td>home</td>\n      <td>0</td>\n      <td>3.291667</td>\n      <td>3.250000</td>\n      <td>4</td>\n      <td>4</td>\n      <td>2.0</td>\n      <td>3.0</td>\n      <td>0.0</td>\n      <td>...</td>\n      <td>12</td>\n      <td>2019</td>\n      <td>1.0</td>\n      <td>2.0</td>\n      <td>6.295743</td>\n      <td>5.535514</td>\n      <td>4.0</td>\n      <td>1.0</td>\n      <td>6.349390</td>\n      <td>5.575180</td>\n    </tr>\n  </tbody>\n</table>\n<p>5 rows × 57 columns</p>\n</div>"
     },
     "execution_count": 1066,
     "metadata": {},
     "output_type": "execute_result"
    }
   ],
   "source": [
    "final_data.head()"
   ],
   "metadata": {
    "collapsed": false,
    "ExecuteTime": {
     "end_time": "2023-06-25T18:16:36.782339500Z",
     "start_time": "2023-06-25T18:16:36.261812500Z"
    }
   }
  },
  {
   "cell_type": "code",
   "execution_count": 1067,
   "outputs": [
    {
     "data": {
      "text/plain": "Index(['home_team_avg_rating_last_30_days',\n       'away_team_avg_rating_last_30_days',\n       'home_team_opponent_avg_rating_last_30_days',\n       'away_team_opponent_avg_rating_last_30_days',\n       'home_team_history_rating_1', 'home_team_history_opponent_rating_1',\n       'away_team_history_rating_1', 'away_team_history_opponent_rating_1'],\n      dtype='object')"
     },
     "execution_count": 1067,
     "metadata": {},
     "output_type": "execute_result"
    }
   ],
   "source": [
    "null_columns_after_processing = final_data.columns[final_data.isnull().any()]\n",
    "null_columns_after_processing"
   ],
   "metadata": {
    "collapsed": false,
    "ExecuteTime": {
     "end_time": "2023-06-25T18:16:36.782339500Z",
     "start_time": "2023-06-25T18:16:36.291287700Z"
    }
   }
  },
  {
   "cell_type": "code",
   "execution_count": 1068,
   "outputs": [],
   "source": [
    "lacking_data_df = final_data[final_data['home_team_history_rating_1'].isnull() |\n",
    "           final_data['home_team_history_opponent_rating_1'].isnull() |\n",
    "           final_data['away_team_history_rating_1'].isnull() |\n",
    "           final_data['away_team_history_opponent_rating_1'].isnull()]"
   ],
   "metadata": {
    "collapsed": false,
    "ExecuteTime": {
     "end_time": "2023-06-25T18:16:36.782339500Z",
     "start_time": "2023-06-25T18:16:36.339640900Z"
    }
   }
  },
  {
   "cell_type": "code",
   "execution_count": 1069,
   "outputs": [
    {
     "data": {
      "text/plain": "[11894976,\n 11894978,\n 11978644,\n 12016952,\n 12003027,\n 11996976,\n 11996974,\n 17531856,\n 17495503,\n 17687942,\n 16576547,\n 16839735,\n 16576545,\n 16923729,\n 17715423,\n 17715424,\n 17715420,\n 16923725,\n 16576528,\n 16576557,\n 16576555,\n 16576558,\n 16576562,\n 16576566]"
     },
     "execution_count": 1069,
     "metadata": {},
     "output_type": "execute_result"
    }
   ],
   "source": [
    "lacking_data_df['id'].values.tolist()"
   ],
   "metadata": {
    "collapsed": false,
    "ExecuteTime": {
     "end_time": "2023-06-25T18:16:36.782339500Z",
     "start_time": "2023-06-25T18:16:36.462992700Z"
    }
   }
  },
  {
   "cell_type": "markdown",
   "source": [
    "- Even after processing, there are 24 matches lacking the historical data of the home or away or their opponents, and due to the minimal data (and impact to the whole dataset), these 24 matches shall be removed"
   ],
   "metadata": {
    "collapsed": false
   }
  },
  {
   "cell_type": "code",
   "execution_count": 1070,
   "outputs": [],
   "source": [
    "final_data = final_data[final_data['home_team_history_rating_1'].notnull() &\n",
    "           final_data['home_team_history_opponent_rating_1'].notnull() &\n",
    "           final_data['away_team_history_rating_1'].notnull() &\n",
    "           final_data['away_team_history_opponent_rating_1'].notnull()]"
   ],
   "metadata": {
    "collapsed": false,
    "ExecuteTime": {
     "end_time": "2023-06-25T18:16:36.782339500Z",
     "start_time": "2023-06-25T18:16:36.474966200Z"
    }
   }
  },
  {
   "cell_type": "code",
   "execution_count": 1071,
   "outputs": [
    {
     "data": {
      "text/plain": "108928"
     },
     "execution_count": 1071,
     "metadata": {},
     "output_type": "execute_result"
    }
   ],
   "source": [
    "len(final_data)"
   ],
   "metadata": {
    "collapsed": false,
    "ExecuteTime": {
     "end_time": "2023-06-25T18:16:36.960698400Z",
     "start_time": "2023-06-25T18:16:36.510426Z"
    }
   }
  },
  {
   "cell_type": "code",
   "execution_count": 1072,
   "outputs": [],
   "source": [
    "inserted_cols = selected_info_df.columns.tolist()"
   ],
   "metadata": {
    "collapsed": false,
    "ExecuteTime": {
     "end_time": "2023-06-25T18:16:36.960698400Z",
     "start_time": "2023-06-25T18:16:36.526263100Z"
    }
   }
  },
  {
   "cell_type": "code",
   "execution_count": 1073,
   "outputs": [],
   "source": [
    "final_data.drop(columns=inserted_cols, inplace=True)"
   ],
   "metadata": {
    "collapsed": false,
    "ExecuteTime": {
     "end_time": "2023-06-25T18:16:36.960698400Z",
     "start_time": "2023-06-25T18:16:36.538752Z"
    }
   }
  },
  {
   "cell_type": "code",
   "execution_count": 1074,
   "outputs": [
    {
     "data": {
      "text/plain": "Index([], dtype='object')"
     },
     "execution_count": 1074,
     "metadata": {},
     "output_type": "execute_result"
    }
   ],
   "source": [
    "null_columns_after_processing = final_data.columns[final_data.isnull().any()]\n",
    "null_columns_after_processing"
   ],
   "metadata": {
    "collapsed": false,
    "ExecuteTime": {
     "end_time": "2023-06-25T18:16:37.081307900Z",
     "start_time": "2023-06-25T18:16:36.573556300Z"
    }
   }
  },
  {
   "cell_type": "markdown",
   "source": [
    "- Now the data is clean without null values"
   ],
   "metadata": {
    "collapsed": false
   }
  },
  {
   "cell_type": "code",
   "execution_count": 1075,
   "outputs": [
    {
     "data": {
      "text/plain": "target                                            object\nis_cup                                             int64\nhome_team_days_from_last_match                   float64\naway_team_days_from_last_match                   float64\nhome_team_total_matches_last_30_days               int64\naway_team_total_matches_last_30_days               int64\nhome_team_matches_play_home_last_30_days         float64\naway_team_matches_play_home_last_30_days         float64\nhome_team_matches_cup_comp_last_10_matches       float64\naway_team_matches_cup_comp_last_10_matches       float64\nhome_team_matches_cup_comp_last_30_days          float64\naway_team_matches_cup_comp_last_30_days          float64\nhome_team_is_last_match_cup                        int64\naway_team_is_last_match_cup                        int64\nhome_team_avg_goals_last_10_matches              float64\naway_team_avg_goals_last_10_matches              float64\nhome_team_goals_last_match                       float64\naway_team_goals_last_match                       float64\nhome_team_avg_goals_last_30_days                 float64\naway_team_avg_goals_last_30_days                 float64\nhome_team_opponent_avg_goals_last_10_matches     float64\naway_team_opponent_avg_goals_last_10_matches     float64\nhome_team_opponent_goals_last_match              float64\naway_team_opponent_goals_last_match              float64\nhome_team_opponent_avg_goals_last_30_days        float64\naway_team_opponent_avg_goals_last_30_days        float64\nhome_team_avg_rating_last_10_matches             float64\naway_team_avg_rating_last_10_matches             float64\nhome_team_rating_last_match                      float64\naway_team_rating_last_match                      float64\nhome_team_avg_rating_last_30_days                float64\naway_team_avg_rating_last_30_days                float64\nhome_team_opponent_avg_rating_last_10_matches    float64\naway_team_opponent_avg_rating_last_10_matches    float64\nhome_team_opponent_rating_last_match             float64\naway_team_opponent_rating_last_match             float64\nhome_team_opponent_avg_rating_last_30_days       float64\naway_team_opponent_avg_rating_last_30_days       float64\nhome_team_leagues_last_10_matches                  int64\naway_team_leagues_last_10_matches                  int64\nhome_team_same_league                              int64\naway_team_same_league                              int64\nhome_team_leagues_last_30_days                     int64\naway_team_leagues_last_30_days                     int64\ndow_match                                          int64\nweek_match                                        UInt32\nmonth_match                                        int64\nyear_match                                         int64\ndtype: object"
     },
     "execution_count": 1075,
     "metadata": {},
     "output_type": "execute_result"
    }
   ],
   "source": [
    "final_data.dtypes"
   ],
   "metadata": {
    "collapsed": false,
    "ExecuteTime": {
     "end_time": "2023-06-25T18:16:37.107779600Z",
     "start_time": "2023-06-25T18:16:36.610302300Z"
    }
   }
  },
  {
   "cell_type": "code",
   "execution_count": 1076,
   "outputs": [],
   "source": [
    "final_data['week_match'] = final_data['week_match'].astype('int32')"
   ],
   "metadata": {
    "collapsed": false,
    "ExecuteTime": {
     "end_time": "2023-06-25T18:16:37.212593Z",
     "start_time": "2023-06-25T18:16:36.625834800Z"
    }
   }
  },
  {
   "cell_type": "code",
   "execution_count": 1077,
   "outputs": [],
   "source": [
    "int64_columns = final_data.select_dtypes(include='int64').columns\n",
    "final_data[int64_columns] = final_data[int64_columns].astype('int32')"
   ],
   "metadata": {
    "collapsed": false,
    "ExecuteTime": {
     "end_time": "2023-06-25T18:16:37.354314800Z",
     "start_time": "2023-06-25T18:16:36.634715Z"
    }
   }
  },
  {
   "cell_type": "code",
   "execution_count": 1078,
   "outputs": [],
   "source": [
    "float64_columns = final_data.select_dtypes(include='float64').columns\n",
    "final_data[float64_columns] = final_data[float64_columns].astype('float32')"
   ],
   "metadata": {
    "collapsed": false,
    "ExecuteTime": {
     "end_time": "2023-06-25T18:16:37.483285Z",
     "start_time": "2023-06-25T18:16:36.750773600Z"
    }
   }
  },
  {
   "cell_type": "code",
   "execution_count": 1079,
   "outputs": [
    {
     "data": {
      "text/plain": "target                                            object\nis_cup                                             int32\nhome_team_days_from_last_match                   float32\naway_team_days_from_last_match                   float32\nhome_team_total_matches_last_30_days               int32\naway_team_total_matches_last_30_days               int32\nhome_team_matches_play_home_last_30_days         float32\naway_team_matches_play_home_last_30_days         float32\nhome_team_matches_cup_comp_last_10_matches       float32\naway_team_matches_cup_comp_last_10_matches       float32\nhome_team_matches_cup_comp_last_30_days          float32\naway_team_matches_cup_comp_last_30_days          float32\nhome_team_is_last_match_cup                        int32\naway_team_is_last_match_cup                        int32\nhome_team_avg_goals_last_10_matches              float32\naway_team_avg_goals_last_10_matches              float32\nhome_team_goals_last_match                       float32\naway_team_goals_last_match                       float32\nhome_team_avg_goals_last_30_days                 float32\naway_team_avg_goals_last_30_days                 float32\nhome_team_opponent_avg_goals_last_10_matches     float32\naway_team_opponent_avg_goals_last_10_matches     float32\nhome_team_opponent_goals_last_match              float32\naway_team_opponent_goals_last_match              float32\nhome_team_opponent_avg_goals_last_30_days        float32\naway_team_opponent_avg_goals_last_30_days        float32\nhome_team_avg_rating_last_10_matches             float32\naway_team_avg_rating_last_10_matches             float32\nhome_team_rating_last_match                      float32\naway_team_rating_last_match                      float32\nhome_team_avg_rating_last_30_days                float32\naway_team_avg_rating_last_30_days                float32\nhome_team_opponent_avg_rating_last_10_matches    float32\naway_team_opponent_avg_rating_last_10_matches    float32\nhome_team_opponent_rating_last_match             float32\naway_team_opponent_rating_last_match             float32\nhome_team_opponent_avg_rating_last_30_days       float32\naway_team_opponent_avg_rating_last_30_days       float32\nhome_team_leagues_last_10_matches                  int32\naway_team_leagues_last_10_matches                  int32\nhome_team_same_league                              int32\naway_team_same_league                              int32\nhome_team_leagues_last_30_days                     int32\naway_team_leagues_last_30_days                     int32\ndow_match                                          int32\nweek_match                                         int32\nmonth_match                                        int32\nyear_match                                         int32\ndtype: object"
     },
     "execution_count": 1079,
     "metadata": {},
     "output_type": "execute_result"
    }
   ],
   "source": [
    "final_data.dtypes"
   ],
   "metadata": {
    "collapsed": false,
    "ExecuteTime": {
     "end_time": "2023-06-25T18:16:37.613256300Z",
     "start_time": "2023-06-25T18:16:37.032254600Z"
    }
   }
  },
  {
   "cell_type": "code",
   "execution_count": 1080,
   "outputs": [
    {
     "data": {
      "text/plain": "              is_cup  home_team_days_from_last_match  \\\ncount  108928.000000                   108928.000000   \nmean        0.080769                       17.253922   \nstd         0.272481                       44.829128   \nmin         0.000000                        0.010417   \n25%         0.000000                        4.000000   \n50%         0.000000                        6.916667   \n75%         0.000000                        8.968750   \nmax         1.000000                      763.020813   \n\n       away_team_days_from_last_match  home_team_total_matches_last_30_days  \\\ncount                   108928.000000                         108928.000000   \nmean                        18.126524                              3.307304   \nstd                         46.577267                              1.905705   \nmin                          0.020833                              0.000000   \n25%                          4.000000                              2.000000   \n50%                          6.916667                              3.000000   \n75%                          9.020833                              5.000000   \nmax                        704.062500                             10.000000   \n\n       away_team_total_matches_last_30_days  \\\ncount                         108928.000000   \nmean                               3.280415   \nstd                                1.925751   \nmin                                0.000000   \n25%                                2.000000   \n50%                                3.000000   \n75%                                5.000000   \nmax                               10.000000   \n\n       home_team_matches_play_home_last_30_days  \\\ncount                             108928.000000   \nmean                                   1.509887   \nstd                                    1.082836   \nmin                                    0.000000   \n25%                                    1.000000   \n50%                                    1.000000   \n75%                                    2.000000   \nmax                                    7.000000   \n\n       away_team_matches_play_home_last_30_days  \\\ncount                             108928.000000   \nmean                                   1.804430   \nstd                                    1.174457   \nmin                                    0.000000   \n25%                                    1.000000   \n50%                                    2.000000   \n75%                                    3.000000   \nmax                                    8.000000   \n\n       home_team_matches_cup_comp_last_10_matches  \\\ncount                               108928.000000   \nmean                                     0.795654   \nstd                                      1.388106   \nmin                                      0.000000   \n25%                                      0.000000   \n50%                                      0.000000   \n75%                                      1.000000   \nmax                                     10.000000   \n\n       away_team_matches_cup_comp_last_10_matches  \\\ncount                               108928.000000   \nmean                                     0.790770   \nstd                                      1.384456   \nmin                                      0.000000   \n25%                                      0.000000   \n50%                                      0.000000   \n75%                                      1.000000   \nmax                                     10.000000   \n\n       home_team_matches_cup_comp_last_30_days  ...  \\\ncount                            108928.000000  ...   \nmean                                  0.279056  ...   \nstd                                   0.692424  ...   \nmin                                   0.000000  ...   \n25%                                   0.000000  ...   \n50%                                   0.000000  ...   \n75%                                   0.000000  ...   \nmax                                   8.000000  ...   \n\n       home_team_leagues_last_10_matches  away_team_leagues_last_10_matches  \\\ncount                      108928.000000                      108928.000000   \nmean                            1.660014                           1.654497   \nstd                             0.764377                           0.762374   \nmin                             1.000000                           1.000000   \n25%                             1.000000                           1.000000   \n50%                             2.000000                           1.000000   \n75%                             2.000000                           2.000000   \nmax                             6.000000                           6.000000   \n\n       home_team_same_league  away_team_same_league  \\\ncount          108928.000000          108928.000000   \nmean                0.849176               0.848239   \nstd                 0.357879               0.358791   \nmin                 0.000000               0.000000   \n25%                 1.000000               1.000000   \n50%                 1.000000               1.000000   \n75%                 1.000000               1.000000   \nmax                 1.000000               1.000000   \n\n       home_team_leagues_last_30_days  away_team_leagues_last_30_days  \\\ncount                   108928.000000                   108928.000000   \nmean                         1.213471                        1.211690   \nstd                          0.458102                        0.456179   \nmin                          1.000000                        1.000000   \n25%                          1.000000                        1.000000   \n50%                          1.000000                        1.000000   \n75%                          1.000000                        1.000000   \nmax                          5.000000                        5.000000   \n\n           dow_match     week_match    month_match     year_match  \ncount  108928.000000  108928.000000  108928.000000  108928.000000  \nmean        4.085185      25.209616       6.168983    2020.247108  \nstd         1.883807      17.490447       3.965385       0.544018  \nmin         0.000000       1.000000       1.000000    2019.000000  \n25%         2.000000       8.000000       2.000000    2020.000000  \n50%         5.000000      25.000000       6.000000    2020.000000  \n75%         6.000000      42.000000      10.000000    2021.000000  \nmax         6.000000      53.000000      12.000000    2021.000000  \n\n[8 rows x 47 columns]",
      "text/html": "<div>\n<style scoped>\n    .dataframe tbody tr th:only-of-type {\n        vertical-align: middle;\n    }\n\n    .dataframe tbody tr th {\n        vertical-align: top;\n    }\n\n    .dataframe thead th {\n        text-align: right;\n    }\n</style>\n<table border=\"1\" class=\"dataframe\">\n  <thead>\n    <tr style=\"text-align: right;\">\n      <th></th>\n      <th>is_cup</th>\n      <th>home_team_days_from_last_match</th>\n      <th>away_team_days_from_last_match</th>\n      <th>home_team_total_matches_last_30_days</th>\n      <th>away_team_total_matches_last_30_days</th>\n      <th>home_team_matches_play_home_last_30_days</th>\n      <th>away_team_matches_play_home_last_30_days</th>\n      <th>home_team_matches_cup_comp_last_10_matches</th>\n      <th>away_team_matches_cup_comp_last_10_matches</th>\n      <th>home_team_matches_cup_comp_last_30_days</th>\n      <th>...</th>\n      <th>home_team_leagues_last_10_matches</th>\n      <th>away_team_leagues_last_10_matches</th>\n      <th>home_team_same_league</th>\n      <th>away_team_same_league</th>\n      <th>home_team_leagues_last_30_days</th>\n      <th>away_team_leagues_last_30_days</th>\n      <th>dow_match</th>\n      <th>week_match</th>\n      <th>month_match</th>\n      <th>year_match</th>\n    </tr>\n  </thead>\n  <tbody>\n    <tr>\n      <th>count</th>\n      <td>108928.000000</td>\n      <td>108928.000000</td>\n      <td>108928.000000</td>\n      <td>108928.000000</td>\n      <td>108928.000000</td>\n      <td>108928.000000</td>\n      <td>108928.000000</td>\n      <td>108928.000000</td>\n      <td>108928.000000</td>\n      <td>108928.000000</td>\n      <td>...</td>\n      <td>108928.000000</td>\n      <td>108928.000000</td>\n      <td>108928.000000</td>\n      <td>108928.000000</td>\n      <td>108928.000000</td>\n      <td>108928.000000</td>\n      <td>108928.000000</td>\n      <td>108928.000000</td>\n      <td>108928.000000</td>\n      <td>108928.000000</td>\n    </tr>\n    <tr>\n      <th>mean</th>\n      <td>0.080769</td>\n      <td>17.253922</td>\n      <td>18.126524</td>\n      <td>3.307304</td>\n      <td>3.280415</td>\n      <td>1.509887</td>\n      <td>1.804430</td>\n      <td>0.795654</td>\n      <td>0.790770</td>\n      <td>0.279056</td>\n      <td>...</td>\n      <td>1.660014</td>\n      <td>1.654497</td>\n      <td>0.849176</td>\n      <td>0.848239</td>\n      <td>1.213471</td>\n      <td>1.211690</td>\n      <td>4.085185</td>\n      <td>25.209616</td>\n      <td>6.168983</td>\n      <td>2020.247108</td>\n    </tr>\n    <tr>\n      <th>std</th>\n      <td>0.272481</td>\n      <td>44.829128</td>\n      <td>46.577267</td>\n      <td>1.905705</td>\n      <td>1.925751</td>\n      <td>1.082836</td>\n      <td>1.174457</td>\n      <td>1.388106</td>\n      <td>1.384456</td>\n      <td>0.692424</td>\n      <td>...</td>\n      <td>0.764377</td>\n      <td>0.762374</td>\n      <td>0.357879</td>\n      <td>0.358791</td>\n      <td>0.458102</td>\n      <td>0.456179</td>\n      <td>1.883807</td>\n      <td>17.490447</td>\n      <td>3.965385</td>\n      <td>0.544018</td>\n    </tr>\n    <tr>\n      <th>min</th>\n      <td>0.000000</td>\n      <td>0.010417</td>\n      <td>0.020833</td>\n      <td>0.000000</td>\n      <td>0.000000</td>\n      <td>0.000000</td>\n      <td>0.000000</td>\n      <td>0.000000</td>\n      <td>0.000000</td>\n      <td>0.000000</td>\n      <td>...</td>\n      <td>1.000000</td>\n      <td>1.000000</td>\n      <td>0.000000</td>\n      <td>0.000000</td>\n      <td>1.000000</td>\n      <td>1.000000</td>\n      <td>0.000000</td>\n      <td>1.000000</td>\n      <td>1.000000</td>\n      <td>2019.000000</td>\n    </tr>\n    <tr>\n      <th>25%</th>\n      <td>0.000000</td>\n      <td>4.000000</td>\n      <td>4.000000</td>\n      <td>2.000000</td>\n      <td>2.000000</td>\n      <td>1.000000</td>\n      <td>1.000000</td>\n      <td>0.000000</td>\n      <td>0.000000</td>\n      <td>0.000000</td>\n      <td>...</td>\n      <td>1.000000</td>\n      <td>1.000000</td>\n      <td>1.000000</td>\n      <td>1.000000</td>\n      <td>1.000000</td>\n      <td>1.000000</td>\n      <td>2.000000</td>\n      <td>8.000000</td>\n      <td>2.000000</td>\n      <td>2020.000000</td>\n    </tr>\n    <tr>\n      <th>50%</th>\n      <td>0.000000</td>\n      <td>6.916667</td>\n      <td>6.916667</td>\n      <td>3.000000</td>\n      <td>3.000000</td>\n      <td>1.000000</td>\n      <td>2.000000</td>\n      <td>0.000000</td>\n      <td>0.000000</td>\n      <td>0.000000</td>\n      <td>...</td>\n      <td>2.000000</td>\n      <td>1.000000</td>\n      <td>1.000000</td>\n      <td>1.000000</td>\n      <td>1.000000</td>\n      <td>1.000000</td>\n      <td>5.000000</td>\n      <td>25.000000</td>\n      <td>6.000000</td>\n      <td>2020.000000</td>\n    </tr>\n    <tr>\n      <th>75%</th>\n      <td>0.000000</td>\n      <td>8.968750</td>\n      <td>9.020833</td>\n      <td>5.000000</td>\n      <td>5.000000</td>\n      <td>2.000000</td>\n      <td>3.000000</td>\n      <td>1.000000</td>\n      <td>1.000000</td>\n      <td>0.000000</td>\n      <td>...</td>\n      <td>2.000000</td>\n      <td>2.000000</td>\n      <td>1.000000</td>\n      <td>1.000000</td>\n      <td>1.000000</td>\n      <td>1.000000</td>\n      <td>6.000000</td>\n      <td>42.000000</td>\n      <td>10.000000</td>\n      <td>2021.000000</td>\n    </tr>\n    <tr>\n      <th>max</th>\n      <td>1.000000</td>\n      <td>763.020813</td>\n      <td>704.062500</td>\n      <td>10.000000</td>\n      <td>10.000000</td>\n      <td>7.000000</td>\n      <td>8.000000</td>\n      <td>10.000000</td>\n      <td>10.000000</td>\n      <td>8.000000</td>\n      <td>...</td>\n      <td>6.000000</td>\n      <td>6.000000</td>\n      <td>1.000000</td>\n      <td>1.000000</td>\n      <td>5.000000</td>\n      <td>5.000000</td>\n      <td>6.000000</td>\n      <td>53.000000</td>\n      <td>12.000000</td>\n      <td>2021.000000</td>\n    </tr>\n  </tbody>\n</table>\n<p>8 rows × 47 columns</p>\n</div>"
     },
     "execution_count": 1080,
     "metadata": {},
     "output_type": "execute_result"
    }
   ],
   "source": [
    "final_data.describe()"
   ],
   "metadata": {
    "collapsed": false,
    "ExecuteTime": {
     "end_time": "2023-06-25T18:16:37.615098Z",
     "start_time": "2023-06-25T18:16:37.032254600Z"
    }
   }
  },
  {
   "cell_type": "markdown",
   "source": [
    "- There might be outliers of the dataset at the last_match info"
   ],
   "metadata": {
    "collapsed": false
   }
  },
  {
   "cell_type": "code",
   "execution_count": 1081,
   "outputs": [],
   "source": [
    "iqr_home_last_match = 8.96 - 4\n",
    "upper_limit_home_last_match = 1.5*iqr_home_last_match + 8.96\n",
    "lower_limit_home_last_match = 4 - 1.5*iqr_home_last_match"
   ],
   "metadata": {
    "collapsed": false,
    "ExecuteTime": {
     "end_time": "2023-06-25T18:16:37.615098Z",
     "start_time": "2023-06-25T18:16:37.332973400Z"
    }
   }
  },
  {
   "cell_type": "code",
   "execution_count": 1082,
   "outputs": [
    {
     "data": {
      "text/plain": "              id target  is_cup  home_team_days_from_last_match  \\\n12      11906932   draw       0                       21.000000   \n14      11906931   draw       0                       21.000000   \n26      11964383   away       0                       20.916667   \n27      11964382   draw       0                       21.000000   \n44      11964388   draw       0                       21.083333   \n...          ...    ...     ...                             ...   \n110895  17815164   home       1                       48.927083   \n110902  17814169   home       0                       41.333333   \n110916  17056258   draw       0                       16.541667   \n110917  17056259   away       0                       21.458333   \n110931  17948949   away       0                      208.000000   \n\n        away_team_days_from_last_match  home_team_total_matches_last_30_days  \\\n12                            7.000000                                     1   \n14                           21.041667                                     2   \n26                           21.000000                                     2   \n27                           20.916667                                     2   \n44                           21.000000                                     2   \n...                                ...                                   ...   \n110895                       55.093750                                     0   \n110902                       48.333333                                     0   \n110916                       15.416667                                     2   \n110917                       12.354167                                     1   \n110931                      202.000000                                     0   \n\n        away_team_total_matches_last_30_days  \\\n12                                         3   \n14                                         1   \n26                                         2   \n27                                         2   \n44                                         2   \n...                                      ...   \n110895                                     0   \n110902                                     0   \n110916                                     2   \n110917                                     1   \n110931                                     0   \n\n        home_team_matches_play_home_last_30_days  \\\n12                                           1.0   \n14                                           2.0   \n26                                           0.0   \n27                                           1.0   \n44                                           1.0   \n...                                          ...   \n110895                                       0.0   \n110902                                       0.0   \n110916                                       1.0   \n110917                                       0.0   \n110931                                       0.0   \n\n        away_team_matches_play_home_last_30_days  \\\n12                                           3.0   \n14                                           0.0   \n26                                           1.0   \n27                                           1.0   \n44                                           1.0   \n...                                          ...   \n110895                                       0.0   \n110902                                       0.0   \n110916                                       2.0   \n110917                                       0.0   \n110931                                       0.0   \n\n        home_team_matches_cup_comp_last_10_matches  ...  \\\n12                                             0.0  ...   \n14                                             0.0  ...   \n26                                             0.0  ...   \n27                                             0.0  ...   \n44                                             0.0  ...   \n...                                            ...  ...   \n110895                                         4.0  ...   \n110902                                         9.0  ...   \n110916                                         0.0  ...   \n110917                                         1.0  ...   \n110931                                         0.0  ...   \n\n        home_team_leagues_last_10_matches  away_team_leagues_last_10_matches  \\\n12                                      1                                  1   \n14                                      1                                  2   \n26                                      1                                  1   \n27                                      1                                  1   \n44                                      1                                  1   \n...                                   ...                                ...   \n110895                                  2                                  2   \n110902                                  3                                  3   \n110916                                  1                                  1   \n110917                                  2                                  1   \n110931                                  1                                  1   \n\n        home_team_same_league  away_team_same_league  \\\n12                          1                      1   \n14                          1                      1   \n26                          1                      1   \n27                          1                      1   \n44                          1                      1   \n...                       ...                    ...   \n110895                      0                      0   \n110902                      0                      0   \n110916                      1                      1   \n110917                      1                      1   \n110931                      1                      1   \n\n        home_team_leagues_last_30_days  away_team_leagues_last_30_days  \\\n12                                   1                               1   \n14                                   1                               1   \n26                                   1                               1   \n27                                   1                               1   \n44                                   1                               1   \n...                                ...                             ...   \n110895                               1                               1   \n110902                               1                               1   \n110916                               1                               1   \n110917                               1                               1   \n110931                               1                               1   \n\n        dow_match  week_match  month_match  year_match  \n12              6          48           12        2019  \n14              6          48           12        2019  \n26              6          48           12        2019  \n27              6          48           12        2019  \n44              6          48           12        2019  \n...           ...         ...          ...         ...  \n110895          4          17            4        2021  \n110902          4          17            4        2021  \n110916          4          17            4        2021  \n110917          4          17            4        2021  \n110931          4          17            4        2021  \n\n[14354 rows x 49 columns]",
      "text/html": "<div>\n<style scoped>\n    .dataframe tbody tr th:only-of-type {\n        vertical-align: middle;\n    }\n\n    .dataframe tbody tr th {\n        vertical-align: top;\n    }\n\n    .dataframe thead th {\n        text-align: right;\n    }\n</style>\n<table border=\"1\" class=\"dataframe\">\n  <thead>\n    <tr style=\"text-align: right;\">\n      <th></th>\n      <th>id</th>\n      <th>target</th>\n      <th>is_cup</th>\n      <th>home_team_days_from_last_match</th>\n      <th>away_team_days_from_last_match</th>\n      <th>home_team_total_matches_last_30_days</th>\n      <th>away_team_total_matches_last_30_days</th>\n      <th>home_team_matches_play_home_last_30_days</th>\n      <th>away_team_matches_play_home_last_30_days</th>\n      <th>home_team_matches_cup_comp_last_10_matches</th>\n      <th>...</th>\n      <th>home_team_leagues_last_10_matches</th>\n      <th>away_team_leagues_last_10_matches</th>\n      <th>home_team_same_league</th>\n      <th>away_team_same_league</th>\n      <th>home_team_leagues_last_30_days</th>\n      <th>away_team_leagues_last_30_days</th>\n      <th>dow_match</th>\n      <th>week_match</th>\n      <th>month_match</th>\n      <th>year_match</th>\n    </tr>\n  </thead>\n  <tbody>\n    <tr>\n      <th>12</th>\n      <td>11906932</td>\n      <td>draw</td>\n      <td>0</td>\n      <td>21.000000</td>\n      <td>7.000000</td>\n      <td>1</td>\n      <td>3</td>\n      <td>1.0</td>\n      <td>3.0</td>\n      <td>0.0</td>\n      <td>...</td>\n      <td>1</td>\n      <td>1</td>\n      <td>1</td>\n      <td>1</td>\n      <td>1</td>\n      <td>1</td>\n      <td>6</td>\n      <td>48</td>\n      <td>12</td>\n      <td>2019</td>\n    </tr>\n    <tr>\n      <th>14</th>\n      <td>11906931</td>\n      <td>draw</td>\n      <td>0</td>\n      <td>21.000000</td>\n      <td>21.041667</td>\n      <td>2</td>\n      <td>1</td>\n      <td>2.0</td>\n      <td>0.0</td>\n      <td>0.0</td>\n      <td>...</td>\n      <td>1</td>\n      <td>2</td>\n      <td>1</td>\n      <td>1</td>\n      <td>1</td>\n      <td>1</td>\n      <td>6</td>\n      <td>48</td>\n      <td>12</td>\n      <td>2019</td>\n    </tr>\n    <tr>\n      <th>26</th>\n      <td>11964383</td>\n      <td>away</td>\n      <td>0</td>\n      <td>20.916667</td>\n      <td>21.000000</td>\n      <td>2</td>\n      <td>2</td>\n      <td>0.0</td>\n      <td>1.0</td>\n      <td>0.0</td>\n      <td>...</td>\n      <td>1</td>\n      <td>1</td>\n      <td>1</td>\n      <td>1</td>\n      <td>1</td>\n      <td>1</td>\n      <td>6</td>\n      <td>48</td>\n      <td>12</td>\n      <td>2019</td>\n    </tr>\n    <tr>\n      <th>27</th>\n      <td>11964382</td>\n      <td>draw</td>\n      <td>0</td>\n      <td>21.000000</td>\n      <td>20.916667</td>\n      <td>2</td>\n      <td>2</td>\n      <td>1.0</td>\n      <td>1.0</td>\n      <td>0.0</td>\n      <td>...</td>\n      <td>1</td>\n      <td>1</td>\n      <td>1</td>\n      <td>1</td>\n      <td>1</td>\n      <td>1</td>\n      <td>6</td>\n      <td>48</td>\n      <td>12</td>\n      <td>2019</td>\n    </tr>\n    <tr>\n      <th>44</th>\n      <td>11964388</td>\n      <td>draw</td>\n      <td>0</td>\n      <td>21.083333</td>\n      <td>21.000000</td>\n      <td>2</td>\n      <td>2</td>\n      <td>1.0</td>\n      <td>1.0</td>\n      <td>0.0</td>\n      <td>...</td>\n      <td>1</td>\n      <td>1</td>\n      <td>1</td>\n      <td>1</td>\n      <td>1</td>\n      <td>1</td>\n      <td>6</td>\n      <td>48</td>\n      <td>12</td>\n      <td>2019</td>\n    </tr>\n    <tr>\n      <th>...</th>\n      <td>...</td>\n      <td>...</td>\n      <td>...</td>\n      <td>...</td>\n      <td>...</td>\n      <td>...</td>\n      <td>...</td>\n      <td>...</td>\n      <td>...</td>\n      <td>...</td>\n      <td>...</td>\n      <td>...</td>\n      <td>...</td>\n      <td>...</td>\n      <td>...</td>\n      <td>...</td>\n      <td>...</td>\n      <td>...</td>\n      <td>...</td>\n      <td>...</td>\n      <td>...</td>\n    </tr>\n    <tr>\n      <th>110895</th>\n      <td>17815164</td>\n      <td>home</td>\n      <td>1</td>\n      <td>48.927083</td>\n      <td>55.093750</td>\n      <td>0</td>\n      <td>0</td>\n      <td>0.0</td>\n      <td>0.0</td>\n      <td>4.0</td>\n      <td>...</td>\n      <td>2</td>\n      <td>2</td>\n      <td>0</td>\n      <td>0</td>\n      <td>1</td>\n      <td>1</td>\n      <td>4</td>\n      <td>17</td>\n      <td>4</td>\n      <td>2021</td>\n    </tr>\n    <tr>\n      <th>110902</th>\n      <td>17814169</td>\n      <td>home</td>\n      <td>0</td>\n      <td>41.333333</td>\n      <td>48.333333</td>\n      <td>0</td>\n      <td>0</td>\n      <td>0.0</td>\n      <td>0.0</td>\n      <td>9.0</td>\n      <td>...</td>\n      <td>3</td>\n      <td>3</td>\n      <td>0</td>\n      <td>0</td>\n      <td>1</td>\n      <td>1</td>\n      <td>4</td>\n      <td>17</td>\n      <td>4</td>\n      <td>2021</td>\n    </tr>\n    <tr>\n      <th>110916</th>\n      <td>17056258</td>\n      <td>draw</td>\n      <td>0</td>\n      <td>16.541667</td>\n      <td>15.416667</td>\n      <td>2</td>\n      <td>2</td>\n      <td>1.0</td>\n      <td>2.0</td>\n      <td>0.0</td>\n      <td>...</td>\n      <td>1</td>\n      <td>1</td>\n      <td>1</td>\n      <td>1</td>\n      <td>1</td>\n      <td>1</td>\n      <td>4</td>\n      <td>17</td>\n      <td>4</td>\n      <td>2021</td>\n    </tr>\n    <tr>\n      <th>110917</th>\n      <td>17056259</td>\n      <td>away</td>\n      <td>0</td>\n      <td>21.458333</td>\n      <td>12.354167</td>\n      <td>1</td>\n      <td>1</td>\n      <td>0.0</td>\n      <td>0.0</td>\n      <td>1.0</td>\n      <td>...</td>\n      <td>2</td>\n      <td>1</td>\n      <td>1</td>\n      <td>1</td>\n      <td>1</td>\n      <td>1</td>\n      <td>4</td>\n      <td>17</td>\n      <td>4</td>\n      <td>2021</td>\n    </tr>\n    <tr>\n      <th>110931</th>\n      <td>17948949</td>\n      <td>away</td>\n      <td>0</td>\n      <td>208.000000</td>\n      <td>202.000000</td>\n      <td>0</td>\n      <td>0</td>\n      <td>0.0</td>\n      <td>0.0</td>\n      <td>0.0</td>\n      <td>...</td>\n      <td>1</td>\n      <td>1</td>\n      <td>1</td>\n      <td>1</td>\n      <td>1</td>\n      <td>1</td>\n      <td>4</td>\n      <td>17</td>\n      <td>4</td>\n      <td>2021</td>\n    </tr>\n  </tbody>\n</table>\n<p>14354 rows × 49 columns</p>\n</div>"
     },
     "execution_count": 1082,
     "metadata": {},
     "output_type": "execute_result"
    }
   ],
   "source": [
    "data[(data['home_team_days_from_last_match']>upper_limit_home_last_match) |\n",
    "     (data['home_team_days_from_last_match']<lower_limit_home_last_match)]"
   ],
   "metadata": {
    "collapsed": false,
    "ExecuteTime": {
     "end_time": "2023-06-25T18:16:37.786535500Z",
     "start_time": "2023-06-25T18:16:37.344407800Z"
    }
   }
  },
  {
   "cell_type": "code",
   "execution_count": 1083,
   "outputs": [
    {
     "data": {
      "text/plain": "       target  is_cup  home_team_days_from_last_match  \\\n175      home       0                      267.125000   \n1227     away       0                      251.000000   \n1497     draw       0                      215.979172   \n2384     home       0                      218.020828   \n3063     home       0                      209.000000   \n...       ...     ...                             ...   \n108177   home       0                      412.041656   \n108284   home       0                      213.041672   \n108444   draw       0                      273.989594   \n108608   draw       0                      274.822906   \n108946   away       0                      208.000000   \n\n        away_team_days_from_last_match  home_team_total_matches_last_30_days  \\\n175                         158.041672                                     0   \n1227                          5.916667                                     0   \n1497                         38.000000                                     0   \n2384                        216.958328                                     0   \n3063                        195.000000                                     0   \n...                                ...                                   ...   \n108177                      189.083328                                     0   \n108284                      217.000000                                     0   \n108444                       18.166666                                     0   \n108608                       18.906250                                     0   \n108946                      202.000000                                     0   \n\n        away_team_total_matches_last_30_days  \\\n175                                        0   \n1227                                       1   \n1497                                       0   \n2384                                       0   \n3063                                       0   \n...                                      ...   \n108177                                     0   \n108284                                     0   \n108444                                     3   \n108608                                     3   \n108946                                     0   \n\n        home_team_matches_play_home_last_30_days  \\\n175                                          0.0   \n1227                                         0.0   \n1497                                         0.0   \n2384                                         0.0   \n3063                                         0.0   \n...                                          ...   \n108177                                       0.0   \n108284                                       0.0   \n108444                                       0.0   \n108608                                       0.0   \n108946                                       0.0   \n\n        away_team_matches_play_home_last_30_days  \\\n175                                          0.0   \n1227                                         1.0   \n1497                                         0.0   \n2384                                         0.0   \n3063                                         0.0   \n...                                          ...   \n108177                                       0.0   \n108284                                       0.0   \n108444                                       2.0   \n108608                                       1.0   \n108946                                       0.0   \n\n        home_team_matches_cup_comp_last_10_matches  \\\n175                                            0.0   \n1227                                           1.0   \n1497                                           0.0   \n2384                                           0.0   \n3063                                           0.0   \n...                                            ...   \n108177                                         0.0   \n108284                                         1.0   \n108444                                         0.0   \n108608                                         0.0   \n108946                                         0.0   \n\n        away_team_matches_cup_comp_last_10_matches  ...  \\\n175                                            7.0  ...   \n1227                                           0.0  ...   \n1497                                           1.0  ...   \n2384                                           0.0  ...   \n3063                                           0.0  ...   \n...                                            ...  ...   \n108177                                         0.0  ...   \n108284                                         0.0  ...   \n108444                                         1.0  ...   \n108608                                         0.0  ...   \n108946                                         0.0  ...   \n\n        home_team_leagues_last_10_matches  away_team_leagues_last_10_matches  \\\n175                                     1                                  3   \n1227                                    1                                  1   \n1497                                    1                                  2   \n2384                                    1                                  1   \n3063                                    1                                  1   \n...                                   ...                                ...   \n108177                                  1                                  1   \n108284                                  3                                  1   \n108444                                  1                                  3   \n108608                                  1                                  2   \n108946                                  1                                  1   \n\n        home_team_same_league  away_team_same_league  \\\n175                         1                      0   \n1227                        0                      1   \n1497                        1                      0   \n2384                        1                      1   \n3063                        1                      1   \n...                       ...                    ...   \n108177                      1                      1   \n108284                      1                      1   \n108444                      1                      0   \n108608                      1                      0   \n108946                      1                      1   \n\n        home_team_leagues_last_30_days  away_team_leagues_last_30_days  \\\n175                                  1                               1   \n1227                                 1                               1   \n1497                                 1                               1   \n2384                                 1                               1   \n3063                                 1                               1   \n...                                ...                             ...   \n108177                               1                               1   \n108284                               1                               1   \n108444                               1                               1   \n108608                               1                               1   \n108946                               1                               1   \n\n        dow_match  week_match  month_match  year_match  \n175             6          48           12        2019  \n1227            4          49           12        2019  \n1497            5          49           12        2019  \n2384            6          49           12        2019  \n3063            5          50           12        2019  \n...           ...         ...          ...         ...  \n108177          2          17            4        2021  \n108284          2          17            4        2021  \n108444          2          17            4        2021  \n108608          3          17            4        2021  \n108946          4          17            4        2021  \n\n[1798 rows x 48 columns]",
      "text/html": "<div>\n<style scoped>\n    .dataframe tbody tr th:only-of-type {\n        vertical-align: middle;\n    }\n\n    .dataframe tbody tr th {\n        vertical-align: top;\n    }\n\n    .dataframe thead th {\n        text-align: right;\n    }\n</style>\n<table border=\"1\" class=\"dataframe\">\n  <thead>\n    <tr style=\"text-align: right;\">\n      <th></th>\n      <th>target</th>\n      <th>is_cup</th>\n      <th>home_team_days_from_last_match</th>\n      <th>away_team_days_from_last_match</th>\n      <th>home_team_total_matches_last_30_days</th>\n      <th>away_team_total_matches_last_30_days</th>\n      <th>home_team_matches_play_home_last_30_days</th>\n      <th>away_team_matches_play_home_last_30_days</th>\n      <th>home_team_matches_cup_comp_last_10_matches</th>\n      <th>away_team_matches_cup_comp_last_10_matches</th>\n      <th>...</th>\n      <th>home_team_leagues_last_10_matches</th>\n      <th>away_team_leagues_last_10_matches</th>\n      <th>home_team_same_league</th>\n      <th>away_team_same_league</th>\n      <th>home_team_leagues_last_30_days</th>\n      <th>away_team_leagues_last_30_days</th>\n      <th>dow_match</th>\n      <th>week_match</th>\n      <th>month_match</th>\n      <th>year_match</th>\n    </tr>\n  </thead>\n  <tbody>\n    <tr>\n      <th>175</th>\n      <td>home</td>\n      <td>0</td>\n      <td>267.125000</td>\n      <td>158.041672</td>\n      <td>0</td>\n      <td>0</td>\n      <td>0.0</td>\n      <td>0.0</td>\n      <td>0.0</td>\n      <td>7.0</td>\n      <td>...</td>\n      <td>1</td>\n      <td>3</td>\n      <td>1</td>\n      <td>0</td>\n      <td>1</td>\n      <td>1</td>\n      <td>6</td>\n      <td>48</td>\n      <td>12</td>\n      <td>2019</td>\n    </tr>\n    <tr>\n      <th>1227</th>\n      <td>away</td>\n      <td>0</td>\n      <td>251.000000</td>\n      <td>5.916667</td>\n      <td>0</td>\n      <td>1</td>\n      <td>0.0</td>\n      <td>1.0</td>\n      <td>1.0</td>\n      <td>0.0</td>\n      <td>...</td>\n      <td>1</td>\n      <td>1</td>\n      <td>0</td>\n      <td>1</td>\n      <td>1</td>\n      <td>1</td>\n      <td>4</td>\n      <td>49</td>\n      <td>12</td>\n      <td>2019</td>\n    </tr>\n    <tr>\n      <th>1497</th>\n      <td>draw</td>\n      <td>0</td>\n      <td>215.979172</td>\n      <td>38.000000</td>\n      <td>0</td>\n      <td>0</td>\n      <td>0.0</td>\n      <td>0.0</td>\n      <td>0.0</td>\n      <td>1.0</td>\n      <td>...</td>\n      <td>1</td>\n      <td>2</td>\n      <td>1</td>\n      <td>0</td>\n      <td>1</td>\n      <td>1</td>\n      <td>5</td>\n      <td>49</td>\n      <td>12</td>\n      <td>2019</td>\n    </tr>\n    <tr>\n      <th>2384</th>\n      <td>home</td>\n      <td>0</td>\n      <td>218.020828</td>\n      <td>216.958328</td>\n      <td>0</td>\n      <td>0</td>\n      <td>0.0</td>\n      <td>0.0</td>\n      <td>0.0</td>\n      <td>0.0</td>\n      <td>...</td>\n      <td>1</td>\n      <td>1</td>\n      <td>1</td>\n      <td>1</td>\n      <td>1</td>\n      <td>1</td>\n      <td>6</td>\n      <td>49</td>\n      <td>12</td>\n      <td>2019</td>\n    </tr>\n    <tr>\n      <th>3063</th>\n      <td>home</td>\n      <td>0</td>\n      <td>209.000000</td>\n      <td>195.000000</td>\n      <td>0</td>\n      <td>0</td>\n      <td>0.0</td>\n      <td>0.0</td>\n      <td>0.0</td>\n      <td>0.0</td>\n      <td>...</td>\n      <td>1</td>\n      <td>1</td>\n      <td>1</td>\n      <td>1</td>\n      <td>1</td>\n      <td>1</td>\n      <td>5</td>\n      <td>50</td>\n      <td>12</td>\n      <td>2019</td>\n    </tr>\n    <tr>\n      <th>...</th>\n      <td>...</td>\n      <td>...</td>\n      <td>...</td>\n      <td>...</td>\n      <td>...</td>\n      <td>...</td>\n      <td>...</td>\n      <td>...</td>\n      <td>...</td>\n      <td>...</td>\n      <td>...</td>\n      <td>...</td>\n      <td>...</td>\n      <td>...</td>\n      <td>...</td>\n      <td>...</td>\n      <td>...</td>\n      <td>...</td>\n      <td>...</td>\n      <td>...</td>\n      <td>...</td>\n    </tr>\n    <tr>\n      <th>108177</th>\n      <td>home</td>\n      <td>0</td>\n      <td>412.041656</td>\n      <td>189.083328</td>\n      <td>0</td>\n      <td>0</td>\n      <td>0.0</td>\n      <td>0.0</td>\n      <td>0.0</td>\n      <td>0.0</td>\n      <td>...</td>\n      <td>1</td>\n      <td>1</td>\n      <td>1</td>\n      <td>1</td>\n      <td>1</td>\n      <td>1</td>\n      <td>2</td>\n      <td>17</td>\n      <td>4</td>\n      <td>2021</td>\n    </tr>\n    <tr>\n      <th>108284</th>\n      <td>home</td>\n      <td>0</td>\n      <td>213.041672</td>\n      <td>217.000000</td>\n      <td>0</td>\n      <td>0</td>\n      <td>0.0</td>\n      <td>0.0</td>\n      <td>1.0</td>\n      <td>0.0</td>\n      <td>...</td>\n      <td>3</td>\n      <td>1</td>\n      <td>1</td>\n      <td>1</td>\n      <td>1</td>\n      <td>1</td>\n      <td>2</td>\n      <td>17</td>\n      <td>4</td>\n      <td>2021</td>\n    </tr>\n    <tr>\n      <th>108444</th>\n      <td>draw</td>\n      <td>0</td>\n      <td>273.989594</td>\n      <td>18.166666</td>\n      <td>0</td>\n      <td>3</td>\n      <td>0.0</td>\n      <td>2.0</td>\n      <td>0.0</td>\n      <td>1.0</td>\n      <td>...</td>\n      <td>1</td>\n      <td>3</td>\n      <td>1</td>\n      <td>0</td>\n      <td>1</td>\n      <td>1</td>\n      <td>2</td>\n      <td>17</td>\n      <td>4</td>\n      <td>2021</td>\n    </tr>\n    <tr>\n      <th>108608</th>\n      <td>draw</td>\n      <td>0</td>\n      <td>274.822906</td>\n      <td>18.906250</td>\n      <td>0</td>\n      <td>3</td>\n      <td>0.0</td>\n      <td>1.0</td>\n      <td>0.0</td>\n      <td>0.0</td>\n      <td>...</td>\n      <td>1</td>\n      <td>2</td>\n      <td>1</td>\n      <td>0</td>\n      <td>1</td>\n      <td>1</td>\n      <td>3</td>\n      <td>17</td>\n      <td>4</td>\n      <td>2021</td>\n    </tr>\n    <tr>\n      <th>108946</th>\n      <td>away</td>\n      <td>0</td>\n      <td>208.000000</td>\n      <td>202.000000</td>\n      <td>0</td>\n      <td>0</td>\n      <td>0.0</td>\n      <td>0.0</td>\n      <td>0.0</td>\n      <td>0.0</td>\n      <td>...</td>\n      <td>1</td>\n      <td>1</td>\n      <td>1</td>\n      <td>1</td>\n      <td>1</td>\n      <td>1</td>\n      <td>4</td>\n      <td>17</td>\n      <td>4</td>\n      <td>2021</td>\n    </tr>\n  </tbody>\n</table>\n<p>1798 rows × 48 columns</p>\n</div>"
     },
     "execution_count": 1083,
     "metadata": {},
     "output_type": "execute_result"
    }
   ],
   "source": [
    "final_data[final_data['home_team_days_from_last_match']>200]"
   ],
   "metadata": {
    "collapsed": false,
    "ExecuteTime": {
     "end_time": "2023-06-25T18:16:37.899880800Z",
     "start_time": "2023-06-25T18:16:37.413054400Z"
    }
   }
  },
  {
   "cell_type": "markdown",
   "source": [
    "- There are matches that the participants have not played for more than few months, less but have, so they are considered as part of the data and shall not be removed"
   ],
   "metadata": {
    "collapsed": false
   }
  },
  {
   "cell_type": "code",
   "execution_count": 1084,
   "outputs": [
    {
     "data": {
      "text/plain": "                                                 is_cup  \\\nis_cup                                         1.000000   \nhome_team_days_from_last_match                 0.045608   \naway_team_days_from_last_match                 0.036576   \nhome_team_total_matches_last_30_days          -0.018133   \naway_team_total_matches_last_30_days          -0.001086   \nhome_team_matches_play_home_last_30_days       0.008184   \naway_team_matches_play_home_last_30_days      -0.018484   \nhome_team_matches_cup_comp_last_10_matches     0.326128   \naway_team_matches_cup_comp_last_10_matches     0.327703   \nhome_team_matches_cup_comp_last_30_days        0.294654   \naway_team_matches_cup_comp_last_30_days        0.303742   \nhome_team_is_last_match_cup                    0.268456   \naway_team_is_last_match_cup                    0.272078   \nhome_team_avg_goals_last_10_matches            0.076047   \naway_team_avg_goals_last_10_matches            0.066445   \nhome_team_goals_last_match                     0.049869   \naway_team_goals_last_match                     0.014538   \nhome_team_avg_goals_last_30_days               0.059282   \naway_team_avg_goals_last_30_days               0.043541   \nhome_team_opponent_avg_goals_last_10_matches  -0.040557   \naway_team_opponent_avg_goals_last_10_matches  -0.039906   \nhome_team_opponent_goals_last_match           -0.025994   \naway_team_opponent_goals_last_match           -0.007541   \nhome_team_opponent_avg_goals_last_30_days     -0.023876   \naway_team_opponent_avg_goals_last_30_days     -0.022218   \nhome_team_avg_rating_last_10_matches           0.090372   \naway_team_avg_rating_last_10_matches           0.077727   \nhome_team_rating_last_match                    0.089553   \naway_team_rating_last_match                    0.028847   \nhome_team_avg_rating_last_30_days              0.084579   \naway_team_avg_rating_last_30_days              0.064848   \nhome_team_opponent_avg_rating_last_10_matches -0.034881   \naway_team_opponent_avg_rating_last_10_matches -0.035864   \nhome_team_opponent_rating_last_match          -0.040513   \naway_team_opponent_rating_last_match           0.003061   \nhome_team_opponent_avg_rating_last_30_days    -0.021419   \naway_team_opponent_avg_rating_last_30_days    -0.016815   \nhome_team_leagues_last_10_matches              0.187869   \naway_team_leagues_last_10_matches              0.191700   \nhome_team_same_league                         -0.466487   \naway_team_same_league                         -0.461241   \nhome_team_leagues_last_30_days                 0.146791   \naway_team_leagues_last_30_days                 0.156765   \ndow_match                                     -0.164945   \nweek_match                                     0.015210   \nmonth_match                                    0.015203   \nyear_match                                    -0.024900   \n\n                                               home_team_days_from_last_match  \\\nis_cup                                                               0.045608   \nhome_team_days_from_last_match                                       1.000000   \naway_team_days_from_last_match                                       0.550633   \nhome_team_total_matches_last_30_days                                -0.426922   \naway_team_total_matches_last_30_days                                -0.342214   \nhome_team_matches_play_home_last_30_days                            -0.341279   \naway_team_matches_play_home_last_30_days                            -0.307836   \nhome_team_matches_cup_comp_last_10_matches                           0.005631   \naway_team_matches_cup_comp_last_10_matches                           0.018810   \nhome_team_matches_cup_comp_last_30_days                             -0.104552   \naway_team_matches_cup_comp_last_30_days                             -0.076893   \nhome_team_is_last_match_cup                                          0.042941   \naway_team_is_last_match_cup                                          0.046193   \nhome_team_avg_goals_last_10_matches                                  0.008466   \naway_team_avg_goals_last_10_matches                                  0.018532   \nhome_team_goals_last_match                                           0.013672   \naway_team_goals_last_match                                           0.003363   \nhome_team_avg_goals_last_30_days                                     0.008961   \naway_team_avg_goals_last_30_days                                     0.011929   \nhome_team_opponent_avg_goals_last_10_matches                         0.067205   \naway_team_opponent_avg_goals_last_10_matches                         0.044137   \nhome_team_opponent_goals_last_match                                  0.039572   \naway_team_opponent_goals_last_match                                  0.038632   \nhome_team_opponent_avg_goals_last_30_days                            0.067057   \naway_team_opponent_avg_goals_last_30_days                            0.044208   \nhome_team_avg_rating_last_10_matches                                 0.021185   \naway_team_avg_rating_last_10_matches                                 0.034949   \nhome_team_rating_last_match                                          0.030029   \naway_team_rating_last_match                                          0.016155   \nhome_team_avg_rating_last_30_days                                    0.013101   \naway_team_avg_rating_last_30_days                                    0.033919   \nhome_team_opponent_avg_rating_last_10_matches                        0.096053   \naway_team_opponent_avg_rating_last_10_matches                        0.072957   \nhome_team_opponent_rating_last_match                                 0.061775   \naway_team_opponent_rating_last_match                                 0.079339   \nhome_team_opponent_avg_rating_last_30_days                           0.092231   \naway_team_opponent_avg_rating_last_30_days                           0.074862   \nhome_team_leagues_last_10_matches                                   -0.069139   \naway_team_leagues_last_10_matches                                   -0.021504   \nhome_team_same_league                                               -0.138445   \naway_team_same_league                                               -0.143697   \nhome_team_leagues_last_30_days                                      -0.120900   \naway_team_leagues_last_30_days                                      -0.096127   \ndow_match                                                            0.015041   \nweek_match                                                           0.018648   \nmonth_match                                                          0.019379   \nyear_match                                                          -0.012922   \n\n                                               away_team_days_from_last_match  \\\nis_cup                                                               0.036576   \nhome_team_days_from_last_match                                       0.550633   \naway_team_days_from_last_match                                       1.000000   \nhome_team_total_matches_last_30_days                                -0.350588   \naway_team_total_matches_last_30_days                                -0.435757   \nhome_team_matches_play_home_last_30_days                            -0.278425   \naway_team_matches_play_home_last_30_days                            -0.394877   \nhome_team_matches_cup_comp_last_10_matches                           0.019294   \naway_team_matches_cup_comp_last_10_matches                           0.009549   \nhome_team_matches_cup_comp_last_30_days                             -0.077106   \naway_team_matches_cup_comp_last_30_days                             -0.108233   \nhome_team_is_last_match_cup                                          0.038522   \naway_team_is_last_match_cup                                          0.046221   \nhome_team_avg_goals_last_10_matches                                  0.021330   \naway_team_avg_goals_last_10_matches                                 -0.000880   \nhome_team_goals_last_match                                           0.019083   \naway_team_goals_last_match                                          -0.014681   \nhome_team_avg_goals_last_30_days                                     0.017102   \naway_team_avg_goals_last_30_days                                    -0.010263   \nhome_team_opponent_avg_goals_last_10_matches                         0.042044   \naway_team_opponent_avg_goals_last_10_matches                         0.078367   \nhome_team_opponent_goals_last_match                                  0.023204   \naway_team_opponent_goals_last_match                                  0.068806   \nhome_team_opponent_avg_goals_last_30_days                            0.042970   \naway_team_opponent_avg_goals_last_30_days                            0.083357   \nhome_team_avg_rating_last_10_matches                                 0.042008   \naway_team_avg_rating_last_10_matches                                 0.011840   \nhome_team_rating_last_match                                          0.049628   \naway_team_rating_last_match                                         -0.011316   \nhome_team_avg_rating_last_30_days                                    0.037445   \naway_team_avg_rating_last_30_days                                    0.003391   \nhome_team_opponent_avg_rating_last_10_matches                        0.063447   \naway_team_opponent_avg_rating_last_10_matches                        0.105830   \nhome_team_opponent_rating_last_match                                 0.045268   \naway_team_opponent_rating_last_match                                 0.107718   \nhome_team_opponent_avg_rating_last_30_days                           0.071199   \naway_team_opponent_avg_rating_last_30_days                           0.104982   \nhome_team_leagues_last_10_matches                                   -0.009258   \naway_team_leagues_last_10_matches                                   -0.073830   \nhome_team_same_league                                               -0.138838   \naway_team_same_league                                               -0.149823   \nhome_team_leagues_last_30_days                                      -0.098922   \naway_team_leagues_last_30_days                                      -0.124820   \ndow_match                                                            0.018947   \nweek_match                                                           0.017327   \nmonth_match                                                          0.018271   \nyear_match                                                          -0.007095   \n\n                                               home_team_total_matches_last_30_days  \\\nis_cup                                                                    -0.018133   \nhome_team_days_from_last_match                                            -0.426922   \naway_team_days_from_last_match                                            -0.350588   \nhome_team_total_matches_last_30_days                                       1.000000   \naway_team_total_matches_last_30_days                                       0.775496   \nhome_team_matches_play_home_last_30_days                                   0.840558   \naway_team_matches_play_home_last_30_days                                   0.666905   \nhome_team_matches_cup_comp_last_10_matches                                 0.070776   \naway_team_matches_cup_comp_last_10_matches                                 0.014681   \nhome_team_matches_cup_comp_last_30_days                                    0.316787   \naway_team_matches_cup_comp_last_30_days                                    0.183107   \nhome_team_is_last_match_cup                                                0.012342   \naway_team_is_last_match_cup                                               -0.037052   \nhome_team_avg_goals_last_10_matches                                       -0.015628   \naway_team_avg_goals_last_10_matches                                       -0.043529   \nhome_team_goals_last_match                                                -0.020849   \naway_team_goals_last_match                                                -0.006819   \nhome_team_avg_goals_last_30_days                                          -0.007570   \naway_team_avg_goals_last_30_days                                          -0.026040   \nhome_team_opponent_avg_goals_last_10_matches                              -0.112216   \naway_team_opponent_avg_goals_last_10_matches                              -0.082406   \nhome_team_opponent_goals_last_match                                       -0.042112   \naway_team_opponent_goals_last_match                                       -0.052881   \nhome_team_opponent_avg_goals_last_30_days                                 -0.082218   \naway_team_opponent_avg_goals_last_30_days                                 -0.056824   \nhome_team_avg_rating_last_10_matches                                      -0.056293   \naway_team_avg_rating_last_10_matches                                      -0.091985   \nhome_team_rating_last_match                                               -0.073108   \naway_team_rating_last_match                                               -0.058573   \nhome_team_avg_rating_last_30_days                                         -0.046032   \naway_team_avg_rating_last_30_days                                         -0.097305   \nhome_team_opponent_avg_rating_last_10_matches                             -0.185875   \naway_team_opponent_avg_rating_last_10_matches                             -0.154382   \nhome_team_opponent_rating_last_match                                      -0.117397   \naway_team_opponent_rating_last_match                                      -0.133202   \nhome_team_opponent_avg_rating_last_30_days                                -0.174880   \naway_team_opponent_avg_rating_last_30_days                                -0.130666   \nhome_team_leagues_last_10_matches                                          0.071611   \naway_team_leagues_last_10_matches                                          0.012293   \nhome_team_same_league                                                      0.024239   \naway_team_same_league                                                      0.090416   \nhome_team_leagues_last_30_days                                             0.357175   \naway_team_leagues_last_30_days                                             0.192037   \ndow_match                                                                 -0.030159   \nweek_match                                                                 0.063675   \nmonth_match                                                                0.060930   \nyear_match                                                                 0.018368   \n\n                                               away_team_total_matches_last_30_days  \\\nis_cup                                                                    -0.001086   \nhome_team_days_from_last_match                                            -0.342214   \naway_team_days_from_last_match                                            -0.435757   \nhome_team_total_matches_last_30_days                                       0.775496   \naway_team_total_matches_last_30_days                                       1.000000   \nhome_team_matches_play_home_last_30_days                                   0.640519   \naway_team_matches_play_home_last_30_days                                   0.866916   \nhome_team_matches_cup_comp_last_10_matches                                 0.015229   \naway_team_matches_cup_comp_last_10_matches                                 0.071424   \nhome_team_matches_cup_comp_last_30_days                                    0.182939   \naway_team_matches_cup_comp_last_30_days                                    0.318108   \nhome_team_is_last_match_cup                                               -0.030011   \naway_team_is_last_match_cup                                                0.006919   \nhome_team_avg_goals_last_10_matches                                       -0.048816   \naway_team_avg_goals_last_10_matches                                       -0.005739   \nhome_team_goals_last_match                                                -0.033533   \naway_team_goals_last_match                                                 0.013087   \nhome_team_avg_goals_last_30_days                                          -0.030449   \naway_team_avg_goals_last_30_days                                           0.000758   \nhome_team_opponent_avg_goals_last_10_matches                              -0.080736   \naway_team_opponent_avg_goals_last_10_matches                              -0.119904   \nhome_team_opponent_goals_last_match                                       -0.032248   \naway_team_opponent_goals_last_match                                       -0.072752   \nhome_team_opponent_avg_goals_last_30_days                                 -0.061576   \naway_team_opponent_avg_goals_last_30_days                                 -0.083128   \nhome_team_avg_rating_last_10_matches                                      -0.100074   \naway_team_avg_rating_last_10_matches                                      -0.041596   \nhome_team_rating_last_match                                               -0.101423   \naway_team_rating_last_match                                               -0.020689   \nhome_team_avg_rating_last_30_days                                         -0.089632   \naway_team_avg_rating_last_30_days                                         -0.053063   \nhome_team_opponent_avg_rating_last_10_matches                             -0.147355   \naway_team_opponent_avg_rating_last_10_matches                             -0.198818   \nhome_team_opponent_rating_last_match                                      -0.093326   \naway_team_opponent_rating_last_match                                      -0.166349   \nhome_team_opponent_avg_rating_last_30_days                                -0.143742   \naway_team_opponent_avg_rating_last_30_days                                -0.165150   \nhome_team_leagues_last_10_matches                                          0.009760   \naway_team_leagues_last_10_matches                                          0.082000   \nhome_team_same_league                                                      0.070133   \naway_team_same_league                                                      0.022329   \nhome_team_leagues_last_30_days                                             0.197270   \naway_team_leagues_last_30_days                                             0.361893   \ndow_match                                                                 -0.033505   \nweek_match                                                                 0.063433   \nmonth_match                                                                0.060901   \nyear_match                                                                 0.016633   \n\n                                               home_team_matches_play_home_last_30_days  \\\nis_cup                                                                         0.008184   \nhome_team_days_from_last_match                                                -0.341279   \naway_team_days_from_last_match                                                -0.278425   \nhome_team_total_matches_last_30_days                                           0.840558   \naway_team_total_matches_last_30_days                                           0.640519   \nhome_team_matches_play_home_last_30_days                                       1.000000   \naway_team_matches_play_home_last_30_days                                       0.534934   \nhome_team_matches_cup_comp_last_10_matches                                     0.065925   \naway_team_matches_cup_comp_last_10_matches                                     0.012413   \nhome_team_matches_cup_comp_last_30_days                                        0.271548   \naway_team_matches_cup_comp_last_30_days                                        0.149916   \nhome_team_is_last_match_cup                                                    0.014343   \naway_team_is_last_match_cup                                                   -0.033367   \nhome_team_avg_goals_last_10_matches                                            0.012670   \naway_team_avg_goals_last_10_matches                                           -0.031822   \nhome_team_goals_last_match                                                     0.015816   \naway_team_goals_last_match                                                    -0.007193   \nhome_team_avg_goals_last_30_days                                               0.036337   \naway_team_avg_goals_last_30_days                                              -0.019033   \nhome_team_opponent_avg_goals_last_10_matches                                  -0.108413   \naway_team_opponent_avg_goals_last_10_matches                                  -0.065118   \nhome_team_opponent_goals_last_match                                           -0.059440   \naway_team_opponent_goals_last_match                                           -0.038559   \nhome_team_opponent_avg_goals_last_30_days                                     -0.098549   \naway_team_opponent_avg_goals_last_30_days                                     -0.041896   \nhome_team_avg_rating_last_10_matches                                          -0.015499   \naway_team_avg_rating_last_10_matches                                          -0.073143   \nhome_team_rating_last_match                                                    0.002874   \naway_team_rating_last_match                                                   -0.050807   \nhome_team_avg_rating_last_30_days                                              0.030715   \naway_team_avg_rating_last_30_days                                             -0.078867   \nhome_team_opponent_avg_rating_last_10_matches                                 -0.175079   \naway_team_opponent_avg_rating_last_10_matches                                 -0.122422   \nhome_team_opponent_rating_last_match                                          -0.148318   \naway_team_opponent_rating_last_match                                          -0.098468   \nhome_team_opponent_avg_rating_last_30_days                                    -0.200030   \naway_team_opponent_avg_rating_last_30_days                                    -0.098830   \nhome_team_leagues_last_10_matches                                              0.067594   \naway_team_leagues_last_10_matches                                              0.009660   \nhome_team_same_league                                                         -0.010804   \naway_team_same_league                                                          0.050236   \nhome_team_leagues_last_30_days                                                 0.299791   \naway_team_leagues_last_30_days                                                 0.150513   \ndow_match                                                                     -0.028746   \nweek_match                                                                     0.044225   \nmonth_match                                                                    0.041464   \nyear_match                                                                     0.019377   \n\n                                               away_team_matches_play_home_last_30_days  \\\nis_cup                                                                        -0.018484   \nhome_team_days_from_last_match                                                -0.307836   \naway_team_days_from_last_match                                                -0.394877   \nhome_team_total_matches_last_30_days                                           0.666905   \naway_team_total_matches_last_30_days                                           0.866916   \nhome_team_matches_play_home_last_30_days                                       0.534934   \naway_team_matches_play_home_last_30_days                                       1.000000   \nhome_team_matches_cup_comp_last_10_matches                                     0.009216   \naway_team_matches_cup_comp_last_10_matches                                     0.058255   \nhome_team_matches_cup_comp_last_30_days                                        0.152755   \naway_team_matches_cup_comp_last_30_days                                        0.269608   \nhome_team_is_last_match_cup                                                   -0.028028   \naway_team_is_last_match_cup                                                    0.001446   \nhome_team_avg_goals_last_10_matches                                           -0.046013   \naway_team_avg_goals_last_10_matches                                            0.007849   \nhome_team_goals_last_match                                                    -0.034512   \naway_team_goals_last_match                                                     0.031016   \nhome_team_avg_goals_last_30_days                                              -0.031402   \naway_team_avg_goals_last_30_days                                               0.028419   \nhome_team_opponent_avg_goals_last_10_matches                                  -0.071230   \naway_team_opponent_avg_goals_last_10_matches                                  -0.120038   \nhome_team_opponent_goals_last_match                                           -0.025564   \naway_team_opponent_goals_last_match                                           -0.087636   \nhome_team_opponent_avg_goals_last_30_days                                     -0.052763   \naway_team_opponent_avg_goals_last_30_days                                     -0.102067   \nhome_team_avg_rating_last_10_matches                                          -0.090877   \naway_team_avg_rating_last_10_matches                                          -0.018739   \nhome_team_rating_last_match                                                   -0.099406   \naway_team_rating_last_match                                                    0.025728   \nhome_team_avg_rating_last_30_days                                             -0.086108   \naway_team_avg_rating_last_30_days                                              0.001367   \nhome_team_opponent_avg_rating_last_10_matches                                 -0.130307   \naway_team_opponent_avg_rating_last_10_matches                                 -0.196844   \nhome_team_opponent_rating_last_match                                          -0.079772   \naway_team_opponent_rating_last_match                                          -0.197985   \nhome_team_opponent_avg_rating_last_30_days                                    -0.125020   \naway_team_opponent_avg_rating_last_30_days                                    -0.200687   \nhome_team_leagues_last_10_matches                                              0.003653   \naway_team_leagues_last_10_matches                                              0.067038   \nhome_team_same_league                                                          0.083801   \naway_team_same_league                                                          0.047797   \nhome_team_leagues_last_30_days                                                 0.171075   \naway_team_leagues_last_30_days                                                 0.311491   \ndow_match                                                                     -0.024382   \nweek_match                                                                     0.058413   \nmonth_match                                                                    0.056974   \nyear_match                                                                     0.013134   \n\n                                               home_team_matches_cup_comp_last_10_matches  \\\nis_cup                                                                           0.326128   \nhome_team_days_from_last_match                                                   0.005631   \naway_team_days_from_last_match                                                   0.019294   \nhome_team_total_matches_last_30_days                                             0.070776   \naway_team_total_matches_last_30_days                                             0.015229   \nhome_team_matches_play_home_last_30_days                                         0.065925   \naway_team_matches_play_home_last_30_days                                         0.009216   \nhome_team_matches_cup_comp_last_10_matches                                       1.000000   \naway_team_matches_cup_comp_last_10_matches                                       0.607179   \nhome_team_matches_cup_comp_last_30_days                                          0.631482   \naway_team_matches_cup_comp_last_30_days                                          0.396763   \nhome_team_is_last_match_cup                                                      0.490094   \naway_team_is_last_match_cup                                                      0.329738   \nhome_team_avg_goals_last_10_matches                                              0.113704   \naway_team_avg_goals_last_10_matches                                              0.037601   \nhome_team_goals_last_match                                                       0.050704   \naway_team_goals_last_match                                                       0.002817   \nhome_team_avg_goals_last_30_days                                                 0.068970   \naway_team_avg_goals_last_30_days                                                 0.015765   \nhome_team_opponent_avg_goals_last_10_matches                                    -0.077098   \naway_team_opponent_avg_goals_last_10_matches                                    -0.026583   \nhome_team_opponent_goals_last_match                                             -0.039648   \naway_team_opponent_goals_last_match                                             -0.008446   \nhome_team_opponent_avg_goals_last_30_days                                       -0.048939   \naway_team_opponent_avg_goals_last_30_days                                       -0.015184   \nhome_team_avg_rating_last_10_matches                                             0.144639   \naway_team_avg_rating_last_10_matches                                             0.046992   \nhome_team_rating_last_match                                                      0.095239   \naway_team_rating_last_match                                                      0.011590   \nhome_team_avg_rating_last_30_days                                                0.107638   \naway_team_avg_rating_last_30_days                                                0.026203   \nhome_team_opponent_avg_rating_last_10_matches                                   -0.089931   \naway_team_opponent_avg_rating_last_10_matches                                   -0.035279   \nhome_team_opponent_rating_last_match                                            -0.073799   \naway_team_opponent_rating_last_match                                            -0.012692   \nhome_team_opponent_avg_rating_last_30_days                                      -0.073707   \naway_team_opponent_avg_rating_last_30_days                                      -0.025622   \nhome_team_leagues_last_10_matches                                                0.589715   \naway_team_leagues_last_10_matches                                                0.350883   \nhome_team_same_league                                                           -0.283039   \naway_team_same_league                                                           -0.182297   \nhome_team_leagues_last_30_days                                                   0.429307   \naway_team_leagues_last_30_days                                                   0.239366   \ndow_match                                                                       -0.064761   \nweek_match                                                                       0.044867   \nmonth_match                                                                      0.042611   \nyear_match                                                                      -0.056862   \n\n                                               away_team_matches_cup_comp_last_10_matches  \\\nis_cup                                                                           0.327703   \nhome_team_days_from_last_match                                                   0.018810   \naway_team_days_from_last_match                                                   0.009549   \nhome_team_total_matches_last_30_days                                             0.014681   \naway_team_total_matches_last_30_days                                             0.071424   \nhome_team_matches_play_home_last_30_days                                         0.012413   \naway_team_matches_play_home_last_30_days                                         0.058255   \nhome_team_matches_cup_comp_last_10_matches                                       0.607179   \naway_team_matches_cup_comp_last_10_matches                                       1.000000   \nhome_team_matches_cup_comp_last_30_days                                          0.392880   \naway_team_matches_cup_comp_last_30_days                                          0.623870   \nhome_team_is_last_match_cup                                                      0.322441   \naway_team_is_last_match_cup                                                      0.489067   \nhome_team_avg_goals_last_10_matches                                              0.036225   \naway_team_avg_goals_last_10_matches                                              0.106982   \nhome_team_goals_last_match                                                       0.018132   \naway_team_goals_last_match                                                       0.025782   \nhome_team_avg_goals_last_30_days                                                 0.021204   \naway_team_avg_goals_last_30_days                                                 0.057977   \nhome_team_opponent_avg_goals_last_10_matches                                    -0.028286   \naway_team_opponent_avg_goals_last_10_matches                                    -0.071375   \nhome_team_opponent_goals_last_match                                             -0.018207   \naway_team_opponent_goals_last_match                                             -0.023853   \nhome_team_opponent_avg_goals_last_30_days                                       -0.017455   \naway_team_opponent_avg_goals_last_30_days                                       -0.044129   \nhome_team_avg_rating_last_10_matches                                             0.046771   \naway_team_avg_rating_last_10_matches                                             0.134263   \nhome_team_rating_last_match                                                      0.025781   \naway_team_rating_last_match                                                      0.066335   \nhome_team_avg_rating_last_30_days                                                0.024280   \naway_team_avg_rating_last_30_days                                                0.099051   \nhome_team_opponent_avg_rating_last_10_matches                                   -0.039264   \naway_team_opponent_avg_rating_last_10_matches                                   -0.082345   \nhome_team_opponent_rating_last_match                                            -0.033965   \naway_team_opponent_rating_last_match                                            -0.039174   \nhome_team_opponent_avg_rating_last_30_days                                      -0.028416   \naway_team_opponent_avg_rating_last_30_days                                      -0.066519   \nhome_team_leagues_last_10_matches                                                0.349022   \naway_team_leagues_last_10_matches                                                0.586924   \nhome_team_same_league                                                           -0.184902   \naway_team_same_league                                                           -0.274581   \nhome_team_leagues_last_30_days                                                   0.241712   \naway_team_leagues_last_30_days                                                   0.423856   \ndow_match                                                                       -0.062523   \nweek_match                                                                       0.043191   \nmonth_match                                                                      0.040642   \nyear_match                                                                      -0.055466   \n\n                                               home_team_matches_cup_comp_last_30_days  \\\nis_cup                                                                        0.294654   \nhome_team_days_from_last_match                                               -0.104552   \naway_team_days_from_last_match                                               -0.077106   \nhome_team_total_matches_last_30_days                                          0.316787   \naway_team_total_matches_last_30_days                                          0.182939   \nhome_team_matches_play_home_last_30_days                                      0.271548   \naway_team_matches_play_home_last_30_days                                      0.152755   \nhome_team_matches_cup_comp_last_10_matches                                    0.631482   \naway_team_matches_cup_comp_last_10_matches                                    0.392880   \nhome_team_matches_cup_comp_last_30_days                                       1.000000   \naway_team_matches_cup_comp_last_30_days                                       0.594252   \nhome_team_is_last_match_cup                                                   0.554540   \naway_team_is_last_match_cup                                                   0.325591   \nhome_team_avg_goals_last_10_matches                                           0.095884   \naway_team_avg_goals_last_10_matches                                           0.027393   \nhome_team_goals_last_match                                                    0.042133   \naway_team_goals_last_match                                                    0.007820   \nhome_team_avg_goals_last_30_days                                              0.063937   \naway_team_avg_goals_last_30_days                                              0.022386   \nhome_team_opponent_avg_goals_last_10_matches                                 -0.084800   \naway_team_opponent_avg_goals_last_10_matches                                 -0.038495   \nhome_team_opponent_goals_last_match                                          -0.033188   \naway_team_opponent_goals_last_match                                          -0.014959   \nhome_team_opponent_avg_goals_last_30_days                                    -0.048173   \naway_team_opponent_avg_goals_last_30_days                                    -0.021668   \nhome_team_avg_rating_last_10_matches                                          0.103630   \naway_team_avg_rating_last_10_matches                                          0.020877   \nhome_team_rating_last_match                                                   0.069610   \naway_team_rating_last_match                                                   0.003618   \nhome_team_avg_rating_last_30_days                                             0.089109   \naway_team_avg_rating_last_30_days                                             0.017439   \nhome_team_opponent_avg_rating_last_10_matches                                -0.116211   \naway_team_opponent_avg_rating_last_10_matches                                -0.063689   \nhome_team_opponent_rating_last_match                                         -0.073198   \naway_team_opponent_rating_last_match                                         -0.033601   \nhome_team_opponent_avg_rating_last_30_days                                   -0.081223   \naway_team_opponent_avg_rating_last_30_days                                   -0.045421   \nhome_team_leagues_last_10_matches                                             0.417773   \naway_team_leagues_last_10_matches                                             0.268536   \nhome_team_same_league                                                        -0.319993   \naway_team_same_league                                                        -0.163941   \nhome_team_leagues_last_30_days                                                0.690414   \naway_team_leagues_last_30_days                                                0.354807   \ndow_match                                                                    -0.037668   \nweek_match                                                                    0.046312   \nmonth_match                                                                   0.044001   \nyear_match                                                                   -0.049415   \n\n                                               ...  \\\nis_cup                                         ...   \nhome_team_days_from_last_match                 ...   \naway_team_days_from_last_match                 ...   \nhome_team_total_matches_last_30_days           ...   \naway_team_total_matches_last_30_days           ...   \nhome_team_matches_play_home_last_30_days       ...   \naway_team_matches_play_home_last_30_days       ...   \nhome_team_matches_cup_comp_last_10_matches     ...   \naway_team_matches_cup_comp_last_10_matches     ...   \nhome_team_matches_cup_comp_last_30_days        ...   \naway_team_matches_cup_comp_last_30_days        ...   \nhome_team_is_last_match_cup                    ...   \naway_team_is_last_match_cup                    ...   \nhome_team_avg_goals_last_10_matches            ...   \naway_team_avg_goals_last_10_matches            ...   \nhome_team_goals_last_match                     ...   \naway_team_goals_last_match                     ...   \nhome_team_avg_goals_last_30_days               ...   \naway_team_avg_goals_last_30_days               ...   \nhome_team_opponent_avg_goals_last_10_matches   ...   \naway_team_opponent_avg_goals_last_10_matches   ...   \nhome_team_opponent_goals_last_match            ...   \naway_team_opponent_goals_last_match            ...   \nhome_team_opponent_avg_goals_last_30_days      ...   \naway_team_opponent_avg_goals_last_30_days      ...   \nhome_team_avg_rating_last_10_matches           ...   \naway_team_avg_rating_last_10_matches           ...   \nhome_team_rating_last_match                    ...   \naway_team_rating_last_match                    ...   \nhome_team_avg_rating_last_30_days              ...   \naway_team_avg_rating_last_30_days              ...   \nhome_team_opponent_avg_rating_last_10_matches  ...   \naway_team_opponent_avg_rating_last_10_matches  ...   \nhome_team_opponent_rating_last_match           ...   \naway_team_opponent_rating_last_match           ...   \nhome_team_opponent_avg_rating_last_30_days     ...   \naway_team_opponent_avg_rating_last_30_days     ...   \nhome_team_leagues_last_10_matches              ...   \naway_team_leagues_last_10_matches              ...   \nhome_team_same_league                          ...   \naway_team_same_league                          ...   \nhome_team_leagues_last_30_days                 ...   \naway_team_leagues_last_30_days                 ...   \ndow_match                                      ...   \nweek_match                                     ...   \nmonth_match                                    ...   \nyear_match                                     ...   \n\n                                               home_team_leagues_last_10_matches  \\\nis_cup                                                                  0.187869   \nhome_team_days_from_last_match                                         -0.069139   \naway_team_days_from_last_match                                         -0.009258   \nhome_team_total_matches_last_30_days                                    0.071611   \naway_team_total_matches_last_30_days                                    0.009760   \nhome_team_matches_play_home_last_30_days                                0.067594   \naway_team_matches_play_home_last_30_days                                0.003653   \nhome_team_matches_cup_comp_last_10_matches                              0.589715   \naway_team_matches_cup_comp_last_10_matches                              0.349022   \nhome_team_matches_cup_comp_last_30_days                                 0.417773   \naway_team_matches_cup_comp_last_30_days                                 0.271912   \nhome_team_is_last_match_cup                                             0.291452   \naway_team_is_last_match_cup                                             0.199048   \nhome_team_avg_goals_last_10_matches                                     0.122300   \naway_team_avg_goals_last_10_matches                                     0.050473   \nhome_team_goals_last_match                                              0.059148   \naway_team_goals_last_match                                              0.011958   \nhome_team_avg_goals_last_30_days                                        0.081575   \naway_team_avg_goals_last_30_days                                        0.027562   \nhome_team_opponent_avg_goals_last_10_matches                           -0.057212   \naway_team_opponent_avg_goals_last_10_matches                           -0.007927   \nhome_team_opponent_goals_last_match                                    -0.039695   \naway_team_opponent_goals_last_match                                    -0.002926   \nhome_team_opponent_avg_goals_last_30_days                              -0.046167   \naway_team_opponent_avg_goals_last_30_days                              -0.004708   \nhome_team_avg_rating_last_10_matches                                    0.166080   \naway_team_avg_rating_last_10_matches                                    0.056127   \nhome_team_rating_last_match                                             0.116318   \naway_team_rating_last_match                                             0.019830   \nhome_team_avg_rating_last_30_days                                       0.139752   \naway_team_avg_rating_last_30_days                                       0.039433   \nhome_team_opponent_avg_rating_last_10_matches                          -0.081065   \naway_team_opponent_avg_rating_last_10_matches                          -0.017728   \nhome_team_opponent_rating_last_match                                   -0.077866   \naway_team_opponent_rating_last_match                                   -0.009657   \nhome_team_opponent_avg_rating_last_30_days                             -0.071528   \naway_team_opponent_avg_rating_last_30_days                             -0.014502   \nhome_team_leagues_last_10_matches                                       1.000000   \naway_team_leagues_last_10_matches                                       0.522552   \nhome_team_same_league                                                  -0.297429   \naway_team_same_league                                                  -0.228408   \nhome_team_leagues_last_30_days                                          0.529878   \naway_team_leagues_last_30_days                                          0.326884   \ndow_match                                                              -0.022801   \nweek_match                                                              0.073022   \nmonth_match                                                             0.070832   \nyear_match                                                             -0.083730   \n\n                                               away_team_leagues_last_10_matches  \\\nis_cup                                                                  0.191700   \nhome_team_days_from_last_match                                         -0.021504   \naway_team_days_from_last_match                                         -0.073830   \nhome_team_total_matches_last_30_days                                    0.012293   \naway_team_total_matches_last_30_days                                    0.082000   \nhome_team_matches_play_home_last_30_days                                0.009660   \naway_team_matches_play_home_last_30_days                                0.067038   \nhome_team_matches_cup_comp_last_10_matches                              0.350883   \naway_team_matches_cup_comp_last_10_matches                              0.586924   \nhome_team_matches_cup_comp_last_30_days                                 0.268536   \naway_team_matches_cup_comp_last_30_days                                 0.418706   \nhome_team_is_last_match_cup                                             0.193472   \naway_team_is_last_match_cup                                             0.287694   \nhome_team_avg_goals_last_10_matches                                     0.048301   \naway_team_avg_goals_last_10_matches                                     0.117889   \nhome_team_goals_last_match                                              0.022792   \naway_team_goals_last_match                                              0.047108   \nhome_team_avg_goals_last_30_days                                        0.028442   \naway_team_avg_goals_last_30_days                                        0.079515   \nhome_team_opponent_avg_goals_last_10_matches                           -0.013851   \naway_team_opponent_avg_goals_last_10_matches                           -0.054748   \nhome_team_opponent_goals_last_match                                    -0.012854   \naway_team_opponent_goals_last_match                                    -0.028303   \nhome_team_opponent_avg_goals_last_30_days                              -0.010078   \naway_team_opponent_avg_goals_last_30_days                              -0.043360   \nhome_team_avg_rating_last_10_matches                                    0.056359   \naway_team_avg_rating_last_10_matches                                    0.159712   \nhome_team_rating_last_match                                             0.031407   \naway_team_rating_last_match                                             0.098027   \nhome_team_avg_rating_last_30_days                                       0.035366   \naway_team_avg_rating_last_30_days                                       0.135428   \nhome_team_opponent_avg_rating_last_10_matches                          -0.022460   \naway_team_opponent_avg_rating_last_10_matches                          -0.080331   \nhome_team_opponent_rating_last_match                                   -0.024895   \naway_team_opponent_rating_last_match                                   -0.055951   \nhome_team_opponent_avg_rating_last_30_days                             -0.015887   \naway_team_opponent_avg_rating_last_30_days                             -0.070768   \nhome_team_leagues_last_10_matches                                       0.522552   \naway_team_leagues_last_10_matches                                       1.000000   \nhome_team_same_league                                                  -0.221682   \naway_team_same_league                                                  -0.290837   \nhome_team_leagues_last_30_days                                          0.327714   \naway_team_leagues_last_30_days                                          0.530850   \ndow_match                                                              -0.026177   \nweek_match                                                              0.069965   \nmonth_match                                                             0.067203   \nyear_match                                                             -0.079290   \n\n                                               home_team_same_league  \\\nis_cup                                                     -0.466487   \nhome_team_days_from_last_match                             -0.138445   \naway_team_days_from_last_match                             -0.138838   \nhome_team_total_matches_last_30_days                        0.024239   \naway_team_total_matches_last_30_days                        0.070133   \nhome_team_matches_play_home_last_30_days                   -0.010804   \naway_team_matches_play_home_last_30_days                    0.083801   \nhome_team_matches_cup_comp_last_10_matches                 -0.283039   \naway_team_matches_cup_comp_last_10_matches                 -0.184902   \nhome_team_matches_cup_comp_last_30_days                    -0.319993   \naway_team_matches_cup_comp_last_30_days                    -0.171811   \nhome_team_is_last_match_cup                                -0.475677   \naway_team_is_last_match_cup                                -0.207394   \nhome_team_avg_goals_last_10_matches                        -0.096526   \naway_team_avg_goals_last_10_matches                        -0.046739   \nhome_team_goals_last_match                                 -0.054501   \naway_team_goals_last_match                                 -0.014568   \nhome_team_avg_goals_last_30_days                           -0.063523   \naway_team_avg_goals_last_30_days                           -0.031617   \nhome_team_opponent_avg_goals_last_10_matches                0.053379   \naway_team_opponent_avg_goals_last_10_matches                0.016920   \nhome_team_opponent_goals_last_match                         0.008831   \naway_team_opponent_goals_last_match                        -0.013563   \nhome_team_opponent_avg_goals_last_30_days                   0.012500   \naway_team_opponent_avg_goals_last_30_days                  -0.007850   \nhome_team_avg_rating_last_10_matches                       -0.111692   \naway_team_avg_rating_last_10_matches                       -0.047890   \nhome_team_rating_last_match                                -0.117741   \naway_team_rating_last_match                                -0.027607   \nhome_team_avg_rating_last_30_days                          -0.097219   \naway_team_avg_rating_last_30_days                          -0.047910   \nhome_team_opponent_avg_rating_last_10_matches               0.065432   \naway_team_opponent_avg_rating_last_10_matches               0.023379   \nhome_team_opponent_rating_last_match                        0.031994   \naway_team_opponent_rating_last_match                       -0.019979   \nhome_team_opponent_avg_rating_last_30_days                  0.027131   \naway_team_opponent_avg_rating_last_30_days                 -0.000984   \nhome_team_leagues_last_10_matches                          -0.297429   \naway_team_leagues_last_10_matches                          -0.221682   \nhome_team_same_league                                       1.000000   \naway_team_same_league                                       0.604701   \nhome_team_leagues_last_30_days                             -0.333064   \naway_team_leagues_last_30_days                             -0.191707   \ndow_match                                                   0.067617   \nweek_match                                                 -0.011324   \nmonth_match                                                -0.012277   \nyear_match                                                  0.048084   \n\n                                               away_team_same_league  \\\nis_cup                                                     -0.461241   \nhome_team_days_from_last_match                             -0.143697   \naway_team_days_from_last_match                             -0.149823   \nhome_team_total_matches_last_30_days                        0.090416   \naway_team_total_matches_last_30_days                        0.022329   \nhome_team_matches_play_home_last_30_days                    0.050236   \naway_team_matches_play_home_last_30_days                    0.047797   \nhome_team_matches_cup_comp_last_10_matches                 -0.182297   \naway_team_matches_cup_comp_last_10_matches                 -0.274581   \nhome_team_matches_cup_comp_last_30_days                    -0.163941   \naway_team_matches_cup_comp_last_30_days                    -0.314300   \nhome_team_is_last_match_cup                                -0.202247   \naway_team_is_last_match_cup                                -0.468834   \nhome_team_avg_goals_last_10_matches                        -0.063512   \naway_team_avg_goals_last_10_matches                        -0.079384   \nhome_team_goals_last_match                                 -0.049465   \naway_team_goals_last_match                                 -0.011715   \nhome_team_avg_goals_last_30_days                           -0.051176   \naway_team_avg_goals_last_30_days                           -0.040996   \nhome_team_opponent_avg_goals_last_10_matches                0.026700   \naway_team_opponent_avg_goals_last_10_matches                0.040660   \nhome_team_opponent_goals_last_match                         0.014274   \naway_team_opponent_goals_last_match                        -0.026420   \nhome_team_opponent_avg_goals_last_30_days                   0.004538   \naway_team_opponent_avg_goals_last_30_days                  -0.000956   \nhome_team_avg_rating_last_10_matches                       -0.068150   \naway_team_avg_rating_last_10_matches                       -0.090833   \nhome_team_rating_last_match                                -0.095638   \naway_team_rating_last_match                                -0.036407   \nhome_team_avg_rating_last_30_days                          -0.074014   \naway_team_avg_rating_last_30_days                          -0.073495   \nhome_team_opponent_avg_rating_last_10_matches               0.034689   \naway_team_opponent_avg_rating_last_10_matches               0.052403   \nhome_team_opponent_rating_last_match                        0.036620   \naway_team_opponent_rating_last_match                       -0.046341   \nhome_team_opponent_avg_rating_last_30_days                  0.013317   \naway_team_opponent_avg_rating_last_30_days                  0.005045   \nhome_team_leagues_last_10_matches                          -0.228408   \naway_team_leagues_last_10_matches                          -0.290837   \nhome_team_same_league                                       0.604701   \naway_team_same_league                                       1.000000   \nhome_team_leagues_last_30_days                             -0.183210   \naway_team_leagues_last_30_days                             -0.332030   \ndow_match                                                   0.067264   \nweek_match                                                 -0.009095   \nmonth_match                                                -0.009676   \nyear_match                                                  0.046373   \n\n                                               home_team_leagues_last_30_days  \\\nis_cup                                                               0.146791   \nhome_team_days_from_last_match                                      -0.120900   \naway_team_days_from_last_match                                      -0.098922   \nhome_team_total_matches_last_30_days                                 0.357175   \naway_team_total_matches_last_30_days                                 0.197270   \nhome_team_matches_play_home_last_30_days                             0.299791   \naway_team_matches_play_home_last_30_days                             0.171075   \nhome_team_matches_cup_comp_last_10_matches                           0.429307   \naway_team_matches_cup_comp_last_10_matches                           0.241712   \nhome_team_matches_cup_comp_last_30_days                              0.690414   \naway_team_matches_cup_comp_last_30_days                              0.362180   \nhome_team_is_last_match_cup                                          0.338508   \naway_team_is_last_match_cup                                          0.170336   \nhome_team_avg_goals_last_10_matches                                  0.098522   \naway_team_avg_goals_last_10_matches                                  0.029211   \nhome_team_goals_last_match                                           0.040143   \naway_team_goals_last_match                                           0.007378   \nhome_team_avg_goals_last_30_days                                     0.059797   \naway_team_avg_goals_last_30_days                                     0.020881   \nhome_team_opponent_avg_goals_last_10_matches                        -0.085540   \naway_team_opponent_avg_goals_last_10_matches                        -0.035452   \nhome_team_opponent_goals_last_match                                 -0.038134   \naway_team_opponent_goals_last_match                                 -0.017757   \nhome_team_opponent_avg_goals_last_30_days                           -0.045646   \naway_team_opponent_avg_goals_last_30_days                           -0.022531   \nhome_team_avg_rating_last_10_matches                                 0.105072   \naway_team_avg_rating_last_10_matches                                 0.021388   \nhome_team_rating_last_match                                          0.066546   \naway_team_rating_last_match                                         -0.000082   \nhome_team_avg_rating_last_30_days                                    0.090729   \naway_team_avg_rating_last_30_days                                    0.015119   \nhome_team_opponent_avg_rating_last_10_matches                       -0.123791   \naway_team_opponent_avg_rating_last_10_matches                       -0.067684   \nhome_team_opponent_rating_last_match                                -0.089373   \naway_team_opponent_rating_last_match                                -0.047071   \nhome_team_opponent_avg_rating_last_30_days                          -0.088490   \naway_team_opponent_avg_rating_last_30_days                          -0.052624   \nhome_team_leagues_last_10_matches                                    0.529878   \naway_team_leagues_last_10_matches                                    0.327714   \nhome_team_same_league                                               -0.333064   \naway_team_same_league                                               -0.183210   \nhome_team_leagues_last_30_days                                       1.000000   \naway_team_leagues_last_30_days                                       0.495386   \ndow_match                                                           -0.023625   \nweek_match                                                           0.042577   \nmonth_match                                                          0.039125   \nyear_match                                                          -0.051278   \n\n                                               away_team_leagues_last_30_days  \\\nis_cup                                                               0.156765   \nhome_team_days_from_last_match                                      -0.096127   \naway_team_days_from_last_match                                      -0.124820   \nhome_team_total_matches_last_30_days                                 0.192037   \naway_team_total_matches_last_30_days                                 0.361893   \nhome_team_matches_play_home_last_30_days                             0.150513   \naway_team_matches_play_home_last_30_days                             0.311491   \nhome_team_matches_cup_comp_last_10_matches                           0.239366   \naway_team_matches_cup_comp_last_10_matches                           0.423856   \nhome_team_matches_cup_comp_last_30_days                              0.354807   \naway_team_matches_cup_comp_last_30_days                              0.689758   \nhome_team_is_last_match_cup                                          0.166536   \naway_team_is_last_match_cup                                          0.328809   \nhome_team_avg_goals_last_10_matches                                  0.027538   \naway_team_avg_goals_last_10_matches                                  0.099918   \nhome_team_goals_last_match                                           0.008044   \naway_team_goals_last_match                                           0.033330   \nhome_team_avg_goals_last_30_days                                     0.017054   \naway_team_avg_goals_last_30_days                                     0.063325   \nhome_team_opponent_avg_goals_last_10_matches                        -0.037357   \naway_team_opponent_avg_goals_last_10_matches                        -0.085925   \nhome_team_opponent_goals_last_match                                 -0.019853   \naway_team_opponent_goals_last_match                                 -0.032650   \nhome_team_opponent_avg_goals_last_30_days                           -0.021566   \naway_team_opponent_avg_goals_last_30_days                           -0.045953   \nhome_team_avg_rating_last_10_matches                                 0.017813   \naway_team_avg_rating_last_10_matches                                 0.109393   \nhome_team_rating_last_match                                          0.003461   \naway_team_rating_last_match                                          0.060916   \nhome_team_avg_rating_last_30_days                                    0.011111   \naway_team_avg_rating_last_30_days                                    0.091285   \nhome_team_opponent_avg_rating_last_10_matches                       -0.069830   \naway_team_opponent_avg_rating_last_10_matches                       -0.126381   \nhome_team_opponent_rating_last_match                                -0.050798   \naway_team_opponent_rating_last_match                                -0.076787   \nhome_team_opponent_avg_rating_last_30_days                          -0.052416   \naway_team_opponent_avg_rating_last_30_days                          -0.086828   \nhome_team_leagues_last_10_matches                                    0.326884   \naway_team_leagues_last_10_matches                                    0.530850   \nhome_team_same_league                                               -0.191707   \naway_team_same_league                                               -0.332030   \nhome_team_leagues_last_30_days                                       0.495386   \naway_team_leagues_last_30_days                                       1.000000   \ndow_match                                                           -0.025001   \nweek_match                                                           0.039837   \nmonth_match                                                          0.035990   \nyear_match                                                          -0.048981   \n\n                                               dow_match  week_match  \\\nis_cup                                         -0.164945    0.015210   \nhome_team_days_from_last_match                  0.015041    0.018648   \naway_team_days_from_last_match                  0.018947    0.017327   \nhome_team_total_matches_last_30_days           -0.030159    0.063675   \naway_team_total_matches_last_30_days           -0.033505    0.063433   \nhome_team_matches_play_home_last_30_days       -0.028746    0.044225   \naway_team_matches_play_home_last_30_days       -0.024382    0.058413   \nhome_team_matches_cup_comp_last_10_matches     -0.064761    0.044867   \naway_team_matches_cup_comp_last_10_matches     -0.062523    0.043191   \nhome_team_matches_cup_comp_last_30_days        -0.037668    0.046312   \naway_team_matches_cup_comp_last_30_days        -0.039211    0.045540   \nhome_team_is_last_match_cup                    -0.005969    0.015936   \naway_team_is_last_match_cup                    -0.005374    0.020036   \nhome_team_avg_goals_last_10_matches            -0.013952    0.058082   \naway_team_avg_goals_last_10_matches            -0.011426    0.055683   \nhome_team_goals_last_match                     -0.007655    0.023837   \naway_team_goals_last_match                      0.000186    0.032393   \nhome_team_avg_goals_last_30_days               -0.006043    0.034846   \naway_team_avg_goals_last_30_days               -0.005748    0.041108   \nhome_team_opponent_avg_goals_last_10_matches    0.006396    0.055195   \naway_team_opponent_avg_goals_last_10_matches    0.013235    0.052709   \nhome_team_opponent_goals_last_match             0.007229    0.026335   \naway_team_opponent_goals_last_match            -0.001254    0.020587   \nhome_team_opponent_avg_goals_last_30_days       0.004417    0.034819   \naway_team_opponent_avg_goals_last_30_days       0.003793    0.029519   \nhome_team_avg_rating_last_10_matches           -0.011960    0.073407   \naway_team_avg_rating_last_10_matches           -0.012855    0.070960   \nhome_team_rating_last_match                    -0.019559    0.045963   \naway_team_rating_last_match                     0.004001    0.047602   \nhome_team_avg_rating_last_30_days              -0.010840    0.053417   \naway_team_avg_rating_last_30_days              -0.006778    0.054200   \nhome_team_opponent_avg_rating_last_10_matches   0.012025    0.070902   \naway_team_opponent_avg_rating_last_10_matches   0.016522    0.069279   \nhome_team_opponent_rating_last_match            0.020684    0.042969   \naway_team_opponent_rating_last_match            0.005617    0.042374   \nhome_team_opponent_avg_rating_last_30_days      0.010253    0.050687   \naway_team_opponent_avg_rating_last_30_days      0.013069    0.047556   \nhome_team_leagues_last_10_matches              -0.022801    0.073022   \naway_team_leagues_last_10_matches              -0.026177    0.069965   \nhome_team_same_league                           0.067617   -0.011324   \naway_team_same_league                           0.067264   -0.009095   \nhome_team_leagues_last_30_days                 -0.023625    0.042577   \naway_team_leagues_last_30_days                 -0.025001    0.039837   \ndow_match                                       1.000000   -0.015382   \nweek_match                                     -0.015382    1.000000   \nmonth_match                                    -0.013279    0.976720   \nyear_match                                     -0.036118   -0.615131   \n\n                                               month_match  year_match  \nis_cup                                            0.015203   -0.024900  \nhome_team_days_from_last_match                    0.019379   -0.012922  \naway_team_days_from_last_match                    0.018271   -0.007095  \nhome_team_total_matches_last_30_days              0.060930    0.018368  \naway_team_total_matches_last_30_days              0.060901    0.016633  \nhome_team_matches_play_home_last_30_days          0.041464    0.019377  \naway_team_matches_play_home_last_30_days          0.056974    0.013134  \nhome_team_matches_cup_comp_last_10_matches        0.042611   -0.056862  \naway_team_matches_cup_comp_last_10_matches        0.040642   -0.055466  \nhome_team_matches_cup_comp_last_30_days           0.044001   -0.049415  \naway_team_matches_cup_comp_last_30_days           0.042849   -0.048651  \nhome_team_is_last_match_cup                       0.017129   -0.028509  \naway_team_is_last_match_cup                       0.020060   -0.033452  \nhome_team_avg_goals_last_10_matches               0.058651   -0.074562  \naway_team_avg_goals_last_10_matches               0.056476   -0.070478  \nhome_team_goals_last_match                        0.024086   -0.032683  \naway_team_goals_last_match                        0.033315   -0.039332  \nhome_team_avg_goals_last_30_days                  0.035491   -0.051042  \naway_team_avg_goals_last_30_days                  0.041381   -0.055046  \nhome_team_opponent_avg_goals_last_10_matches      0.057607   -0.070201  \naway_team_opponent_avg_goals_last_10_matches      0.054308   -0.068798  \nhome_team_opponent_goals_last_match               0.027181   -0.035152  \naway_team_opponent_goals_last_match               0.021013   -0.031301  \nhome_team_opponent_avg_goals_last_30_days         0.035607   -0.048832  \naway_team_opponent_avg_goals_last_30_days         0.030802   -0.045229  \nhome_team_avg_rating_last_10_matches              0.074588   -0.079863  \naway_team_avg_rating_last_10_matches              0.072746   -0.079672  \nhome_team_rating_last_match                       0.046485   -0.057617  \naway_team_rating_last_match                       0.049527   -0.069903  \nhome_team_avg_rating_last_30_days                 0.054740   -0.072942  \naway_team_avg_rating_last_30_days                 0.055790   -0.077722  \nhome_team_opponent_avg_rating_last_10_matches     0.073730   -0.077837  \naway_team_opponent_avg_rating_last_10_matches     0.071361   -0.077594  \nhome_team_opponent_rating_last_match              0.045705   -0.066268  \naway_team_opponent_rating_last_match              0.043699   -0.054144  \nhome_team_opponent_avg_rating_last_30_days        0.052678   -0.071818  \naway_team_opponent_avg_rating_last_30_days        0.049467   -0.066255  \nhome_team_leagues_last_10_matches                 0.070832   -0.083730  \naway_team_leagues_last_10_matches                 0.067203   -0.079290  \nhome_team_same_league                            -0.012277    0.048084  \naway_team_same_league                            -0.009676    0.046373  \nhome_team_leagues_last_30_days                    0.039125   -0.051278  \naway_team_leagues_last_30_days                    0.035990   -0.048981  \ndow_match                                        -0.013279   -0.036118  \nweek_match                                        0.976720   -0.615131  \nmonth_match                                       1.000000   -0.632430  \nyear_match                                       -0.632430    1.000000  \n\n[47 rows x 47 columns]",
      "text/html": "<div>\n<style scoped>\n    .dataframe tbody tr th:only-of-type {\n        vertical-align: middle;\n    }\n\n    .dataframe tbody tr th {\n        vertical-align: top;\n    }\n\n    .dataframe thead th {\n        text-align: right;\n    }\n</style>\n<table border=\"1\" class=\"dataframe\">\n  <thead>\n    <tr style=\"text-align: right;\">\n      <th></th>\n      <th>is_cup</th>\n      <th>home_team_days_from_last_match</th>\n      <th>away_team_days_from_last_match</th>\n      <th>home_team_total_matches_last_30_days</th>\n      <th>away_team_total_matches_last_30_days</th>\n      <th>home_team_matches_play_home_last_30_days</th>\n      <th>away_team_matches_play_home_last_30_days</th>\n      <th>home_team_matches_cup_comp_last_10_matches</th>\n      <th>away_team_matches_cup_comp_last_10_matches</th>\n      <th>home_team_matches_cup_comp_last_30_days</th>\n      <th>...</th>\n      <th>home_team_leagues_last_10_matches</th>\n      <th>away_team_leagues_last_10_matches</th>\n      <th>home_team_same_league</th>\n      <th>away_team_same_league</th>\n      <th>home_team_leagues_last_30_days</th>\n      <th>away_team_leagues_last_30_days</th>\n      <th>dow_match</th>\n      <th>week_match</th>\n      <th>month_match</th>\n      <th>year_match</th>\n    </tr>\n  </thead>\n  <tbody>\n    <tr>\n      <th>is_cup</th>\n      <td>1.000000</td>\n      <td>0.045608</td>\n      <td>0.036576</td>\n      <td>-0.018133</td>\n      <td>-0.001086</td>\n      <td>0.008184</td>\n      <td>-0.018484</td>\n      <td>0.326128</td>\n      <td>0.327703</td>\n      <td>0.294654</td>\n      <td>...</td>\n      <td>0.187869</td>\n      <td>0.191700</td>\n      <td>-0.466487</td>\n      <td>-0.461241</td>\n      <td>0.146791</td>\n      <td>0.156765</td>\n      <td>-0.164945</td>\n      <td>0.015210</td>\n      <td>0.015203</td>\n      <td>-0.024900</td>\n    </tr>\n    <tr>\n      <th>home_team_days_from_last_match</th>\n      <td>0.045608</td>\n      <td>1.000000</td>\n      <td>0.550633</td>\n      <td>-0.426922</td>\n      <td>-0.342214</td>\n      <td>-0.341279</td>\n      <td>-0.307836</td>\n      <td>0.005631</td>\n      <td>0.018810</td>\n      <td>-0.104552</td>\n      <td>...</td>\n      <td>-0.069139</td>\n      <td>-0.021504</td>\n      <td>-0.138445</td>\n      <td>-0.143697</td>\n      <td>-0.120900</td>\n      <td>-0.096127</td>\n      <td>0.015041</td>\n      <td>0.018648</td>\n      <td>0.019379</td>\n      <td>-0.012922</td>\n    </tr>\n    <tr>\n      <th>away_team_days_from_last_match</th>\n      <td>0.036576</td>\n      <td>0.550633</td>\n      <td>1.000000</td>\n      <td>-0.350588</td>\n      <td>-0.435757</td>\n      <td>-0.278425</td>\n      <td>-0.394877</td>\n      <td>0.019294</td>\n      <td>0.009549</td>\n      <td>-0.077106</td>\n      <td>...</td>\n      <td>-0.009258</td>\n      <td>-0.073830</td>\n      <td>-0.138838</td>\n      <td>-0.149823</td>\n      <td>-0.098922</td>\n      <td>-0.124820</td>\n      <td>0.018947</td>\n      <td>0.017327</td>\n      <td>0.018271</td>\n      <td>-0.007095</td>\n    </tr>\n    <tr>\n      <th>home_team_total_matches_last_30_days</th>\n      <td>-0.018133</td>\n      <td>-0.426922</td>\n      <td>-0.350588</td>\n      <td>1.000000</td>\n      <td>0.775496</td>\n      <td>0.840558</td>\n      <td>0.666905</td>\n      <td>0.070776</td>\n      <td>0.014681</td>\n      <td>0.316787</td>\n      <td>...</td>\n      <td>0.071611</td>\n      <td>0.012293</td>\n      <td>0.024239</td>\n      <td>0.090416</td>\n      <td>0.357175</td>\n      <td>0.192037</td>\n      <td>-0.030159</td>\n      <td>0.063675</td>\n      <td>0.060930</td>\n      <td>0.018368</td>\n    </tr>\n    <tr>\n      <th>away_team_total_matches_last_30_days</th>\n      <td>-0.001086</td>\n      <td>-0.342214</td>\n      <td>-0.435757</td>\n      <td>0.775496</td>\n      <td>1.000000</td>\n      <td>0.640519</td>\n      <td>0.866916</td>\n      <td>0.015229</td>\n      <td>0.071424</td>\n      <td>0.182939</td>\n      <td>...</td>\n      <td>0.009760</td>\n      <td>0.082000</td>\n      <td>0.070133</td>\n      <td>0.022329</td>\n      <td>0.197270</td>\n      <td>0.361893</td>\n      <td>-0.033505</td>\n      <td>0.063433</td>\n      <td>0.060901</td>\n      <td>0.016633</td>\n    </tr>\n    <tr>\n      <th>home_team_matches_play_home_last_30_days</th>\n      <td>0.008184</td>\n      <td>-0.341279</td>\n      <td>-0.278425</td>\n      <td>0.840558</td>\n      <td>0.640519</td>\n      <td>1.000000</td>\n      <td>0.534934</td>\n      <td>0.065925</td>\n      <td>0.012413</td>\n      <td>0.271548</td>\n      <td>...</td>\n      <td>0.067594</td>\n      <td>0.009660</td>\n      <td>-0.010804</td>\n      <td>0.050236</td>\n      <td>0.299791</td>\n      <td>0.150513</td>\n      <td>-0.028746</td>\n      <td>0.044225</td>\n      <td>0.041464</td>\n      <td>0.019377</td>\n    </tr>\n    <tr>\n      <th>away_team_matches_play_home_last_30_days</th>\n      <td>-0.018484</td>\n      <td>-0.307836</td>\n      <td>-0.394877</td>\n      <td>0.666905</td>\n      <td>0.866916</td>\n      <td>0.534934</td>\n      <td>1.000000</td>\n      <td>0.009216</td>\n      <td>0.058255</td>\n      <td>0.152755</td>\n      <td>...</td>\n      <td>0.003653</td>\n      <td>0.067038</td>\n      <td>0.083801</td>\n      <td>0.047797</td>\n      <td>0.171075</td>\n      <td>0.311491</td>\n      <td>-0.024382</td>\n      <td>0.058413</td>\n      <td>0.056974</td>\n      <td>0.013134</td>\n    </tr>\n    <tr>\n      <th>home_team_matches_cup_comp_last_10_matches</th>\n      <td>0.326128</td>\n      <td>0.005631</td>\n      <td>0.019294</td>\n      <td>0.070776</td>\n      <td>0.015229</td>\n      <td>0.065925</td>\n      <td>0.009216</td>\n      <td>1.000000</td>\n      <td>0.607179</td>\n      <td>0.631482</td>\n      <td>...</td>\n      <td>0.589715</td>\n      <td>0.350883</td>\n      <td>-0.283039</td>\n      <td>-0.182297</td>\n      <td>0.429307</td>\n      <td>0.239366</td>\n      <td>-0.064761</td>\n      <td>0.044867</td>\n      <td>0.042611</td>\n      <td>-0.056862</td>\n    </tr>\n    <tr>\n      <th>away_team_matches_cup_comp_last_10_matches</th>\n      <td>0.327703</td>\n      <td>0.018810</td>\n      <td>0.009549</td>\n      <td>0.014681</td>\n      <td>0.071424</td>\n      <td>0.012413</td>\n      <td>0.058255</td>\n      <td>0.607179</td>\n      <td>1.000000</td>\n      <td>0.392880</td>\n      <td>...</td>\n      <td>0.349022</td>\n      <td>0.586924</td>\n      <td>-0.184902</td>\n      <td>-0.274581</td>\n      <td>0.241712</td>\n      <td>0.423856</td>\n      <td>-0.062523</td>\n      <td>0.043191</td>\n      <td>0.040642</td>\n      <td>-0.055466</td>\n    </tr>\n    <tr>\n      <th>home_team_matches_cup_comp_last_30_days</th>\n      <td>0.294654</td>\n      <td>-0.104552</td>\n      <td>-0.077106</td>\n      <td>0.316787</td>\n      <td>0.182939</td>\n      <td>0.271548</td>\n      <td>0.152755</td>\n      <td>0.631482</td>\n      <td>0.392880</td>\n      <td>1.000000</td>\n      <td>...</td>\n      <td>0.417773</td>\n      <td>0.268536</td>\n      <td>-0.319993</td>\n      <td>-0.163941</td>\n      <td>0.690414</td>\n      <td>0.354807</td>\n      <td>-0.037668</td>\n      <td>0.046312</td>\n      <td>0.044001</td>\n      <td>-0.049415</td>\n    </tr>\n    <tr>\n      <th>away_team_matches_cup_comp_last_30_days</th>\n      <td>0.303742</td>\n      <td>-0.076893</td>\n      <td>-0.108233</td>\n      <td>0.183107</td>\n      <td>0.318108</td>\n      <td>0.149916</td>\n      <td>0.269608</td>\n      <td>0.396763</td>\n      <td>0.623870</td>\n      <td>0.594252</td>\n      <td>...</td>\n      <td>0.271912</td>\n      <td>0.418706</td>\n      <td>-0.171811</td>\n      <td>-0.314300</td>\n      <td>0.362180</td>\n      <td>0.689758</td>\n      <td>-0.039211</td>\n      <td>0.045540</td>\n      <td>0.042849</td>\n      <td>-0.048651</td>\n    </tr>\n    <tr>\n      <th>home_team_is_last_match_cup</th>\n      <td>0.268456</td>\n      <td>0.042941</td>\n      <td>0.038522</td>\n      <td>0.012342</td>\n      <td>-0.030011</td>\n      <td>0.014343</td>\n      <td>-0.028028</td>\n      <td>0.490094</td>\n      <td>0.322441</td>\n      <td>0.554540</td>\n      <td>...</td>\n      <td>0.291452</td>\n      <td>0.193472</td>\n      <td>-0.475677</td>\n      <td>-0.202247</td>\n      <td>0.338508</td>\n      <td>0.166536</td>\n      <td>-0.005969</td>\n      <td>0.015936</td>\n      <td>0.017129</td>\n      <td>-0.028509</td>\n    </tr>\n    <tr>\n      <th>away_team_is_last_match_cup</th>\n      <td>0.272078</td>\n      <td>0.046193</td>\n      <td>0.046221</td>\n      <td>-0.037052</td>\n      <td>0.006919</td>\n      <td>-0.033367</td>\n      <td>0.001446</td>\n      <td>0.329738</td>\n      <td>0.489067</td>\n      <td>0.325591</td>\n      <td>...</td>\n      <td>0.199048</td>\n      <td>0.287694</td>\n      <td>-0.207394</td>\n      <td>-0.468834</td>\n      <td>0.170336</td>\n      <td>0.328809</td>\n      <td>-0.005374</td>\n      <td>0.020036</td>\n      <td>0.020060</td>\n      <td>-0.033452</td>\n    </tr>\n    <tr>\n      <th>home_team_avg_goals_last_10_matches</th>\n      <td>0.076047</td>\n      <td>0.008466</td>\n      <td>0.021330</td>\n      <td>-0.015628</td>\n      <td>-0.048816</td>\n      <td>0.012670</td>\n      <td>-0.046013</td>\n      <td>0.113704</td>\n      <td>0.036225</td>\n      <td>0.095884</td>\n      <td>...</td>\n      <td>0.122300</td>\n      <td>0.048301</td>\n      <td>-0.096526</td>\n      <td>-0.063512</td>\n      <td>0.098522</td>\n      <td>0.027538</td>\n      <td>-0.013952</td>\n      <td>0.058082</td>\n      <td>0.058651</td>\n      <td>-0.074562</td>\n    </tr>\n    <tr>\n      <th>away_team_avg_goals_last_10_matches</th>\n      <td>0.066445</td>\n      <td>0.018532</td>\n      <td>-0.000880</td>\n      <td>-0.043529</td>\n      <td>-0.005739</td>\n      <td>-0.031822</td>\n      <td>0.007849</td>\n      <td>0.037601</td>\n      <td>0.106982</td>\n      <td>0.027393</td>\n      <td>...</td>\n      <td>0.050473</td>\n      <td>0.117889</td>\n      <td>-0.046739</td>\n      <td>-0.079384</td>\n      <td>0.029211</td>\n      <td>0.099918</td>\n      <td>-0.011426</td>\n      <td>0.055683</td>\n      <td>0.056476</td>\n      <td>-0.070478</td>\n    </tr>\n    <tr>\n      <th>home_team_goals_last_match</th>\n      <td>0.049869</td>\n      <td>0.013672</td>\n      <td>0.019083</td>\n      <td>-0.020849</td>\n      <td>-0.033533</td>\n      <td>0.015816</td>\n      <td>-0.034512</td>\n      <td>0.050704</td>\n      <td>0.018132</td>\n      <td>0.042133</td>\n      <td>...</td>\n      <td>0.059148</td>\n      <td>0.022792</td>\n      <td>-0.054501</td>\n      <td>-0.049465</td>\n      <td>0.040143</td>\n      <td>0.008044</td>\n      <td>-0.007655</td>\n      <td>0.023837</td>\n      <td>0.024086</td>\n      <td>-0.032683</td>\n    </tr>\n    <tr>\n      <th>away_team_goals_last_match</th>\n      <td>0.014538</td>\n      <td>0.003363</td>\n      <td>-0.014681</td>\n      <td>-0.006819</td>\n      <td>0.013087</td>\n      <td>-0.007193</td>\n      <td>0.031016</td>\n      <td>0.002817</td>\n      <td>0.025782</td>\n      <td>0.007820</td>\n      <td>...</td>\n      <td>0.011958</td>\n      <td>0.047108</td>\n      <td>-0.014568</td>\n      <td>-0.011715</td>\n      <td>0.007378</td>\n      <td>0.033330</td>\n      <td>0.000186</td>\n      <td>0.032393</td>\n      <td>0.033315</td>\n      <td>-0.039332</td>\n    </tr>\n    <tr>\n      <th>home_team_avg_goals_last_30_days</th>\n      <td>0.059282</td>\n      <td>0.008961</td>\n      <td>0.017102</td>\n      <td>-0.007570</td>\n      <td>-0.030449</td>\n      <td>0.036337</td>\n      <td>-0.031402</td>\n      <td>0.068970</td>\n      <td>0.021204</td>\n      <td>0.063937</td>\n      <td>...</td>\n      <td>0.081575</td>\n      <td>0.028442</td>\n      <td>-0.063523</td>\n      <td>-0.051176</td>\n      <td>0.059797</td>\n      <td>0.017054</td>\n      <td>-0.006043</td>\n      <td>0.034846</td>\n      <td>0.035491</td>\n      <td>-0.051042</td>\n    </tr>\n    <tr>\n      <th>away_team_avg_goals_last_30_days</th>\n      <td>0.043541</td>\n      <td>0.011929</td>\n      <td>-0.010263</td>\n      <td>-0.026040</td>\n      <td>0.000758</td>\n      <td>-0.019033</td>\n      <td>0.028419</td>\n      <td>0.015765</td>\n      <td>0.057977</td>\n      <td>0.022386</td>\n      <td>...</td>\n      <td>0.027562</td>\n      <td>0.079515</td>\n      <td>-0.031617</td>\n      <td>-0.040996</td>\n      <td>0.020881</td>\n      <td>0.063325</td>\n      <td>-0.005748</td>\n      <td>0.041108</td>\n      <td>0.041381</td>\n      <td>-0.055046</td>\n    </tr>\n    <tr>\n      <th>home_team_opponent_avg_goals_last_10_matches</th>\n      <td>-0.040557</td>\n      <td>0.067205</td>\n      <td>0.042044</td>\n      <td>-0.112216</td>\n      <td>-0.080736</td>\n      <td>-0.108413</td>\n      <td>-0.071230</td>\n      <td>-0.077098</td>\n      <td>-0.028286</td>\n      <td>-0.084800</td>\n      <td>...</td>\n      <td>-0.057212</td>\n      <td>-0.013851</td>\n      <td>0.053379</td>\n      <td>0.026700</td>\n      <td>-0.085540</td>\n      <td>-0.037357</td>\n      <td>0.006396</td>\n      <td>0.055195</td>\n      <td>0.057607</td>\n      <td>-0.070201</td>\n    </tr>\n    <tr>\n      <th>away_team_opponent_avg_goals_last_10_matches</th>\n      <td>-0.039906</td>\n      <td>0.044137</td>\n      <td>0.078367</td>\n      <td>-0.082406</td>\n      <td>-0.119904</td>\n      <td>-0.065118</td>\n      <td>-0.120038</td>\n      <td>-0.026583</td>\n      <td>-0.071375</td>\n      <td>-0.038495</td>\n      <td>...</td>\n      <td>-0.007927</td>\n      <td>-0.054748</td>\n      <td>0.016920</td>\n      <td>0.040660</td>\n      <td>-0.035452</td>\n      <td>-0.085925</td>\n      <td>0.013235</td>\n      <td>0.052709</td>\n      <td>0.054308</td>\n      <td>-0.068798</td>\n    </tr>\n    <tr>\n      <th>home_team_opponent_goals_last_match</th>\n      <td>-0.025994</td>\n      <td>0.039572</td>\n      <td>0.023204</td>\n      <td>-0.042112</td>\n      <td>-0.032248</td>\n      <td>-0.059440</td>\n      <td>-0.025564</td>\n      <td>-0.039648</td>\n      <td>-0.018207</td>\n      <td>-0.033188</td>\n      <td>...</td>\n      <td>-0.039695</td>\n      <td>-0.012854</td>\n      <td>0.008831</td>\n      <td>0.014274</td>\n      <td>-0.038134</td>\n      <td>-0.019853</td>\n      <td>0.007229</td>\n      <td>0.026335</td>\n      <td>0.027181</td>\n      <td>-0.035152</td>\n    </tr>\n    <tr>\n      <th>away_team_opponent_goals_last_match</th>\n      <td>-0.007541</td>\n      <td>0.038632</td>\n      <td>0.068806</td>\n      <td>-0.052881</td>\n      <td>-0.072752</td>\n      <td>-0.038559</td>\n      <td>-0.087636</td>\n      <td>-0.008446</td>\n      <td>-0.023853</td>\n      <td>-0.014959</td>\n      <td>...</td>\n      <td>-0.002926</td>\n      <td>-0.028303</td>\n      <td>-0.013563</td>\n      <td>-0.026420</td>\n      <td>-0.017757</td>\n      <td>-0.032650</td>\n      <td>-0.001254</td>\n      <td>0.020587</td>\n      <td>0.021013</td>\n      <td>-0.031301</td>\n    </tr>\n    <tr>\n      <th>home_team_opponent_avg_goals_last_30_days</th>\n      <td>-0.023876</td>\n      <td>0.067057</td>\n      <td>0.042970</td>\n      <td>-0.082218</td>\n      <td>-0.061576</td>\n      <td>-0.098549</td>\n      <td>-0.052763</td>\n      <td>-0.048939</td>\n      <td>-0.017455</td>\n      <td>-0.048173</td>\n      <td>...</td>\n      <td>-0.046167</td>\n      <td>-0.010078</td>\n      <td>0.012500</td>\n      <td>0.004538</td>\n      <td>-0.045646</td>\n      <td>-0.021566</td>\n      <td>0.004417</td>\n      <td>0.034819</td>\n      <td>0.035607</td>\n      <td>-0.048832</td>\n    </tr>\n    <tr>\n      <th>away_team_opponent_avg_goals_last_30_days</th>\n      <td>-0.022218</td>\n      <td>0.044208</td>\n      <td>0.083357</td>\n      <td>-0.056824</td>\n      <td>-0.083128</td>\n      <td>-0.041896</td>\n      <td>-0.102067</td>\n      <td>-0.015184</td>\n      <td>-0.044129</td>\n      <td>-0.021668</td>\n      <td>...</td>\n      <td>-0.004708</td>\n      <td>-0.043360</td>\n      <td>-0.007850</td>\n      <td>-0.000956</td>\n      <td>-0.022531</td>\n      <td>-0.045953</td>\n      <td>0.003793</td>\n      <td>0.029519</td>\n      <td>0.030802</td>\n      <td>-0.045229</td>\n    </tr>\n    <tr>\n      <th>home_team_avg_rating_last_10_matches</th>\n      <td>0.090372</td>\n      <td>0.021185</td>\n      <td>0.042008</td>\n      <td>-0.056293</td>\n      <td>-0.100074</td>\n      <td>-0.015499</td>\n      <td>-0.090877</td>\n      <td>0.144639</td>\n      <td>0.046771</td>\n      <td>0.103630</td>\n      <td>...</td>\n      <td>0.166080</td>\n      <td>0.056359</td>\n      <td>-0.111692</td>\n      <td>-0.068150</td>\n      <td>0.105072</td>\n      <td>0.017813</td>\n      <td>-0.011960</td>\n      <td>0.073407</td>\n      <td>0.074588</td>\n      <td>-0.079863</td>\n    </tr>\n    <tr>\n      <th>away_team_avg_rating_last_10_matches</th>\n      <td>0.077727</td>\n      <td>0.034949</td>\n      <td>0.011840</td>\n      <td>-0.091985</td>\n      <td>-0.041596</td>\n      <td>-0.073143</td>\n      <td>-0.018739</td>\n      <td>0.046992</td>\n      <td>0.134263</td>\n      <td>0.020877</td>\n      <td>...</td>\n      <td>0.056127</td>\n      <td>0.159712</td>\n      <td>-0.047890</td>\n      <td>-0.090833</td>\n      <td>0.021388</td>\n      <td>0.109393</td>\n      <td>-0.012855</td>\n      <td>0.070960</td>\n      <td>0.072746</td>\n      <td>-0.079672</td>\n    </tr>\n    <tr>\n      <th>home_team_rating_last_match</th>\n      <td>0.089553</td>\n      <td>0.030029</td>\n      <td>0.049628</td>\n      <td>-0.073108</td>\n      <td>-0.101423</td>\n      <td>0.002874</td>\n      <td>-0.099406</td>\n      <td>0.095239</td>\n      <td>0.025781</td>\n      <td>0.069610</td>\n      <td>...</td>\n      <td>0.116318</td>\n      <td>0.031407</td>\n      <td>-0.117741</td>\n      <td>-0.095638</td>\n      <td>0.066546</td>\n      <td>0.003461</td>\n      <td>-0.019559</td>\n      <td>0.045963</td>\n      <td>0.046485</td>\n      <td>-0.057617</td>\n    </tr>\n    <tr>\n      <th>away_team_rating_last_match</th>\n      <td>0.028847</td>\n      <td>0.016155</td>\n      <td>-0.011316</td>\n      <td>-0.058573</td>\n      <td>-0.020689</td>\n      <td>-0.050807</td>\n      <td>0.025728</td>\n      <td>0.011590</td>\n      <td>0.066335</td>\n      <td>0.003618</td>\n      <td>...</td>\n      <td>0.019830</td>\n      <td>0.098027</td>\n      <td>-0.027607</td>\n      <td>-0.036407</td>\n      <td>-0.000082</td>\n      <td>0.060916</td>\n      <td>0.004001</td>\n      <td>0.047602</td>\n      <td>0.049527</td>\n      <td>-0.069903</td>\n    </tr>\n    <tr>\n      <th>home_team_avg_rating_last_30_days</th>\n      <td>0.084579</td>\n      <td>0.013101</td>\n      <td>0.037445</td>\n      <td>-0.046032</td>\n      <td>-0.089632</td>\n      <td>0.030715</td>\n      <td>-0.086108</td>\n      <td>0.107638</td>\n      <td>0.024280</td>\n      <td>0.089109</td>\n      <td>...</td>\n      <td>0.139752</td>\n      <td>0.035366</td>\n      <td>-0.097219</td>\n      <td>-0.074014</td>\n      <td>0.090729</td>\n      <td>0.011111</td>\n      <td>-0.010840</td>\n      <td>0.053417</td>\n      <td>0.054740</td>\n      <td>-0.072942</td>\n    </tr>\n    <tr>\n      <th>away_team_avg_rating_last_30_days</th>\n      <td>0.064848</td>\n      <td>0.033919</td>\n      <td>0.003391</td>\n      <td>-0.097305</td>\n      <td>-0.053063</td>\n      <td>-0.078867</td>\n      <td>0.001367</td>\n      <td>0.026203</td>\n      <td>0.099051</td>\n      <td>0.017439</td>\n      <td>...</td>\n      <td>0.039433</td>\n      <td>0.135428</td>\n      <td>-0.047910</td>\n      <td>-0.073495</td>\n      <td>0.015119</td>\n      <td>0.091285</td>\n      <td>-0.006778</td>\n      <td>0.054200</td>\n      <td>0.055790</td>\n      <td>-0.077722</td>\n    </tr>\n    <tr>\n      <th>home_team_opponent_avg_rating_last_10_matches</th>\n      <td>-0.034881</td>\n      <td>0.096053</td>\n      <td>0.063447</td>\n      <td>-0.185875</td>\n      <td>-0.147355</td>\n      <td>-0.175079</td>\n      <td>-0.130307</td>\n      <td>-0.089931</td>\n      <td>-0.039264</td>\n      <td>-0.116211</td>\n      <td>...</td>\n      <td>-0.081065</td>\n      <td>-0.022460</td>\n      <td>0.065432</td>\n      <td>0.034689</td>\n      <td>-0.123791</td>\n      <td>-0.069830</td>\n      <td>0.012025</td>\n      <td>0.070902</td>\n      <td>0.073730</td>\n      <td>-0.077837</td>\n    </tr>\n    <tr>\n      <th>away_team_opponent_avg_rating_last_10_matches</th>\n      <td>-0.035864</td>\n      <td>0.072957</td>\n      <td>0.105830</td>\n      <td>-0.154382</td>\n      <td>-0.198818</td>\n      <td>-0.122422</td>\n      <td>-0.196844</td>\n      <td>-0.035279</td>\n      <td>-0.082345</td>\n      <td>-0.063689</td>\n      <td>...</td>\n      <td>-0.017728</td>\n      <td>-0.080331</td>\n      <td>0.023379</td>\n      <td>0.052403</td>\n      <td>-0.067684</td>\n      <td>-0.126381</td>\n      <td>0.016522</td>\n      <td>0.069279</td>\n      <td>0.071361</td>\n      <td>-0.077594</td>\n    </tr>\n    <tr>\n      <th>home_team_opponent_rating_last_match</th>\n      <td>-0.040513</td>\n      <td>0.061775</td>\n      <td>0.045268</td>\n      <td>-0.117397</td>\n      <td>-0.093326</td>\n      <td>-0.148318</td>\n      <td>-0.079772</td>\n      <td>-0.073799</td>\n      <td>-0.033965</td>\n      <td>-0.073198</td>\n      <td>...</td>\n      <td>-0.077866</td>\n      <td>-0.024895</td>\n      <td>0.031994</td>\n      <td>0.036620</td>\n      <td>-0.089373</td>\n      <td>-0.050798</td>\n      <td>0.020684</td>\n      <td>0.042969</td>\n      <td>0.045705</td>\n      <td>-0.066268</td>\n    </tr>\n    <tr>\n      <th>away_team_opponent_rating_last_match</th>\n      <td>0.003061</td>\n      <td>0.079339</td>\n      <td>0.107718</td>\n      <td>-0.133202</td>\n      <td>-0.166349</td>\n      <td>-0.098468</td>\n      <td>-0.197985</td>\n      <td>-0.012692</td>\n      <td>-0.039174</td>\n      <td>-0.033601</td>\n      <td>...</td>\n      <td>-0.009657</td>\n      <td>-0.055951</td>\n      <td>-0.019979</td>\n      <td>-0.046341</td>\n      <td>-0.047071</td>\n      <td>-0.076787</td>\n      <td>0.005617</td>\n      <td>0.042374</td>\n      <td>0.043699</td>\n      <td>-0.054144</td>\n    </tr>\n    <tr>\n      <th>home_team_opponent_avg_rating_last_30_days</th>\n      <td>-0.021419</td>\n      <td>0.092231</td>\n      <td>0.071199</td>\n      <td>-0.174880</td>\n      <td>-0.143742</td>\n      <td>-0.200030</td>\n      <td>-0.125020</td>\n      <td>-0.073707</td>\n      <td>-0.028416</td>\n      <td>-0.081223</td>\n      <td>...</td>\n      <td>-0.071528</td>\n      <td>-0.015887</td>\n      <td>0.027131</td>\n      <td>0.013317</td>\n      <td>-0.088490</td>\n      <td>-0.052416</td>\n      <td>0.010253</td>\n      <td>0.050687</td>\n      <td>0.052678</td>\n      <td>-0.071818</td>\n    </tr>\n    <tr>\n      <th>away_team_opponent_avg_rating_last_30_days</th>\n      <td>-0.016815</td>\n      <td>0.074862</td>\n      <td>0.104982</td>\n      <td>-0.130666</td>\n      <td>-0.165150</td>\n      <td>-0.098830</td>\n      <td>-0.200687</td>\n      <td>-0.025622</td>\n      <td>-0.066519</td>\n      <td>-0.045421</td>\n      <td>...</td>\n      <td>-0.014502</td>\n      <td>-0.070768</td>\n      <td>-0.000984</td>\n      <td>0.005045</td>\n      <td>-0.052624</td>\n      <td>-0.086828</td>\n      <td>0.013069</td>\n      <td>0.047556</td>\n      <td>0.049467</td>\n      <td>-0.066255</td>\n    </tr>\n    <tr>\n      <th>home_team_leagues_last_10_matches</th>\n      <td>0.187869</td>\n      <td>-0.069139</td>\n      <td>-0.009258</td>\n      <td>0.071611</td>\n      <td>0.009760</td>\n      <td>0.067594</td>\n      <td>0.003653</td>\n      <td>0.589715</td>\n      <td>0.349022</td>\n      <td>0.417773</td>\n      <td>...</td>\n      <td>1.000000</td>\n      <td>0.522552</td>\n      <td>-0.297429</td>\n      <td>-0.228408</td>\n      <td>0.529878</td>\n      <td>0.326884</td>\n      <td>-0.022801</td>\n      <td>0.073022</td>\n      <td>0.070832</td>\n      <td>-0.083730</td>\n    </tr>\n    <tr>\n      <th>away_team_leagues_last_10_matches</th>\n      <td>0.191700</td>\n      <td>-0.021504</td>\n      <td>-0.073830</td>\n      <td>0.012293</td>\n      <td>0.082000</td>\n      <td>0.009660</td>\n      <td>0.067038</td>\n      <td>0.350883</td>\n      <td>0.586924</td>\n      <td>0.268536</td>\n      <td>...</td>\n      <td>0.522552</td>\n      <td>1.000000</td>\n      <td>-0.221682</td>\n      <td>-0.290837</td>\n      <td>0.327714</td>\n      <td>0.530850</td>\n      <td>-0.026177</td>\n      <td>0.069965</td>\n      <td>0.067203</td>\n      <td>-0.079290</td>\n    </tr>\n    <tr>\n      <th>home_team_same_league</th>\n      <td>-0.466487</td>\n      <td>-0.138445</td>\n      <td>-0.138838</td>\n      <td>0.024239</td>\n      <td>0.070133</td>\n      <td>-0.010804</td>\n      <td>0.083801</td>\n      <td>-0.283039</td>\n      <td>-0.184902</td>\n      <td>-0.319993</td>\n      <td>...</td>\n      <td>-0.297429</td>\n      <td>-0.221682</td>\n      <td>1.000000</td>\n      <td>0.604701</td>\n      <td>-0.333064</td>\n      <td>-0.191707</td>\n      <td>0.067617</td>\n      <td>-0.011324</td>\n      <td>-0.012277</td>\n      <td>0.048084</td>\n    </tr>\n    <tr>\n      <th>away_team_same_league</th>\n      <td>-0.461241</td>\n      <td>-0.143697</td>\n      <td>-0.149823</td>\n      <td>0.090416</td>\n      <td>0.022329</td>\n      <td>0.050236</td>\n      <td>0.047797</td>\n      <td>-0.182297</td>\n      <td>-0.274581</td>\n      <td>-0.163941</td>\n      <td>...</td>\n      <td>-0.228408</td>\n      <td>-0.290837</td>\n      <td>0.604701</td>\n      <td>1.000000</td>\n      <td>-0.183210</td>\n      <td>-0.332030</td>\n      <td>0.067264</td>\n      <td>-0.009095</td>\n      <td>-0.009676</td>\n      <td>0.046373</td>\n    </tr>\n    <tr>\n      <th>home_team_leagues_last_30_days</th>\n      <td>0.146791</td>\n      <td>-0.120900</td>\n      <td>-0.098922</td>\n      <td>0.357175</td>\n      <td>0.197270</td>\n      <td>0.299791</td>\n      <td>0.171075</td>\n      <td>0.429307</td>\n      <td>0.241712</td>\n      <td>0.690414</td>\n      <td>...</td>\n      <td>0.529878</td>\n      <td>0.327714</td>\n      <td>-0.333064</td>\n      <td>-0.183210</td>\n      <td>1.000000</td>\n      <td>0.495386</td>\n      <td>-0.023625</td>\n      <td>0.042577</td>\n      <td>0.039125</td>\n      <td>-0.051278</td>\n    </tr>\n    <tr>\n      <th>away_team_leagues_last_30_days</th>\n      <td>0.156765</td>\n      <td>-0.096127</td>\n      <td>-0.124820</td>\n      <td>0.192037</td>\n      <td>0.361893</td>\n      <td>0.150513</td>\n      <td>0.311491</td>\n      <td>0.239366</td>\n      <td>0.423856</td>\n      <td>0.354807</td>\n      <td>...</td>\n      <td>0.326884</td>\n      <td>0.530850</td>\n      <td>-0.191707</td>\n      <td>-0.332030</td>\n      <td>0.495386</td>\n      <td>1.000000</td>\n      <td>-0.025001</td>\n      <td>0.039837</td>\n      <td>0.035990</td>\n      <td>-0.048981</td>\n    </tr>\n    <tr>\n      <th>dow_match</th>\n      <td>-0.164945</td>\n      <td>0.015041</td>\n      <td>0.018947</td>\n      <td>-0.030159</td>\n      <td>-0.033505</td>\n      <td>-0.028746</td>\n      <td>-0.024382</td>\n      <td>-0.064761</td>\n      <td>-0.062523</td>\n      <td>-0.037668</td>\n      <td>...</td>\n      <td>-0.022801</td>\n      <td>-0.026177</td>\n      <td>0.067617</td>\n      <td>0.067264</td>\n      <td>-0.023625</td>\n      <td>-0.025001</td>\n      <td>1.000000</td>\n      <td>-0.015382</td>\n      <td>-0.013279</td>\n      <td>-0.036118</td>\n    </tr>\n    <tr>\n      <th>week_match</th>\n      <td>0.015210</td>\n      <td>0.018648</td>\n      <td>0.017327</td>\n      <td>0.063675</td>\n      <td>0.063433</td>\n      <td>0.044225</td>\n      <td>0.058413</td>\n      <td>0.044867</td>\n      <td>0.043191</td>\n      <td>0.046312</td>\n      <td>...</td>\n      <td>0.073022</td>\n      <td>0.069965</td>\n      <td>-0.011324</td>\n      <td>-0.009095</td>\n      <td>0.042577</td>\n      <td>0.039837</td>\n      <td>-0.015382</td>\n      <td>1.000000</td>\n      <td>0.976720</td>\n      <td>-0.615131</td>\n    </tr>\n    <tr>\n      <th>month_match</th>\n      <td>0.015203</td>\n      <td>0.019379</td>\n      <td>0.018271</td>\n      <td>0.060930</td>\n      <td>0.060901</td>\n      <td>0.041464</td>\n      <td>0.056974</td>\n      <td>0.042611</td>\n      <td>0.040642</td>\n      <td>0.044001</td>\n      <td>...</td>\n      <td>0.070832</td>\n      <td>0.067203</td>\n      <td>-0.012277</td>\n      <td>-0.009676</td>\n      <td>0.039125</td>\n      <td>0.035990</td>\n      <td>-0.013279</td>\n      <td>0.976720</td>\n      <td>1.000000</td>\n      <td>-0.632430</td>\n    </tr>\n    <tr>\n      <th>year_match</th>\n      <td>-0.024900</td>\n      <td>-0.012922</td>\n      <td>-0.007095</td>\n      <td>0.018368</td>\n      <td>0.016633</td>\n      <td>0.019377</td>\n      <td>0.013134</td>\n      <td>-0.056862</td>\n      <td>-0.055466</td>\n      <td>-0.049415</td>\n      <td>...</td>\n      <td>-0.083730</td>\n      <td>-0.079290</td>\n      <td>0.048084</td>\n      <td>0.046373</td>\n      <td>-0.051278</td>\n      <td>-0.048981</td>\n      <td>-0.036118</td>\n      <td>-0.615131</td>\n      <td>-0.632430</td>\n      <td>1.000000</td>\n    </tr>\n  </tbody>\n</table>\n<p>47 rows × 47 columns</p>\n</div>"
     },
     "execution_count": 1084,
     "metadata": {},
     "output_type": "execute_result"
    }
   ],
   "source": [
    "final_data.drop(columns='target').corr()"
   ],
   "metadata": {
    "collapsed": false,
    "ExecuteTime": {
     "end_time": "2023-06-25T18:16:38.491799200Z",
     "start_time": "2023-06-25T18:16:37.465680100Z"
    }
   }
  },
  {
   "cell_type": "code",
   "execution_count": 1085,
   "outputs": [],
   "source": [
    "final_data = final_data.reset_index(drop=True)"
   ],
   "metadata": {
    "collapsed": false,
    "ExecuteTime": {
     "end_time": "2023-06-25T18:16:38.507663800Z",
     "start_time": "2023-06-25T18:16:38.284029700Z"
    }
   }
  },
  {
   "cell_type": "code",
   "execution_count": 1086,
   "outputs": [
    {
     "data": {
      "text/plain": "array(['away', 'home', 'draw'], dtype=object)"
     },
     "execution_count": 1086,
     "metadata": {},
     "output_type": "execute_result"
    }
   ],
   "source": [
    "final_data['target'].unique()"
   ],
   "metadata": {
    "collapsed": false,
    "ExecuteTime": {
     "end_time": "2023-06-25T18:16:38.507663800Z",
     "start_time": "2023-06-25T18:16:38.284029700Z"
    }
   }
  },
  {
   "cell_type": "code",
   "execution_count": 1087,
   "outputs": [],
   "source": [
    "target_label = {'home':0,\n",
    "                'away':1,\n",
    "                'draw':2,\n",
    "                }"
   ],
   "metadata": {
    "collapsed": false,
    "ExecuteTime": {
     "end_time": "2023-06-25T18:16:38.507663800Z",
     "start_time": "2023-06-25T18:16:38.284029700Z"
    }
   }
  },
  {
   "cell_type": "code",
   "execution_count": 1088,
   "outputs": [],
   "source": [
    "final_data['target'] = final_data['target'].replace(target_label)\n",
    "final_data['target'] = final_data['target'].astype('int32')"
   ],
   "metadata": {
    "collapsed": false,
    "ExecuteTime": {
     "end_time": "2023-06-25T18:16:38.507663800Z",
     "start_time": "2023-06-25T18:16:38.284029700Z"
    }
   }
  },
  {
   "cell_type": "code",
   "execution_count": 1089,
   "outputs": [
    {
     "data": {
      "text/plain": "   target  is_cup  home_team_days_from_last_match  \\\n0       1       0                        5.024305   \n1       0       0                        3.166667   \n2       2       0                        2.989583   \n3       1       0                        3.000000   \n4       0       0                        3.291667   \n\n   away_team_days_from_last_match  home_team_total_matches_last_30_days  \\\n0                        7.197917                                     3   \n1                        3.166667                                     4   \n2                        9.979167                                     3   \n3                        3.000000                                     5   \n4                        3.250000                                     4   \n\n   away_team_total_matches_last_30_days  \\\n0                                     4   \n1                                     4   \n2                                     2   \n3                                     5   \n4                                     4   \n\n   home_team_matches_play_home_last_30_days  \\\n0                                       1.0   \n1                                       2.0   \n2                                       1.0   \n3                                       2.0   \n4                                       2.0   \n\n   away_team_matches_play_home_last_30_days  \\\n0                                       2.0   \n1                                       1.0   \n2                                       0.0   \n3                                       3.0   \n4                                       3.0   \n\n   home_team_matches_cup_comp_last_10_matches  \\\n0                                         0.0   \n1                                         0.0   \n2                                         0.0   \n3                                         0.0   \n4                                         0.0   \n\n   away_team_matches_cup_comp_last_10_matches  ...  \\\n0                                         5.0  ...   \n1                                         0.0  ...   \n2                                         0.0  ...   \n3                                         1.0  ...   \n4                                         0.0  ...   \n\n   home_team_leagues_last_10_matches  away_team_leagues_last_10_matches  \\\n0                                  1                                  3   \n1                                  1                                  1   \n2                                  1                                  1   \n3                                  1                                  2   \n4                                  1                                  1   \n\n   home_team_same_league  away_team_same_league  \\\n0                      1                      0   \n1                      1                      1   \n2                      1                      1   \n3                      1                      1   \n4                      1                      1   \n\n   home_team_leagues_last_30_days  away_team_leagues_last_30_days  dow_match  \\\n0                               1                               3          6   \n1                               1                               1          6   \n2                               1                               1          6   \n3                               1                               1          6   \n4                               1                               1          6   \n\n   week_match  month_match  year_match  \n0          48           12        2019  \n1          48           12        2019  \n2          48           12        2019  \n3          48           12        2019  \n4          48           12        2019  \n\n[5 rows x 48 columns]",
      "text/html": "<div>\n<style scoped>\n    .dataframe tbody tr th:only-of-type {\n        vertical-align: middle;\n    }\n\n    .dataframe tbody tr th {\n        vertical-align: top;\n    }\n\n    .dataframe thead th {\n        text-align: right;\n    }\n</style>\n<table border=\"1\" class=\"dataframe\">\n  <thead>\n    <tr style=\"text-align: right;\">\n      <th></th>\n      <th>target</th>\n      <th>is_cup</th>\n      <th>home_team_days_from_last_match</th>\n      <th>away_team_days_from_last_match</th>\n      <th>home_team_total_matches_last_30_days</th>\n      <th>away_team_total_matches_last_30_days</th>\n      <th>home_team_matches_play_home_last_30_days</th>\n      <th>away_team_matches_play_home_last_30_days</th>\n      <th>home_team_matches_cup_comp_last_10_matches</th>\n      <th>away_team_matches_cup_comp_last_10_matches</th>\n      <th>...</th>\n      <th>home_team_leagues_last_10_matches</th>\n      <th>away_team_leagues_last_10_matches</th>\n      <th>home_team_same_league</th>\n      <th>away_team_same_league</th>\n      <th>home_team_leagues_last_30_days</th>\n      <th>away_team_leagues_last_30_days</th>\n      <th>dow_match</th>\n      <th>week_match</th>\n      <th>month_match</th>\n      <th>year_match</th>\n    </tr>\n  </thead>\n  <tbody>\n    <tr>\n      <th>0</th>\n      <td>1</td>\n      <td>0</td>\n      <td>5.024305</td>\n      <td>7.197917</td>\n      <td>3</td>\n      <td>4</td>\n      <td>1.0</td>\n      <td>2.0</td>\n      <td>0.0</td>\n      <td>5.0</td>\n      <td>...</td>\n      <td>1</td>\n      <td>3</td>\n      <td>1</td>\n      <td>0</td>\n      <td>1</td>\n      <td>3</td>\n      <td>6</td>\n      <td>48</td>\n      <td>12</td>\n      <td>2019</td>\n    </tr>\n    <tr>\n      <th>1</th>\n      <td>0</td>\n      <td>0</td>\n      <td>3.166667</td>\n      <td>3.166667</td>\n      <td>4</td>\n      <td>4</td>\n      <td>2.0</td>\n      <td>1.0</td>\n      <td>0.0</td>\n      <td>0.0</td>\n      <td>...</td>\n      <td>1</td>\n      <td>1</td>\n      <td>1</td>\n      <td>1</td>\n      <td>1</td>\n      <td>1</td>\n      <td>6</td>\n      <td>48</td>\n      <td>12</td>\n      <td>2019</td>\n    </tr>\n    <tr>\n      <th>2</th>\n      <td>2</td>\n      <td>0</td>\n      <td>2.989583</td>\n      <td>9.979167</td>\n      <td>3</td>\n      <td>2</td>\n      <td>1.0</td>\n      <td>0.0</td>\n      <td>0.0</td>\n      <td>0.0</td>\n      <td>...</td>\n      <td>1</td>\n      <td>1</td>\n      <td>1</td>\n      <td>1</td>\n      <td>1</td>\n      <td>1</td>\n      <td>6</td>\n      <td>48</td>\n      <td>12</td>\n      <td>2019</td>\n    </tr>\n    <tr>\n      <th>3</th>\n      <td>1</td>\n      <td>0</td>\n      <td>3.000000</td>\n      <td>3.000000</td>\n      <td>5</td>\n      <td>5</td>\n      <td>2.0</td>\n      <td>3.0</td>\n      <td>0.0</td>\n      <td>1.0</td>\n      <td>...</td>\n      <td>1</td>\n      <td>2</td>\n      <td>1</td>\n      <td>1</td>\n      <td>1</td>\n      <td>1</td>\n      <td>6</td>\n      <td>48</td>\n      <td>12</td>\n      <td>2019</td>\n    </tr>\n    <tr>\n      <th>4</th>\n      <td>0</td>\n      <td>0</td>\n      <td>3.291667</td>\n      <td>3.250000</td>\n      <td>4</td>\n      <td>4</td>\n      <td>2.0</td>\n      <td>3.0</td>\n      <td>0.0</td>\n      <td>0.0</td>\n      <td>...</td>\n      <td>1</td>\n      <td>1</td>\n      <td>1</td>\n      <td>1</td>\n      <td>1</td>\n      <td>1</td>\n      <td>6</td>\n      <td>48</td>\n      <td>12</td>\n      <td>2019</td>\n    </tr>\n  </tbody>\n</table>\n<p>5 rows × 48 columns</p>\n</div>"
     },
     "execution_count": 1089,
     "metadata": {},
     "output_type": "execute_result"
    }
   ],
   "source": [
    "final_data.head()"
   ],
   "metadata": {
    "collapsed": false,
    "ExecuteTime": {
     "end_time": "2023-06-25T18:16:38.507663800Z",
     "start_time": "2023-06-25T18:16:38.344483700Z"
    }
   }
  },
  {
   "cell_type": "code",
   "execution_count": 1090,
   "outputs": [
    {
     "data": {
      "text/plain": "   target\n0   47168\n1   34527\n2   27233",
      "text/html": "<div>\n<style scoped>\n    .dataframe tbody tr th:only-of-type {\n        vertical-align: middle;\n    }\n\n    .dataframe tbody tr th {\n        vertical-align: top;\n    }\n\n    .dataframe thead th {\n        text-align: right;\n    }\n</style>\n<table border=\"1\" class=\"dataframe\">\n  <thead>\n    <tr style=\"text-align: right;\">\n      <th></th>\n      <th>target</th>\n    </tr>\n  </thead>\n  <tbody>\n    <tr>\n      <th>0</th>\n      <td>47168</td>\n    </tr>\n    <tr>\n      <th>1</th>\n      <td>34527</td>\n    </tr>\n    <tr>\n      <th>2</th>\n      <td>27233</td>\n    </tr>\n  </tbody>\n</table>\n</div>"
     },
     "execution_count": 1090,
     "metadata": {},
     "output_type": "execute_result"
    }
   ],
   "source": [
    "final_data.groupby(by='target', as_index=False).agg({'target':'count'})"
   ],
   "metadata": {
    "collapsed": false,
    "ExecuteTime": {
     "end_time": "2023-06-25T18:16:38.507663800Z",
     "start_time": "2023-06-25T18:16:38.362015200Z"
    }
   }
  },
  {
   "cell_type": "markdown",
   "source": [
    "- There is no sign of imbalance as well"
   ],
   "metadata": {
    "collapsed": false
   }
  },
  {
   "cell_type": "code",
   "execution_count": 1091,
   "outputs": [],
   "source": [
    "#Save for later use\n",
    "final_data.to_feather(\"../../data/processed/processed_data.feather\")"
   ],
   "metadata": {
    "collapsed": false,
    "ExecuteTime": {
     "end_time": "2023-06-25T18:16:38.615016600Z",
     "start_time": "2023-06-25T18:16:38.388898800Z"
    }
   }
  },
  {
   "cell_type": "markdown",
   "source": [
    "# Train test split"
   ],
   "metadata": {
    "collapsed": false
   }
  },
  {
   "cell_type": "code",
   "execution_count": 1092,
   "outputs": [],
   "source": [
    "X = final_data.drop(columns='target', axis=1)\n",
    "y = final_data['target']"
   ],
   "metadata": {
    "collapsed": false,
    "ExecuteTime": {
     "end_time": "2023-06-25T18:16:38.663032200Z",
     "start_time": "2023-06-25T18:16:38.507663800Z"
    }
   }
  },
  {
   "cell_type": "code",
   "execution_count": 1093,
   "outputs": [],
   "source": [
    "X_train, X_test, y_train, y_test = train_test_split(X, y,\n",
    "                                                    test_size=0.3,\n",
    "                                                    random_state=42,\n",
    "                                                    )"
   ],
   "metadata": {
    "collapsed": false,
    "ExecuteTime": {
     "end_time": "2023-06-25T18:16:38.983964900Z",
     "start_time": "2023-06-25T18:16:38.507663800Z"
    }
   }
  },
  {
   "cell_type": "markdown",
   "source": [
    "# Train model"
   ],
   "metadata": {
    "collapsed": false
   }
  },
  {
   "cell_type": "code",
   "execution_count": 1094,
   "outputs": [],
   "source": [
    "model = xgb.XGBClassifier()"
   ],
   "metadata": {
    "collapsed": false,
    "ExecuteTime": {
     "end_time": "2023-06-25T18:16:39.219262300Z",
     "start_time": "2023-06-25T18:16:38.674995Z"
    }
   }
  },
  {
   "cell_type": "code",
   "execution_count": 1095,
   "outputs": [
    {
     "data": {
      "text/plain": "XGBClassifier(base_score=None, booster=None, callbacks=None,\n              colsample_bylevel=None, colsample_bynode=None,\n              colsample_bytree=None, early_stopping_rounds=None,\n              enable_categorical=False, eval_metric=None, feature_types=None,\n              gamma=None, gpu_id=None, grow_policy=None, importance_type=None,\n              interaction_constraints=None, learning_rate=None, max_bin=None,\n              max_cat_threshold=None, max_cat_to_onehot=None,\n              max_delta_step=None, max_depth=None, max_leaves=None,\n              min_child_weight=None, missing=nan, monotone_constraints=None,\n              n_estimators=100, n_jobs=None, num_parallel_tree=None,\n              objective='multi:softprob', predictor=None, ...)",
      "text/html": "<style>#sk-container-id-19 {color: black;background-color: white;}#sk-container-id-19 pre{padding: 0;}#sk-container-id-19 div.sk-toggleable {background-color: white;}#sk-container-id-19 label.sk-toggleable__label {cursor: pointer;display: block;width: 100%;margin-bottom: 0;padding: 0.3em;box-sizing: border-box;text-align: center;}#sk-container-id-19 label.sk-toggleable__label-arrow:before {content: \"▸\";float: left;margin-right: 0.25em;color: #696969;}#sk-container-id-19 label.sk-toggleable__label-arrow:hover:before {color: black;}#sk-container-id-19 div.sk-estimator:hover label.sk-toggleable__label-arrow:before {color: black;}#sk-container-id-19 div.sk-toggleable__content {max-height: 0;max-width: 0;overflow: hidden;text-align: left;background-color: #f0f8ff;}#sk-container-id-19 div.sk-toggleable__content pre {margin: 0.2em;color: black;border-radius: 0.25em;background-color: #f0f8ff;}#sk-container-id-19 input.sk-toggleable__control:checked~div.sk-toggleable__content {max-height: 200px;max-width: 100%;overflow: auto;}#sk-container-id-19 input.sk-toggleable__control:checked~label.sk-toggleable__label-arrow:before {content: \"▾\";}#sk-container-id-19 div.sk-estimator input.sk-toggleable__control:checked~label.sk-toggleable__label {background-color: #d4ebff;}#sk-container-id-19 div.sk-label input.sk-toggleable__control:checked~label.sk-toggleable__label {background-color: #d4ebff;}#sk-container-id-19 input.sk-hidden--visually {border: 0;clip: rect(1px 1px 1px 1px);clip: rect(1px, 1px, 1px, 1px);height: 1px;margin: -1px;overflow: hidden;padding: 0;position: absolute;width: 1px;}#sk-container-id-19 div.sk-estimator {font-family: monospace;background-color: #f0f8ff;border: 1px dotted black;border-radius: 0.25em;box-sizing: border-box;margin-bottom: 0.5em;}#sk-container-id-19 div.sk-estimator:hover {background-color: #d4ebff;}#sk-container-id-19 div.sk-parallel-item::after {content: \"\";width: 100%;border-bottom: 1px solid gray;flex-grow: 1;}#sk-container-id-19 div.sk-label:hover label.sk-toggleable__label {background-color: #d4ebff;}#sk-container-id-19 div.sk-serial::before {content: \"\";position: absolute;border-left: 1px solid gray;box-sizing: border-box;top: 0;bottom: 0;left: 50%;z-index: 0;}#sk-container-id-19 div.sk-serial {display: flex;flex-direction: column;align-items: center;background-color: white;padding-right: 0.2em;padding-left: 0.2em;position: relative;}#sk-container-id-19 div.sk-item {position: relative;z-index: 1;}#sk-container-id-19 div.sk-parallel {display: flex;align-items: stretch;justify-content: center;background-color: white;position: relative;}#sk-container-id-19 div.sk-item::before, #sk-container-id-19 div.sk-parallel-item::before {content: \"\";position: absolute;border-left: 1px solid gray;box-sizing: border-box;top: 0;bottom: 0;left: 50%;z-index: -1;}#sk-container-id-19 div.sk-parallel-item {display: flex;flex-direction: column;z-index: 1;position: relative;background-color: white;}#sk-container-id-19 div.sk-parallel-item:first-child::after {align-self: flex-end;width: 50%;}#sk-container-id-19 div.sk-parallel-item:last-child::after {align-self: flex-start;width: 50%;}#sk-container-id-19 div.sk-parallel-item:only-child::after {width: 0;}#sk-container-id-19 div.sk-dashed-wrapped {border: 1px dashed gray;margin: 0 0.4em 0.5em 0.4em;box-sizing: border-box;padding-bottom: 0.4em;background-color: white;}#sk-container-id-19 div.sk-label label {font-family: monospace;font-weight: bold;display: inline-block;line-height: 1.2em;}#sk-container-id-19 div.sk-label-container {text-align: center;}#sk-container-id-19 div.sk-container {/* jupyter's `normalize.less` sets `[hidden] { display: none; }` but bootstrap.min.css set `[hidden] { display: none !important; }` so we also need the `!important` here to be able to override the default hidden behavior on the sphinx rendered scikit-learn.org. See: https://github.com/scikit-learn/scikit-learn/issues/21755 */display: inline-block !important;position: relative;}#sk-container-id-19 div.sk-text-repr-fallback {display: none;}</style><div id=\"sk-container-id-19\" class=\"sk-top-container\"><div class=\"sk-text-repr-fallback\"><pre>XGBClassifier(base_score=None, booster=None, callbacks=None,\n              colsample_bylevel=None, colsample_bynode=None,\n              colsample_bytree=None, early_stopping_rounds=None,\n              enable_categorical=False, eval_metric=None, feature_types=None,\n              gamma=None, gpu_id=None, grow_policy=None, importance_type=None,\n              interaction_constraints=None, learning_rate=None, max_bin=None,\n              max_cat_threshold=None, max_cat_to_onehot=None,\n              max_delta_step=None, max_depth=None, max_leaves=None,\n              min_child_weight=None, missing=nan, monotone_constraints=None,\n              n_estimators=100, n_jobs=None, num_parallel_tree=None,\n              objective=&#x27;multi:softprob&#x27;, predictor=None, ...)</pre><b>In a Jupyter environment, please rerun this cell to show the HTML representation or trust the notebook. <br />On GitHub, the HTML representation is unable to render, please try loading this page with nbviewer.org.</b></div><div class=\"sk-container\" hidden><div class=\"sk-item\"><div class=\"sk-estimator sk-toggleable\"><input class=\"sk-toggleable__control sk-hidden--visually\" id=\"sk-estimator-id-19\" type=\"checkbox\" checked><label for=\"sk-estimator-id-19\" class=\"sk-toggleable__label sk-toggleable__label-arrow\">XGBClassifier</label><div class=\"sk-toggleable__content\"><pre>XGBClassifier(base_score=None, booster=None, callbacks=None,\n              colsample_bylevel=None, colsample_bynode=None,\n              colsample_bytree=None, early_stopping_rounds=None,\n              enable_categorical=False, eval_metric=None, feature_types=None,\n              gamma=None, gpu_id=None, grow_policy=None, importance_type=None,\n              interaction_constraints=None, learning_rate=None, max_bin=None,\n              max_cat_threshold=None, max_cat_to_onehot=None,\n              max_delta_step=None, max_depth=None, max_leaves=None,\n              min_child_weight=None, missing=nan, monotone_constraints=None,\n              n_estimators=100, n_jobs=None, num_parallel_tree=None,\n              objective=&#x27;multi:softprob&#x27;, predictor=None, ...)</pre></div></div></div></div></div>"
     },
     "execution_count": 1095,
     "metadata": {},
     "output_type": "execute_result"
    }
   ],
   "source": [
    "model.fit(X_train, y_train)"
   ],
   "metadata": {
    "collapsed": false,
    "ExecuteTime": {
     "end_time": "2023-06-25T18:17:21.018757600Z",
     "start_time": "2023-06-25T18:16:38.684349500Z"
    }
   }
  },
  {
   "cell_type": "code",
   "execution_count": 1096,
   "outputs": [],
   "source": [
    "y_pred = model.predict(X_test)"
   ],
   "metadata": {
    "collapsed": false,
    "ExecuteTime": {
     "end_time": "2023-06-25T18:17:21.111098200Z",
     "start_time": "2023-06-25T18:17:21.018757600Z"
    }
   }
  },
  {
   "cell_type": "code",
   "execution_count": 1097,
   "outputs": [
    {
     "name": "stdout",
     "output_type": "stream",
     "text": [
      "Accuracy: 0.48743841610820404\n"
     ]
    }
   ],
   "source": [
    "accuracy = accuracy_score(y_test, y_pred)\n",
    "print(\"Accuracy:\", accuracy)"
   ],
   "metadata": {
    "collapsed": false,
    "ExecuteTime": {
     "end_time": "2023-06-25T18:17:21.128759900Z",
     "start_time": "2023-06-25T18:17:21.111098200Z"
    }
   }
  },
  {
   "cell_type": "markdown",
   "source": [
    "# Feature Importance"
   ],
   "metadata": {
    "collapsed": false
   }
  },
  {
   "cell_type": "code",
   "execution_count": 1098,
   "outputs": [],
   "source": [
    "importance_scores = model.feature_importances_"
   ],
   "metadata": {
    "collapsed": false,
    "ExecuteTime": {
     "end_time": "2023-06-25T18:17:21.204323400Z",
     "start_time": "2023-06-25T18:17:21.133712Z"
    }
   }
  },
  {
   "cell_type": "code",
   "execution_count": null,
   "outputs": [
    {
     "data": {
      "text/plain": "<Figure size 1600x600 with 1 Axes>",
      "image/png": "[encoded data removed]"
     },
     "metadata": {},
     "output_type": "display_data"
    }
   ],
   "source": [
    "plt.figure(figsize=(16, 6))\n",
    "plt.bar(range(len(importance_scores)), importance_scores)\n",
    "plt.xticks(range(len(importance_scores)), X.columns, rotation=90)\n",
    "plt.xlabel('Features')\n",
    "plt.ylabel('Importance Scores')\n",
    "plt.title('Feature Importance')\n",
    "plt.show()"
   ],
   "metadata": {
    "collapsed": false,
    "is_executing": true,
    "ExecuteTime": {
     "start_time": "2023-06-25T18:17:21.141782600Z"
    }
   }
  },
  {
   "cell_type": "code",
   "execution_count": null,
   "outputs": [],
   "source": [
    "score = importance_scores.tolist()"
   ],
   "metadata": {
    "collapsed": false,
    "is_executing": true
   }
  },
  {
   "cell_type": "code",
   "execution_count": null,
   "outputs": [],
   "source": [
    "col_names = X.columns.tolist()"
   ],
   "metadata": {
    "collapsed": false,
    "is_executing": true
   }
  },
  {
   "cell_type": "code",
   "execution_count": null,
   "outputs": [],
   "source": [
    "df_importance = pd.DataFrame({'feature':col_names,\n",
    "                              'score':score})"
   ],
   "metadata": {
    "collapsed": false,
    "is_executing": true
   }
  },
  {
   "cell_type": "code",
   "execution_count": null,
   "outputs": [],
   "source": [
    "df_importance.describe()"
   ],
   "metadata": {
    "collapsed": false,
    "is_executing": true
   }
  },
  {
   "cell_type": "markdown",
   "source": [
    "- Try to remove features with importance lower than the median"
   ],
   "metadata": {
    "collapsed": false
   }
  },
  {
   "cell_type": "code",
   "execution_count": null,
   "outputs": [],
   "source": [
    "selected_features_df = df_importance[df_importance['score']<0.01863]"
   ],
   "metadata": {
    "collapsed": false,
    "is_executing": true
   }
  },
  {
   "cell_type": "code",
   "execution_count": null,
   "outputs": [],
   "source": [
    "selected_features = selected_features_df['feature'].values.tolist()\n",
    "len(selected_features)"
   ],
   "metadata": {
    "collapsed": false,
    "is_executing": true
   }
  },
  {
   "cell_type": "code",
   "execution_count": null,
   "outputs": [],
   "source": [
    "len(col_names)"
   ],
   "metadata": {
    "collapsed": false,
    "is_executing": true
   }
  },
  {
   "cell_type": "code",
   "execution_count": null,
   "outputs": [],
   "source": [
    "print(f\"Remove {len(selected_features)} out of {len(col_names)} features\")"
   ],
   "metadata": {
    "collapsed": false,
    "is_executing": true
   }
  },
  {
   "cell_type": "markdown",
   "source": [
    "- Train model again"
   ],
   "metadata": {
    "collapsed": false
   }
  },
  {
   "cell_type": "code",
   "execution_count": null,
   "outputs": [],
   "source": [
    "model_2 = xgb.XGBClassifier()"
   ],
   "metadata": {
    "collapsed": false,
    "is_executing": true
   }
  },
  {
   "cell_type": "code",
   "execution_count": null,
   "outputs": [],
   "source": [
    "model_2.fit(X_train, y_train)"
   ],
   "metadata": {
    "collapsed": false,
    "is_executing": true
   }
  },
  {
   "cell_type": "code",
   "execution_count": null,
   "outputs": [],
   "source": [
    "y_pred_2 = model_2.predict(X_test)"
   ],
   "metadata": {
    "collapsed": false,
    "is_executing": true
   }
  },
  {
   "cell_type": "code",
   "execution_count": null,
   "outputs": [],
   "source": [
    "accuracy_2 = accuracy_score(y_test, y_pred_2)\n",
    "print(\"Accuracy after dropping less important features: \", accuracy_2)"
   ],
   "metadata": {
    "collapsed": false,
    "is_executing": true
   }
  },
  {
   "cell_type": "code",
   "execution_count": null,
   "outputs": [],
   "source": [
    "print('Accuracy before dropping less important features: ',accuracy)"
   ],
   "metadata": {
    "collapsed": false,
    "is_executing": true
   }
  },
  {
   "cell_type": "markdown",
   "source": [
    "- Inititial, the model with features for the last 30 days had the accuracy ~ 46%, and after adding features for the last whole 10 matches, the accuracy has increased to ~ 49%\n",
    "- And after removing the features which have less impact to the model (score<median score), there is nothing change to the model, therefore, if the data amount increases, can consider to drop features to optimize the training speed"
   ],
   "metadata": {
    "collapsed": false
   }
  },
  {
   "cell_type": "code",
   "execution_count": null,
   "outputs": [],
   "source": [
    "X_train_reduced = X_train[selected_features]\n",
    "X_test_reduced = X_test[selected_features]"
   ],
   "metadata": {
    "collapsed": false,
    "is_executing": true
   }
  },
  {
   "cell_type": "code",
   "execution_count": null,
   "outputs": [],
   "source": [
    "def objective(eta, gamma, subsample, max_depth, min_child_weight):\n",
    "    params = {\n",
    "        'eta': eta,\n",
    "        'gamma': gamma,\n",
    "        'subsample': subsample,\n",
    "        'max_depth': int(max_depth),\n",
    "        'min_child_weight': int(min_child_weight),\n",
    "        'eval_metric': 'error'\n",
    "    }\n",
    "    clf = xgb.XGBClassifier(**params)\n",
    "    dtrain = xgb.DMatrix(X_train_reduced, label=y_train)\n",
    "    cv_results = xgb.cv(params, dtrain, nfold=5)\n",
    "    return -cv_results['test-error-mean'].max()\n",
    "\n",
    "optimizer = BayesianOptimization(\n",
    "    f=objective,\n",
    "    pbounds={\n",
    "        'subsample': (0.1, 0.5),\n",
    "        'eta': (0.01, 0.1),\n",
    "        'gamma': (0, 1),\n",
    "        'max_depth': (3, 10),\n",
    "        'min_child_weight': (1, 5),\n",
    "    },\n",
    "    verbose=1,\n",
    ")\n",
    "\n",
    "optimizer.maximize()\n",
    "\n",
    "best_params = optimizer.max['params']\n",
    "\n",
    "# Convert float to integer, because the optimizer will generate float, and it will trigger error\n",
    "best_params['max_depth'] = int(best_params['max_depth'])\n",
    "best_params['min_child_weight'] = int(best_params['min_child_weight'])"
   ],
   "metadata": {
    "collapsed": false,
    "is_executing": true
   }
  },
  {
   "cell_type": "code",
   "execution_count": null,
   "outputs": [],
   "source": [
    "best_params"
   ],
   "metadata": {
    "collapsed": false,
    "is_executing": true
   }
  },
  {
   "cell_type": "code",
   "execution_count": null,
   "outputs": [],
   "source": [
    "model_3 = xgb.XGBClassifier(**best_params)\n",
    "model_3.fit(X_train_reduced, y_train)"
   ],
   "metadata": {
    "collapsed": false,
    "is_executing": true
   }
  },
  {
   "cell_type": "code",
   "execution_count": null,
   "outputs": [],
   "source": [
    "y_pred_3 = model_3.predict(X_test_reduced)"
   ],
   "metadata": {
    "collapsed": false,
    "is_executing": true
   }
  },
  {
   "cell_type": "code",
   "execution_count": null,
   "outputs": [],
   "source": [
    "accuracy_3 = accuracy_score(y_test, y_pred_3)\n",
    "accuracy_3"
   ],
   "metadata": {
    "collapsed": false,
    "is_executing": true
   }
  },
  {
   "cell_type": "markdown",
   "source": [
    "# Save the models"
   ],
   "metadata": {
    "collapsed": false
   }
  },
  {
   "cell_type": "markdown",
   "source": [
    "Since there is no improvement, the original model shall be used"
   ],
   "metadata": {
    "collapsed": false
   }
  },
  {
   "cell_type": "code",
   "execution_count": null,
   "outputs": [],
   "source": [
    "model_path = \"../../models/demo_model.model\"\n",
    "\n",
    "model.save_model(model_path)\n",
    "\n",
    "# Check if the model file was saved\n",
    "if os.path.exists(model_path):\n",
    "    print(\"Model saved successfully.\")\n",
    "else:\n",
    "    print(\"Failed to save the model.\")"
   ],
   "metadata": {
    "collapsed": false,
    "is_executing": true
   }
  },
  {
   "cell_type": "markdown",
   "source": [
    "# Conclusion"
   ],
   "metadata": {
    "collapsed": false
   }
  },
  {
   "cell_type": "markdown",
   "source": [
    "- There is no improvement by fine tunning the model, this mostly indicates that the issue is at the dataset, not the model.\n",
    "- But due to the time limitation, I will just stop right here, and provide few plans moving forward to increase the accuracy:\n",
    "    + Analyze the dataset deeper and extract the more meaningful features\n",
    "    + Apply feature importance again to just select the most important features, focus on these, inspect the data quality, extract more insights if possible from these features\n",
    "    + Collect external data sources if possible (weather, people-related data such as team members info, etc)"
   ],
   "metadata": {
    "collapsed": false
   }
  },
  {
   "cell_type": "code",
   "execution_count": null,
   "outputs": [],
   "source": [],
   "metadata": {
    "collapsed": false,
    "is_executing": true
   }
  }
 ],
 "metadata": {
  "kernelspec": {
   "display_name": "Python 3",
   "language": "python",
   "name": "python3"
  },
  "language_info": {
   "codemirror_mode": {
    "name": "ipython",
    "version": 2
   },
   "file_extension": ".py",
   "mimetype": "text/x-python",
   "name": "python",
   "nbconvert_exporter": "python",
   "pygments_lexer": "ipython2",
   "version": "2.7.6"
  }
 },
 "nbformat": 4,
 "nbformat_minor": 0
}
