{
 "cells": [
  {
   "cell_type": "markdown",
   "source": [
    "# Requirement: Get results of last 5 matchs between 2 teams"
   ],
   "metadata": {
    "collapsed": false
   }
  },
  {
   "cell_type": "markdown",
   "source": [
    "# Set up"
   ],
   "metadata": {
    "collapsed": false
   }
  },
  {
   "cell_type": "code",
   "execution_count": 15,
   "outputs": [],
   "source": [
    "import pandas as pd"
   ],
   "metadata": {
    "collapsed": false,
    "ExecuteTime": {
     "end_time": "2023-06-26T15:41:41.907699500Z",
     "start_time": "2023-06-26T15:41:41.859671400Z"
    }
   }
  },
  {
   "cell_type": "markdown",
   "source": [
    "# Sourcing"
   ],
   "metadata": {
    "collapsed": false
   }
  },
  {
   "cell_type": "code",
   "execution_count": 16,
   "outputs": [],
   "source": [
    "df = pd.read_feather(\"../data/raw/train.feather\")"
   ],
   "metadata": {
    "collapsed": false,
    "ExecuteTime": {
     "end_time": "2023-06-26T15:41:42.132688300Z",
     "start_time": "2023-06-26T15:41:41.872596400Z"
    }
   }
  },
  {
   "cell_type": "code",
   "execution_count": 17,
   "outputs": [],
   "source": [
    "data = df.copy()"
   ],
   "metadata": {
    "collapsed": false,
    "ExecuteTime": {
     "end_time": "2023-06-26T15:41:42.196322100Z",
     "start_time": "2023-06-26T15:41:42.135279400Z"
    }
   }
  },
  {
   "cell_type": "code",
   "execution_count": 18,
   "outputs": [
    {
     "data": {
      "text/plain": "         id target     home_team_name         away_team_name  \\\n0  11906497   away  Newell's Old Boys            River Plate   \n1  11984383   home        Real Estelí  Deportivo Las Sabanas   \n2  11983301   draw              UPNFM               Marathón   \n3  11983471   away               León                Morelia   \n4  11883005   home     Cobán Imperial                 Iztapa   \n\n            match_date       league_name  league_id is_cup  \\\n0  2019-12-01 00:45:00         Superliga        636  False   \n1  2019-12-01 01:00:00  Primera Division        752  False   \n2  2019-12-01 01:00:00     Liga Nacional        734  False   \n3  2019-12-01 01:00:00           Liga MX        743  False   \n4  2019-12-01 01:00:00     Liga Nacional        705  False   \n\n   home_team_coach_id  away_team_coach_id  ... away_team_history_league_id_1  \\\n0            468196.0            468200.0  ...                        1122.0   \n1            516788.0          22169161.0  ...                         752.0   \n2           2510608.0            456313.0  ...                         734.0   \n3           1552508.0            465797.0  ...                         743.0   \n4            429958.0            426870.0  ...                         705.0   \n\n  away_team_history_league_id_2 away_team_history_league_id_3  \\\n0                         642.0                         636.0   \n1                         752.0                         752.0   \n2                         734.0                         734.0   \n3                         743.0                         743.0   \n4                         705.0                         705.0   \n\n  away_team_history_league_id_4 away_team_history_league_id_5  \\\n0                         636.0                         636.0   \n1                         752.0                         752.0   \n2                         734.0                         734.0   \n3                         743.0                         743.0   \n4                         705.0                         705.0   \n\n  away_team_history_league_id_6 away_team_history_league_id_7  \\\n0                        1122.0                         636.0   \n1                         752.0                         752.0   \n2                         734.0                         734.0   \n3                         743.0                         743.0   \n4                         705.0                         705.0   \n\n  away_team_history_league_id_8 away_team_history_league_id_9  \\\n0                         642.0                         636.0   \n1                         752.0                         752.0   \n2                         734.0                         734.0   \n3                         743.0                         746.0   \n4                         705.0                         705.0   \n\n  away_team_history_league_id_10  \n0                         1122.0  \n1                          752.0  \n2                          734.0  \n3                          743.0  \n4                          705.0  \n\n[5 rows x 190 columns]",
      "text/html": "<div>\n<style scoped>\n    .dataframe tbody tr th:only-of-type {\n        vertical-align: middle;\n    }\n\n    .dataframe tbody tr th {\n        vertical-align: top;\n    }\n\n    .dataframe thead th {\n        text-align: right;\n    }\n</style>\n<table border=\"1\" class=\"dataframe\">\n  <thead>\n    <tr style=\"text-align: right;\">\n      <th></th>\n      <th>id</th>\n      <th>target</th>\n      <th>home_team_name</th>\n      <th>away_team_name</th>\n      <th>match_date</th>\n      <th>league_name</th>\n      <th>league_id</th>\n      <th>is_cup</th>\n      <th>home_team_coach_id</th>\n      <th>away_team_coach_id</th>\n      <th>...</th>\n      <th>away_team_history_league_id_1</th>\n      <th>away_team_history_league_id_2</th>\n      <th>away_team_history_league_id_3</th>\n      <th>away_team_history_league_id_4</th>\n      <th>away_team_history_league_id_5</th>\n      <th>away_team_history_league_id_6</th>\n      <th>away_team_history_league_id_7</th>\n      <th>away_team_history_league_id_8</th>\n      <th>away_team_history_league_id_9</th>\n      <th>away_team_history_league_id_10</th>\n    </tr>\n  </thead>\n  <tbody>\n    <tr>\n      <th>0</th>\n      <td>11906497</td>\n      <td>away</td>\n      <td>Newell's Old Boys</td>\n      <td>River Plate</td>\n      <td>2019-12-01 00:45:00</td>\n      <td>Superliga</td>\n      <td>636</td>\n      <td>False</td>\n      <td>468196.0</td>\n      <td>468200.0</td>\n      <td>...</td>\n      <td>1122.0</td>\n      <td>642.0</td>\n      <td>636.0</td>\n      <td>636.0</td>\n      <td>636.0</td>\n      <td>1122.0</td>\n      <td>636.0</td>\n      <td>642.0</td>\n      <td>636.0</td>\n      <td>1122.0</td>\n    </tr>\n    <tr>\n      <th>1</th>\n      <td>11984383</td>\n      <td>home</td>\n      <td>Real Estelí</td>\n      <td>Deportivo Las Sabanas</td>\n      <td>2019-12-01 01:00:00</td>\n      <td>Primera Division</td>\n      <td>752</td>\n      <td>False</td>\n      <td>516788.0</td>\n      <td>22169161.0</td>\n      <td>...</td>\n      <td>752.0</td>\n      <td>752.0</td>\n      <td>752.0</td>\n      <td>752.0</td>\n      <td>752.0</td>\n      <td>752.0</td>\n      <td>752.0</td>\n      <td>752.0</td>\n      <td>752.0</td>\n      <td>752.0</td>\n    </tr>\n    <tr>\n      <th>2</th>\n      <td>11983301</td>\n      <td>draw</td>\n      <td>UPNFM</td>\n      <td>Marathón</td>\n      <td>2019-12-01 01:00:00</td>\n      <td>Liga Nacional</td>\n      <td>734</td>\n      <td>False</td>\n      <td>2510608.0</td>\n      <td>456313.0</td>\n      <td>...</td>\n      <td>734.0</td>\n      <td>734.0</td>\n      <td>734.0</td>\n      <td>734.0</td>\n      <td>734.0</td>\n      <td>734.0</td>\n      <td>734.0</td>\n      <td>734.0</td>\n      <td>734.0</td>\n      <td>734.0</td>\n    </tr>\n    <tr>\n      <th>3</th>\n      <td>11983471</td>\n      <td>away</td>\n      <td>León</td>\n      <td>Morelia</td>\n      <td>2019-12-01 01:00:00</td>\n      <td>Liga MX</td>\n      <td>743</td>\n      <td>False</td>\n      <td>1552508.0</td>\n      <td>465797.0</td>\n      <td>...</td>\n      <td>743.0</td>\n      <td>743.0</td>\n      <td>743.0</td>\n      <td>743.0</td>\n      <td>743.0</td>\n      <td>743.0</td>\n      <td>743.0</td>\n      <td>743.0</td>\n      <td>746.0</td>\n      <td>743.0</td>\n    </tr>\n    <tr>\n      <th>4</th>\n      <td>11883005</td>\n      <td>home</td>\n      <td>Cobán Imperial</td>\n      <td>Iztapa</td>\n      <td>2019-12-01 01:00:00</td>\n      <td>Liga Nacional</td>\n      <td>705</td>\n      <td>False</td>\n      <td>429958.0</td>\n      <td>426870.0</td>\n      <td>...</td>\n      <td>705.0</td>\n      <td>705.0</td>\n      <td>705.0</td>\n      <td>705.0</td>\n      <td>705.0</td>\n      <td>705.0</td>\n      <td>705.0</td>\n      <td>705.0</td>\n      <td>705.0</td>\n      <td>705.0</td>\n    </tr>\n  </tbody>\n</table>\n<p>5 rows × 190 columns</p>\n</div>"
     },
     "execution_count": 18,
     "metadata": {},
     "output_type": "execute_result"
    }
   ],
   "source": [
    "data.head()"
   ],
   "metadata": {
    "collapsed": false,
    "ExecuteTime": {
     "end_time": "2023-06-26T15:41:42.204829800Z",
     "start_time": "2023-06-26T15:41:42.204829800Z"
    }
   }
  },
  {
   "cell_type": "markdown",
   "source": [
    "# Coding"
   ],
   "metadata": {
    "collapsed": false
   }
  },
  {
   "cell_type": "code",
   "execution_count": 19,
   "outputs": [],
   "source": [
    "data = data[['id','target','home_team_name','away_team_name','match_date']]"
   ],
   "metadata": {
    "collapsed": false,
    "ExecuteTime": {
     "end_time": "2023-06-26T15:41:42.220906Z",
     "start_time": "2023-06-26T15:41:42.204829800Z"
    }
   }
  },
  {
   "cell_type": "code",
   "execution_count": 20,
   "outputs": [
    {
     "data": {
      "text/plain": "         id target     home_team_name         away_team_name  \\\n0  11906497   away  Newell's Old Boys            River Plate   \n1  11984383   home        Real Estelí  Deportivo Las Sabanas   \n2  11983301   draw              UPNFM               Marathón   \n3  11983471   away               León                Morelia   \n4  11883005   home     Cobán Imperial                 Iztapa   \n\n            match_date  \n0  2019-12-01 00:45:00  \n1  2019-12-01 01:00:00  \n2  2019-12-01 01:00:00  \n3  2019-12-01 01:00:00  \n4  2019-12-01 01:00:00  ",
      "text/html": "<div>\n<style scoped>\n    .dataframe tbody tr th:only-of-type {\n        vertical-align: middle;\n    }\n\n    .dataframe tbody tr th {\n        vertical-align: top;\n    }\n\n    .dataframe thead th {\n        text-align: right;\n    }\n</style>\n<table border=\"1\" class=\"dataframe\">\n  <thead>\n    <tr style=\"text-align: right;\">\n      <th></th>\n      <th>id</th>\n      <th>target</th>\n      <th>home_team_name</th>\n      <th>away_team_name</th>\n      <th>match_date</th>\n    </tr>\n  </thead>\n  <tbody>\n    <tr>\n      <th>0</th>\n      <td>11906497</td>\n      <td>away</td>\n      <td>Newell's Old Boys</td>\n      <td>River Plate</td>\n      <td>2019-12-01 00:45:00</td>\n    </tr>\n    <tr>\n      <th>1</th>\n      <td>11984383</td>\n      <td>home</td>\n      <td>Real Estelí</td>\n      <td>Deportivo Las Sabanas</td>\n      <td>2019-12-01 01:00:00</td>\n    </tr>\n    <tr>\n      <th>2</th>\n      <td>11983301</td>\n      <td>draw</td>\n      <td>UPNFM</td>\n      <td>Marathón</td>\n      <td>2019-12-01 01:00:00</td>\n    </tr>\n    <tr>\n      <th>3</th>\n      <td>11983471</td>\n      <td>away</td>\n      <td>León</td>\n      <td>Morelia</td>\n      <td>2019-12-01 01:00:00</td>\n    </tr>\n    <tr>\n      <th>4</th>\n      <td>11883005</td>\n      <td>home</td>\n      <td>Cobán Imperial</td>\n      <td>Iztapa</td>\n      <td>2019-12-01 01:00:00</td>\n    </tr>\n  </tbody>\n</table>\n</div>"
     },
     "execution_count": 20,
     "metadata": {},
     "output_type": "execute_result"
    }
   ],
   "source": [
    "data.head()"
   ],
   "metadata": {
    "collapsed": false,
    "ExecuteTime": {
     "end_time": "2023-06-26T15:41:42.366030100Z",
     "start_time": "2023-06-26T15:41:42.220906Z"
    }
   }
  },
  {
   "cell_type": "code",
   "execution_count": 21,
   "outputs": [
    {
     "data": {
      "text/plain": "              home_team_name    away_team_name  id\n4168             Alajuelense         Herediano   7\n435              AEK Larnaca               AEL   6\n11208  Beitar Tel Aviv Ramla  Hapoel Ramat Gan   6\n49876                Maribor             Bravo   6\n36013              Herediano       Alajuelense   6\n...                      ...               ...  ..\n33666              Győri ETO           Budaörs   1\n33665              Győri ETO      Budafoki MTE   1\n33664              Győri ETO              BVSC   1\n33662               Gyongyos  Mezőkövesd-Zsóry   1\n90835       Žďár nad Sázavou          Humpolec   1\n\n[90836 rows x 3 columns]",
      "text/html": "<div>\n<style scoped>\n    .dataframe tbody tr th:only-of-type {\n        vertical-align: middle;\n    }\n\n    .dataframe tbody tr th {\n        vertical-align: top;\n    }\n\n    .dataframe thead th {\n        text-align: right;\n    }\n</style>\n<table border=\"1\" class=\"dataframe\">\n  <thead>\n    <tr style=\"text-align: right;\">\n      <th></th>\n      <th>home_team_name</th>\n      <th>away_team_name</th>\n      <th>id</th>\n    </tr>\n  </thead>\n  <tbody>\n    <tr>\n      <th>4168</th>\n      <td>Alajuelense</td>\n      <td>Herediano</td>\n      <td>7</td>\n    </tr>\n    <tr>\n      <th>435</th>\n      <td>AEK Larnaca</td>\n      <td>AEL</td>\n      <td>6</td>\n    </tr>\n    <tr>\n      <th>11208</th>\n      <td>Beitar Tel Aviv Ramla</td>\n      <td>Hapoel Ramat Gan</td>\n      <td>6</td>\n    </tr>\n    <tr>\n      <th>49876</th>\n      <td>Maribor</td>\n      <td>Bravo</td>\n      <td>6</td>\n    </tr>\n    <tr>\n      <th>36013</th>\n      <td>Herediano</td>\n      <td>Alajuelense</td>\n      <td>6</td>\n    </tr>\n    <tr>\n      <th>...</th>\n      <td>...</td>\n      <td>...</td>\n      <td>...</td>\n    </tr>\n    <tr>\n      <th>33666</th>\n      <td>Győri ETO</td>\n      <td>Budaörs</td>\n      <td>1</td>\n    </tr>\n    <tr>\n      <th>33665</th>\n      <td>Győri ETO</td>\n      <td>Budafoki MTE</td>\n      <td>1</td>\n    </tr>\n    <tr>\n      <th>33664</th>\n      <td>Győri ETO</td>\n      <td>BVSC</td>\n      <td>1</td>\n    </tr>\n    <tr>\n      <th>33662</th>\n      <td>Gyongyos</td>\n      <td>Mezőkövesd-Zsóry</td>\n      <td>1</td>\n    </tr>\n    <tr>\n      <th>90835</th>\n      <td>Žďár nad Sázavou</td>\n      <td>Humpolec</td>\n      <td>1</td>\n    </tr>\n  </tbody>\n</table>\n<p>90836 rows × 3 columns</p>\n</div>"
     },
     "execution_count": 21,
     "metadata": {},
     "output_type": "execute_result"
    }
   ],
   "source": [
    "data.groupby(by=['home_team_name','away_team_name'], as_index=False).agg({'id':'nunique'}).sort_values(by='id', ascending=False)"
   ],
   "metadata": {
    "collapsed": false,
    "ExecuteTime": {
     "end_time": "2023-06-26T15:41:42.405720200Z",
     "start_time": "2023-06-26T15:41:42.240501100Z"
    }
   }
  },
  {
   "cell_type": "code",
   "execution_count": 22,
   "outputs": [],
   "source": [
    "final_data = data.sort_values(by='match_date', ascending=False)"
   ],
   "metadata": {
    "collapsed": false,
    "ExecuteTime": {
     "end_time": "2023-06-26T15:41:42.405720200Z",
     "start_time": "2023-06-26T15:41:42.318104700Z"
    }
   }
  },
  {
   "cell_type": "code",
   "execution_count": 23,
   "outputs": [],
   "source": [
    "final_data['match_result_last_1'] = final_data.groupby(by=['home_team_name','away_team_name'],\n",
    "                                                       as_index=False)['target'].shift(-1)\n",
    "final_data['match_date_last_1'] = final_data.groupby(by=['home_team_name','away_team_name'],\n",
    "                                                       as_index=False)['match_date'].shift(-1)"
   ],
   "metadata": {
    "collapsed": false,
    "ExecuteTime": {
     "end_time": "2023-06-26T15:41:42.544864400Z",
     "start_time": "2023-06-26T15:41:42.383053500Z"
    }
   }
  },
  {
   "cell_type": "code",
   "execution_count": 24,
   "outputs": [],
   "source": [
    "final_data['match_result_last_2'] = final_data.groupby(by=['home_team_name','away_team_name'],\n",
    "                                                       as_index=False)['target'].shift(-2)\n",
    "final_data['match_date_last_2'] = final_data.groupby(by=['home_team_name','away_team_name'],\n",
    "                                                       as_index=False)['match_date'].shift(-2)"
   ],
   "metadata": {
    "collapsed": false,
    "ExecuteTime": {
     "end_time": "2023-06-26T15:41:42.711054900Z",
     "start_time": "2023-06-26T15:41:42.510629800Z"
    }
   }
  },
  {
   "cell_type": "code",
   "execution_count": 25,
   "outputs": [],
   "source": [
    "final_data['match_result_last_3'] = final_data.groupby(by=['home_team_name','away_team_name'],\n",
    "                                                       as_index=False)['target'].shift(-3)\n",
    "final_data['match_date_last_3'] = final_data.groupby(by=['home_team_name','away_team_name'],\n",
    "                                                       as_index=False)['match_date'].shift(-3)"
   ],
   "metadata": {
    "collapsed": false,
    "ExecuteTime": {
     "end_time": "2023-06-26T15:41:42.790991300Z",
     "start_time": "2023-06-26T15:41:42.679403300Z"
    }
   }
  },
  {
   "cell_type": "code",
   "execution_count": 26,
   "outputs": [],
   "source": [
    "final_data['match_result_last_4'] = final_data.groupby(by=['home_team_name','away_team_name'],\n",
    "                                                       as_index=False)['target'].shift(-4)\n",
    "final_data['match_date_last_4'] = final_data.groupby(by=['home_team_name','away_team_name'],\n",
    "                                                       as_index=False)['match_date'].shift(-4)"
   ],
   "metadata": {
    "collapsed": false,
    "ExecuteTime": {
     "end_time": "2023-06-26T15:41:42.891519600Z",
     "start_time": "2023-06-26T15:41:42.765205800Z"
    }
   }
  },
  {
   "cell_type": "code",
   "execution_count": 27,
   "outputs": [],
   "source": [
    "final_data['match_result_last_5'] = final_data.groupby(by=['home_team_name','away_team_name'],\n",
    "                                                       as_index=False)['target'].shift(-5)\n",
    "final_data['match_date_last_5'] = final_data.groupby(by=['home_team_name','away_team_name'],\n",
    "                                                       as_index=False)['match_date'].shift(-5)"
   ],
   "metadata": {
    "collapsed": false,
    "ExecuteTime": {
     "end_time": "2023-06-26T15:41:43.011399Z",
     "start_time": "2023-06-26T15:41:42.915464700Z"
    }
   }
  },
  {
   "cell_type": "code",
   "execution_count": 29,
   "outputs": [
    {
     "data": {
      "text/plain": "              id target home_team_name      away_team_name  \\\n110937  17786297   home          Colón  Arsenal de Sarandi   \n110936  17944153   away        Everton           La Serena   \n110927  17715494   draw      Rio Claro          Portuguesa   \n110935  17715497   draw   São Bernardo          Água Santa   \n110934  18030096   away     Royal Pari   Oriente Petrolero   \n\n                 match_date match_result_last_1    match_date_last_1  \\\n110937  2021-05-01 00:00:00                 NaN                  NaN   \n110936  2021-05-01 00:00:00                draw  2020-03-14 23:00:00   \n110927  2021-04-30 23:00:00                 NaN                  NaN   \n110935  2021-04-30 23:00:00                 NaN                  NaN   \n110934  2021-04-30 23:00:00                home  2020-01-23 00:30:00   \n\n       match_result_last_2 match_date_last_2 match_result_last_3  \\\n110937                 NaN               NaN                 NaN   \n110936                 NaN               NaN                 NaN   \n110927                 NaN               NaN                 NaN   \n110935                 NaN               NaN                 NaN   \n110934                 NaN               NaN                 NaN   \n\n       match_date_last_3 match_result_last_4 match_date_last_4  \\\n110937               NaN                 NaN               NaN   \n110936               NaN                 NaN               NaN   \n110927               NaN                 NaN               NaN   \n110935               NaN                 NaN               NaN   \n110934               NaN                 NaN               NaN   \n\n       match_result_last_5 match_date_last_5  \n110937                 NaN               NaN  \n110936                 NaN               NaN  \n110927                 NaN               NaN  \n110935                 NaN               NaN  \n110934                 NaN               NaN  ",
      "text/html": "<div>\n<style scoped>\n    .dataframe tbody tr th:only-of-type {\n        vertical-align: middle;\n    }\n\n    .dataframe tbody tr th {\n        vertical-align: top;\n    }\n\n    .dataframe thead th {\n        text-align: right;\n    }\n</style>\n<table border=\"1\" class=\"dataframe\">\n  <thead>\n    <tr style=\"text-align: right;\">\n      <th></th>\n      <th>id</th>\n      <th>target</th>\n      <th>home_team_name</th>\n      <th>away_team_name</th>\n      <th>match_date</th>\n      <th>match_result_last_1</th>\n      <th>match_date_last_1</th>\n      <th>match_result_last_2</th>\n      <th>match_date_last_2</th>\n      <th>match_result_last_3</th>\n      <th>match_date_last_3</th>\n      <th>match_result_last_4</th>\n      <th>match_date_last_4</th>\n      <th>match_result_last_5</th>\n      <th>match_date_last_5</th>\n    </tr>\n  </thead>\n  <tbody>\n    <tr>\n      <th>110937</th>\n      <td>17786297</td>\n      <td>home</td>\n      <td>Colón</td>\n      <td>Arsenal de Sarandi</td>\n      <td>2021-05-01 00:00:00</td>\n      <td>NaN</td>\n      <td>NaN</td>\n      <td>NaN</td>\n      <td>NaN</td>\n      <td>NaN</td>\n      <td>NaN</td>\n      <td>NaN</td>\n      <td>NaN</td>\n      <td>NaN</td>\n      <td>NaN</td>\n    </tr>\n    <tr>\n      <th>110936</th>\n      <td>17944153</td>\n      <td>away</td>\n      <td>Everton</td>\n      <td>La Serena</td>\n      <td>2021-05-01 00:00:00</td>\n      <td>draw</td>\n      <td>2020-03-14 23:00:00</td>\n      <td>NaN</td>\n      <td>NaN</td>\n      <td>NaN</td>\n      <td>NaN</td>\n      <td>NaN</td>\n      <td>NaN</td>\n      <td>NaN</td>\n      <td>NaN</td>\n    </tr>\n    <tr>\n      <th>110927</th>\n      <td>17715494</td>\n      <td>draw</td>\n      <td>Rio Claro</td>\n      <td>Portuguesa</td>\n      <td>2021-04-30 23:00:00</td>\n      <td>NaN</td>\n      <td>NaN</td>\n      <td>NaN</td>\n      <td>NaN</td>\n      <td>NaN</td>\n      <td>NaN</td>\n      <td>NaN</td>\n      <td>NaN</td>\n      <td>NaN</td>\n      <td>NaN</td>\n    </tr>\n    <tr>\n      <th>110935</th>\n      <td>17715497</td>\n      <td>draw</td>\n      <td>São Bernardo</td>\n      <td>Água Santa</td>\n      <td>2021-04-30 23:00:00</td>\n      <td>NaN</td>\n      <td>NaN</td>\n      <td>NaN</td>\n      <td>NaN</td>\n      <td>NaN</td>\n      <td>NaN</td>\n      <td>NaN</td>\n      <td>NaN</td>\n      <td>NaN</td>\n      <td>NaN</td>\n    </tr>\n    <tr>\n      <th>110934</th>\n      <td>18030096</td>\n      <td>away</td>\n      <td>Royal Pari</td>\n      <td>Oriente Petrolero</td>\n      <td>2021-04-30 23:00:00</td>\n      <td>home</td>\n      <td>2020-01-23 00:30:00</td>\n      <td>NaN</td>\n      <td>NaN</td>\n      <td>NaN</td>\n      <td>NaN</td>\n      <td>NaN</td>\n      <td>NaN</td>\n      <td>NaN</td>\n      <td>NaN</td>\n    </tr>\n  </tbody>\n</table>\n</div>"
     },
     "execution_count": 29,
     "metadata": {},
     "output_type": "execute_result"
    }
   ],
   "source": [
    "final_data.head()"
   ],
   "metadata": {
    "collapsed": false,
    "ExecuteTime": {
     "end_time": "2023-06-26T15:41:52.621265800Z",
     "start_time": "2023-06-26T15:41:52.560999800Z"
    }
   }
  },
  {
   "cell_type": "code",
   "execution_count": 30,
   "outputs": [],
   "source": [
    "final_data.to_csv(\"../data/predicted/question_2_result.csv\")"
   ],
   "metadata": {
    "collapsed": false,
    "ExecuteTime": {
     "end_time": "2023-06-26T15:43:37.080077800Z",
     "start_time": "2023-06-26T15:43:36.854915900Z"
    }
   }
  },
  {
   "cell_type": "code",
   "execution_count": null,
   "outputs": [],
   "source": [],
   "metadata": {
    "collapsed": false
   }
  }
 ],
 "metadata": {
  "kernelspec": {
   "display_name": "Python 3",
   "language": "python",
   "name": "python3"
  },
  "language_info": {
   "codemirror_mode": {
    "name": "ipython",
    "version": 2
   },
   "file_extension": ".py",
   "mimetype": "text/x-python",
   "name": "python",
   "nbconvert_exporter": "python",
   "pygments_lexer": "ipython2",
   "version": "2.7.6"
  }
 },
 "nbformat": 4,
 "nbformat_minor": 0
}
